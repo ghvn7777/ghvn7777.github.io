{
 "cells": [
  {
   "cell_type": "markdown",
   "metadata": {},
   "source": [
    "我们通过一个在控制台中旋转显示 `\"|/-\\\"` 的动画指针来展示用线程和 asyncio 的不同\n",
    "\n",
    "注意下面的两个代码在控制台可以显示动画，在这里不行"
   ]
  },
  {
   "cell_type": "code",
   "execution_count": 1,
   "metadata": {},
   "outputs": [
    {
     "name": "stdout",
     "output_type": "stream",
     "text": [
      "spinner object: <Thread(Thread-4, initial)>\n",
      "| thinking/ thinking- thinking\\ thinking| thinking/ thinking- thinking\\ thinking| thinking/ thinking- thinking\\ thinking| thinking/ thinking- thinking\\ thinking| thinking/ thinking- thinking\\ thinking| thinking/ thinking- thinking\\ thinking| thinking/ thinking- thinking\\ thinking| thinking/ thinking          Answer: 42\n"
     ]
    }
   ],
   "source": [
    "import threading\n",
    "import itertools\n",
    "import time\n",
    "import sys\n",
    "\n",
    "class Signal:\n",
    "    go = True\n",
    "  \n",
    "\n",
    "def spin(msg, signal):\n",
    "    write, flush = sys.stdout.write, sys.stdout.flush\n",
    "    for char in itertools.cycle('|/-\\\\'):\n",
    "        status = char + ' ' + msg\n",
    "        write(status)\n",
    "        flush()\n",
    "        write('\\x08' * len(status)) # \\x08 是退格符\n",
    "        time.sleep(.1)\n",
    "        if not signal.go:\n",
    "            break\n",
    "    write(' ' * len(status) + '\\x08' * len(status)) # 最后用空格擦除屏幕内容，把光标移回开头\n",
    "    \n",
    "def slow_function():\n",
    "    time.sleep(3) # 3 秒动画\n",
    "    return 42\n",
    "\n",
    "def supervisor():\n",
    "    signal = Signal()\n",
    "    spinner = threading.Thread(target=spin,\n",
    "                               args=('thinking!', signal))\n",
    "    print('spinner object:', spinner)\n",
    "    spinner.start()\n",
    "    result = slow_function()\n",
    "    signal.go = False\n",
    "    spinner.join()\n",
    "    return result\n",
    "\n",
    "def main():\n",
    "    result = supervisor()\n",
    "    print('Answer:', result)\n",
    "    \n",
    "main()"
   ]
  },
  {
   "cell_type": "code",
   "execution_count": 2,
   "metadata": {},
   "outputs": [
    {
     "name": "stdout",
     "output_type": "stream",
     "text": [
      "spinner object: <Task pending coro=<spin() running at <ipython-input-2-b2636da91070>:5>>\n",
      "| thinking/ thinking- thinking\\ thinking| thinking/ thinking- thinking\\ thinking| thinking/ thinking- thinking\\ thinking| thinking/ thinking- thinking\\ thinking| thinking/ thinking- thinking\\ thinking| thinking/ thinking- thinking\\ thinking| thinking/ thinking- thinking\\ thinking| thinking/ thinking          Answer: 42\n"
     ]
    }
   ],
   "source": [
    "import asyncio\n",
    "import itertools\n",
    "import sys\n",
    "\n",
    "@asyncio.coroutine # 打算交给 asyncio 处理的使用此装饰器，不是强制要求，但强烈建议这么做，原因后面讲\n",
    "def spin(msg): # 这里不需要上面例子中的 signal 参数\n",
    "    write, flush = sys.stdout.write, sys.stdout.flush\n",
    "    for char in itertools.cycle('|/-\\\\'):\n",
    "        status = char + ' ' + msg\n",
    "        write(status)\n",
    "        flush()\n",
    "        write('\\x08' * len(status))\n",
    "        try:\n",
    "            yield from asyncio.sleep(.1) # 代替 time.sleep(.1)，这样休眠不会阻塞事件循环\n",
    "        except asyncio.CancelledError: # 如果 spin 函数苏醒后抛出此异常，其原因是发出了取消请求，因此退出循环\n",
    "            break\n",
    "    write(' ' * len(status) + '\\x08' * len(status))\n",
    "  \n",
    "@asyncio.coroutine\n",
    "def slow_function(): # 现在这个函数是协程，在用休眠假装进行 I/O 操作时，使用 yield from 继续执行事件循环\n",
    "    yield from asyncio.sleep(3) # 将控制权交给主循环，3 秒后休眠结束恢复此线程\n",
    "    return 42\n",
    "\n",
    "@asyncio.coroutine\n",
    "def supervisor(): # 这个函数是协程，因此可以使用 yield from 驱动 slow_function() 函数\n",
    "    spinner = asyncio.async(spin('thinking!')) # 排定 spin 协程的运行时间，使用一个 Task 对象包装 spin 协程，并立即返回\n",
    "    print('spinner object:', spinner)\n",
    "    result = yield from slow_function() # 驱动 slow_function(), 结束后获取返回值，同时事件继续执行，因为此函数 sleep 将控制权交回主循环\n",
    "    spinner.cancel() # Task 对象可以取消，取消后会在协程当前暂停的 yield 抛出 asyncio.CancelledError 异常，协程可以捕获这个异常，也可以延时取消，甚至可以不取消\n",
    "    return result\n",
    "\n",
    "def main():\n",
    "    loop = asyncio.get_event_loop() # 获取事件循环的引用\n",
    "    result = loop.run_until_complete(supervisor()) # 驱动 supervisor，让其运行完毕，这个协程返回的是这次调用的返回值\n",
    "    loop.close()\n",
    "    print('Answer:', result)\n",
    "    \n",
    "main()"
   ]
  },
  {
   "cell_type": "markdown",
   "metadata": {
    "collapsed": true
   },
   "source": [
    "使用 @asyncio.coroutine 装饰器不是强制要求，但是强烈建议这么做，因为这样能在一众普通的函数中把协程凸现出来，也有助于调试，如果还没从中产出值，协程就被垃圾回收了（意味着有操作未完成，因此可能是个缺陷），那就可以发出警告。这个装饰器不会预激协程\n",
    "\n",
    "注意这两个函数的不同"
   ]
  },
  {
   "cell_type": "code",
   "execution_count": 2,
   "metadata": {
    "collapsed": true
   },
   "outputs": [],
   "source": [
    "# def supervisor():\n",
    "#     signal = Signal()\n",
    "#     spinner = threading.Thread(target=spin,\n",
    "#                                args=('thinking!', signal))\n",
    "#     print('spinner object:', spinner)\n",
    "#     spinner.start()\n",
    "#     result = slow_function()\n",
    "#     signal.go = False\n",
    "#     spinner.join()\n",
    "#     return result\n",
    "\n",
    "# @asyncio.coroutine\n",
    "# def supervisor(): # 这个函数是协程，因此可以使用 yield from 驱动 slow_function() 函数\n",
    "#     spinner = asyncio.async(spin('thinking!')) # 排定 spin 协程的运行时间，使用一个 Task 对象包装 spin 协程，并立即返回\n",
    "#     print('spinner object:', spinner)\n",
    "#     result = yield from slow_function() # 驱动 slow_function(), 结束后获取返回值，同时事件继续执行，因为此函数 sleep 将控制权交回主循环\n",
    "#     spinner.cancel() # Task 对象可以取消，取消后会在协程当前暂停的 yield 抛出 asyncio.CancelledError 异常，协程可以捕获这个异常，也可以延时取消，甚至可以不取消\n",
    "#     return result"
   ]
  },
  {
   "cell_type": "markdown",
   "metadata": {},
   "source": [
    "主要区别如下：\n",
    "\n",
    "- asyncio.Task 对象差不多与 threading.Thread 对象等效\n",
    "- Task 对象用于驱动协程，Thread 对象用于调用可调用对象\n",
    "- Task 对象不由自己手动实例化，而是通过把协程川贝 asyncio.async(...) 函数或 loop.create_task(...) 方法获取\n",
    "- 获取的 Task 对象已经排定了运行时间（例如，由 asyncio.async 函数排定）；Thread 实例则必须调用 start 方法，明确告知让它运行\n",
    "- 在线程版 supervisor 函数中，slow_function() 函数是普通的函数，直接由线程调用。在异步版 supervisor 函数中，此函数是协程，由 yield from 驱动\n",
    "- 没有 API 能从外部终止线程，因为线程随时可能被中断，导致系统处于无效状态。如果想终止任务，可以使用 Task.cancel() 实例方法，在协程内部抛出 CancelledError 异常。协程可以在暂停的 yield 处捕获这个异常，处理终止请求\n",
    "- supervisor 协程必须在 main 函数中由 loop.run_until_complete 方法执行\n",
    "\n",
    "线程与协程还有一点区别要说明：如果使用线程编程，调度程序任何时候都能中断线程，必须记住保留锁，去保护程序中的重要部分，防止多步操作在执行的过程中中断，防止数据处于无效状态\n",
    "\n",
    "协程默认会做好全方位包含，防止中断，我们必须显式产出才能让程序的余下部分运行，对于协程来说，无需保留锁，在多个线程之间同步操作，协程自身就会同步，因此在任意时刻只有一个协程运行，想交出控制权时，可以使用 yield 或 yield from 把控制权交还给调度程序。这就是能够安全地取消协程的原因：按照定义，协程只能在暂停的 yield 处取消，因此可以处理 CancelledError 异常，执行清理操作\n",
    "\n",
    "## asyncio.Future 故意不阻塞\n",
    "\n",
    "asyncio.Future 类和 concurrent.futures.Futer 类的接口基本一致，不过实现方式不同，不能互换。\n",
    "\n",
    "期物只是调度执行某物的结果，在 asyncio 包中，BaseEventLoop.create_task(...) 方法来接收一个协程，排定它的运行时间，然后返回一个 asyncio.Task 实例 -- 也是 asyncio.Future 类的实例，因为 Task 是 Future 的子类，用于包装协程，这与调用 Executor.submit(...) 方法创建 concurrent.futures.Future 实例是一个道理\n",
    "\n",
    "与 concurrent.futures.Future 类似，asyncio.Future 类也提供了 .done(), .add_done_callback(...) 和  .result()  等方法。前两个方法的用法与上一章例子一样，不过 .result() 方法差别很大\n",
    "\n",
    "asyncio.Future 类的 .result() 方法没有参数，因此不能指定超时时间，此外，如果调用 .result() 方法时期物还没运行完毕，.result() 也不会阻塞等待结果，而是抛出 asyncio.InvalidStateError 异常\n",
    "\n",
    "然而，获取 asyncio.Future 对象通常使用 yield from，从中产出结果\n",
    "\n",
    "使用 yield from 处理期物，等待期物运行完毕这一步无需我们关心，而且不会阻塞事件循环，因为在 asyncio 包中，yield from 作用是把控制权交还给事件循环\n",
    "\n",
    "注意，使用 yield from 处理期物与使用 add_done_callback 方法处理协程的作用一样：延时操作结束后，事件循环不会触发回调对象，而是设置期物的返回值，而 yield from 表达式则在暂停的协程中产生返回值，恢复执行协程\n",
    "\n",
    "总之，因为 asyncio.Future 类的目的是与 yield from 一起使用，所以通常不需要使用以下方法\n",
    "\n",
    "- 无需调用 my_future.add_done_callback(...)，因为可以直接把想在期物运行结束后执行的操作放到协程中的 yield from my_future 表达式后面。这是协程的一大优势：协程是可以暂停和恢复的函数\n",
    "- 无需调用 my_future.result()，因为 yield from 从期物中产出的值就是结果（例如 result = yield from my_future) \n",
    "\n",
    "当然，有时也是用这些方法，但是一般情况下， asyncio.Future 对象是由 yield from 驱动，而不是靠调用这些方法驱动\n",
    "\n",
    "## 从期物、任务和协程中产出\n",
    "\n",
    "在 asyncio 包中，期物与协程关系紧密，因为可以使用 yield from 从 asyncio.Future 对象中产出结果。这意味着，如果 foo 是协程函数（调用后返回协程对象），抑或是返回 Future 或 Task 实例的普通函数，那么可以这样写: res = yield from foo() 。这是 asyncio 包的 API中很多地方可以互换协程与期物的原因之一\n",
    "\n",
    "为了执行这些操作，必须排定协程运行时间，然后使用 asyncio.Task 对象包装协程。对协程来说，获取 Task 对象有两种主要方式\n",
    "\n",
    "asyncio.async(coro_or_future, *, loop=None)\n",
    "\n",
    "- 这个函数统一了协程与期物：第一个参数可以是二者中的任意一个。如果是 Future 或 Task对象，那就原封不动的返回，如果是协程，那么 async 函数会调用 loop.create_task(...) 方法创建 Task 对象，loop 关键字是可选的用于传入事件循环；如果没有传入，那么 async 函数会通过调用 asyncio.get_event_loop() 函数获取循环对象\n",
    "\n",
    "BaseEventLoop.create_task(..."
   ]
  },
  {
   "cell_type": "code",
   "execution_count": null,
   "metadata": {
    "collapsed": true
   },
   "outputs": [],
   "source": []
  }
 ],
 "metadata": {
  "kernelspec": {
   "display_name": "Python 3",
   "language": "python",
   "name": "python3"
  },
  "language_info": {
   "codemirror_mode": {
    "name": "ipython",
    "version": 3
   },
   "file_extension": ".py",
   "mimetype": "text/x-python",
   "name": "python",
   "nbconvert_exporter": "python",
   "pygments_lexer": "ipython3",
   "version": "3.5.3"
  }
 },
 "nbformat": 4,
 "nbformat_minor": 2
}
