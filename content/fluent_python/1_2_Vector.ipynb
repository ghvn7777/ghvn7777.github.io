{
 "cells": [
  {
   "cell_type": "markdown",
   "metadata": {},
   "source": [
    "## 实现向量类\n",
    "\n",
    "我们想要实现一个简单的支持加法，取绝对值，标量乘法的二维向量类"
   ]
  },
  {
   "cell_type": "code",
   "execution_count": 21,
   "metadata": {
    "collapsed": true
   },
   "outputs": [],
   "source": [
    "from math import hypot\n",
    "\n",
    "class Vector:\n",
    "    def __init__(self, x = 0, y = 0):\n",
    "        self.x = x\n",
    "        self.y = y\n",
    "    \n",
    "    def __repr__(self):\n",
    "        #%r 相当于 %s 不过 %s意义是字符串 %r意义是使用repr,而不是str\n",
    "        return \"Vector(%r, %r)\" % (self.x, self.y)\n",
    "    \n",
    "    def __abs__(self):\n",
    "        return hypot(self.x, self.y) #返回欧几里德范数 sqrt(x*x + y*y)\n",
    "    \n",
    "    def __bool__(self):\n",
    "        return bool(abs(self))\n",
    "    \n",
    "    def __add__(self, other):\n",
    "        x = self.x + other.x\n",
    "        y = self.y + other.y\n",
    "        return Vector(x, y)\n",
    "    \n",
    "    def __mul__(self, scalar):\n",
    "        return Vector(self.x * scalar, self.y * scalar)"
   ]
  },
  {
   "cell_type": "markdown",
   "metadata": {},
   "source": [
    "## `__repr__`"
   ]
  },
  {
   "cell_type": "code",
   "execution_count": 16,
   "metadata": {
    "collapsed": false
   },
   "outputs": [
    {
     "data": {
      "text/plain": [
       "Vector(0, 0)"
      ]
     },
     "execution_count": 16,
     "metadata": {},
     "output_type": "execute_result"
    }
   ],
   "source": [
    "test = Vector()\n",
    "test #如果注释 __repr__() 方法, 显示 <__main__.Vector at 0x7f587c4c1320>"
   ]
  },
  {
   "cell_type": "markdown",
   "metadata": {},
   "source": [
    "`__repr__()` 的返回尽量精确的与类一致, 与 `__repr__` 比较 `__str__` 是由 `str()` 函数调用，并可以让 `print()` 函数使用。`__str__` 会返回适合使用者观看的格式，所以 `__repr__` 的目标是明确，`__str__` 的目标是可读（另外，`__str__` 包含了 `__repr__`）\n",
    "\n",
    "---\n",
    "\n",
    "如果没有定义 `__str__` Python 会调用 `__repr__`"
   ]
  },
  {
   "cell_type": "code",
   "execution_count": 19,
   "metadata": {
    "collapsed": false
   },
   "outputs": [
    {
     "data": {
      "text/plain": [
       "'Vector(0, 0)'"
      ]
     },
     "execution_count": 19,
     "metadata": {},
     "output_type": "execute_result"
    }
   ],
   "source": [
    "str(test)"
   ]
  },
  {
   "cell_type": "markdown",
   "metadata": {},
   "source": [
    "## 运算符操作\n",
    "\n",
    "`+` 和 `*` 分别调用的是 `__add__` 和 `__mul__` 注意这里我们没有修改 self.x, self.y，而是返回了一个新的实例，这是中缀表达式的预期行为，建立新的类，并不操作原来的类"
   ]
  },
  {
   "cell_type": "code",
   "execution_count": 20,
   "metadata": {
    "collapsed": false
   },
   "outputs": [
    {
     "data": {
      "text/plain": [
       "Vector(4, 5)"
      ]
     },
     "execution_count": 20,
     "metadata": {},
     "output_type": "execute_result"
    }
   ],
   "source": [
    "v1 = Vector(2, 4)\n",
    "v2 = Vector(2, 1)\n",
    "v1 + v2"
   ]
  },
  {
   "cell_type": "code",
   "execution_count": 22,
   "metadata": {
    "collapsed": false
   },
   "outputs": [
    {
     "data": {
      "text/plain": [
       "Vector(6, 12)"
      ]
     },
     "execution_count": 22,
     "metadata": {},
     "output_type": "execute_result"
    }
   ],
   "source": [
    "v1 * 3"
   ]
  },
  {
   "cell_type": "markdown",
   "metadata": {},
   "source": [
    "注意现在我们只能将一个类乘数字，而不能用数字乘类，到后面的章节我们会实现这种乘法的交换性\n",
    "\n",
    "## 自定义类型的布尔值\n",
    "\n",
    "在 if, while 等陈述式运算式，或者 and, or, not 等运算，为了判断值是 true 或 false，Python 会调用 `bool()` 函数，它永远只返回 true 或 false。\n",
    "\n",
    "在默认情况下，使用者自定义的实例都是 true，基本上，`bool()` 会调用 `__bool__()`，并使用它的返回值。如果你没有 `__bool__`，会尝试调用 `__len__`，如果 `__len__()` 等于 0，返回 false，否则返回 true\n",
    "\n",
    "我们的 `__bool__`　逻辑很简单，看向量长度是否为 0。"
   ]
  },
  {
   "cell_type": "markdown",
   "metadata": {},
   "source": [
    "## 为什么 len 不是一种方法\n",
    "\n",
    "Raymond Hettinger 说: \"practicality beats purity\"(实用比单纯重要)。因为 len()　是 CPython 内建方法，跑起来非常快，len() 是一种常见操作，所以要保证效率"
   ]
  }
 ],
 "metadata": {
  "kernelspec": {
   "display_name": "Python 3",
   "language": "python",
   "name": "python3"
  },
  "language_info": {
   "codemirror_mode": {
    "name": "ipython",
    "version": 3
   },
   "file_extension": ".py",
   "mimetype": "text/x-python",
   "name": "python",
   "nbconvert_exporter": "python",
   "pygments_lexer": "ipython3",
   "version": "3.5.3"
  }
 },
 "nbformat": 4,
 "nbformat_minor": 2
}
