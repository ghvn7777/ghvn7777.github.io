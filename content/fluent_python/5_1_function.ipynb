{
 "cells": [
  {
   "cell_type": "markdown",
   "metadata": {
    "deletable": true,
    "editable": true
   },
   "source": [
    "在 Python 中，函数是一等对象。编程语言理论家把 “一等对象” 定义为满足下面条件的程序实体：\n",
    "\n",
    "- 在运行时创建\n",
    "- 能赋值给变量或者数据结构中的元素\n",
    "- 能作为参数传给函数\n",
    "- 能作为函数返回结果\n",
    "\n",
    "Python 中，整数、字符串和字典都是一等对象。人们经常将　”把函数视作一等对象“ 简称为 ”一等函数“。这样说并不完美，似乎表明函数是一等对象中的特殊群体。在 Python 中，所有的函数都是一等对象\n",
    "\n",
    "## 把函数视作对象\n",
    "\n",
    "下面的例子表明 Python 函数是对象，创建了一个函数，然后调用它，读取它的 `__doc__` 属性，并确定函数对象本身是 function 类的实例"
   ]
  },
  {
   "cell_type": "code",
   "execution_count": 6,
   "metadata": {
    "collapsed": false,
    "deletable": true,
    "editable": true
   },
   "outputs": [
    {
     "data": {
      "text/plain": [
       "1405006117752879898543142606244511569936384000000000"
      ]
     },
     "execution_count": 6,
     "metadata": {},
     "output_type": "execute_result"
    }
   ],
   "source": [
    "def factorial(n):\n",
    "    '''return n!'''\n",
    "    return 1 if n < 2 else n * factorial(n - 1)\n",
    "\n",
    "factorial(42)"
   ]
  },
  {
   "cell_type": "code",
   "execution_count": 2,
   "metadata": {
    "collapsed": false,
    "deletable": true,
    "editable": true
   },
   "outputs": [
    {
     "data": {
      "text/plain": [
       "'return n!'"
      ]
     },
     "execution_count": 2,
     "metadata": {},
     "output_type": "execute_result"
    }
   ],
   "source": [
    "factorial.__doc__"
   ]
  },
  {
   "cell_type": "code",
   "execution_count": 3,
   "metadata": {
    "collapsed": false,
    "deletable": true,
    "editable": true
   },
   "outputs": [
    {
     "data": {
      "text/plain": [
       "function"
      ]
     },
     "execution_count": 3,
     "metadata": {},
     "output_type": "execute_result"
    }
   ],
   "source": [
    "type(factorial)"
   ]
  },
  {
   "cell_type": "markdown",
   "metadata": {
    "deletable": true,
    "editable": true
   },
   "source": [
    "下面展示了函数对象的的 ”一等“ 本性。我们可以把 factorial 函数赋值给变量 fact，然后通过变量名调用。我们还能把它当做参数传给 map 函数。"
   ]
  },
  {
   "cell_type": "code",
   "execution_count": 4,
   "metadata": {
    "collapsed": false,
    "deletable": true,
    "editable": true
   },
   "outputs": [
    {
     "data": {
      "text/plain": [
       "120"
      ]
     },
     "execution_count": 4,
     "metadata": {},
     "output_type": "execute_result"
    }
   ],
   "source": [
    "fact= factorial\n",
    "fact(5)"
   ]
  },
  {
   "cell_type": "code",
   "execution_count": 5,
   "metadata": {
    "collapsed": false,
    "deletable": true,
    "editable": true
   },
   "outputs": [
    {
     "data": {
      "text/plain": [
       "<map at 0x7f140854d3c8>"
      ]
     },
     "execution_count": 5,
     "metadata": {},
     "output_type": "execute_result"
    }
   ],
   "source": [
    "map(factorial, range(11))"
   ]
  },
  {
   "cell_type": "code",
   "execution_count": 6,
   "metadata": {
    "collapsed": false,
    "deletable": true,
    "editable": true
   },
   "outputs": [
    {
     "data": {
      "text/plain": [
       "[1, 1, 2, 6, 24, 120, 720, 5040, 40320, 362880, 3628800]"
      ]
     },
     "execution_count": 6,
     "metadata": {},
     "output_type": "execute_result"
    }
   ],
   "source": [
    "list(map(factorial, range(11)))"
   ]
  },
  {
   "cell_type": "markdown",
   "metadata": {
    "deletable": true,
    "editable": true
   },
   "source": [
    "有了一等函数，就可以使用函数式风格编程，函数式编程的特点之一就是使用高阶函数\n",
    "\n",
    "## 高阶函数\n",
    "\n",
    "接收函数为参数，或者把函数作为返回结果的函数是高阶函数，map 就是一个例子。此外内置函数 sorted 也是。可选的 key 参数用于提供一个函数，它会应用到各个元素上进行排序，看下面例子"
   ]
  },
  {
   "cell_type": "code",
   "execution_count": 7,
   "metadata": {
    "collapsed": false,
    "deletable": true,
    "editable": true
   },
   "outputs": [
    {
     "data": {
      "text/plain": [
       "['fig', 'apple', 'cherry', 'banana', 'raspberry', 'strawberry']"
      ]
     },
     "execution_count": 7,
     "metadata": {},
     "output_type": "execute_result"
    }
   ],
   "source": [
    "fruits = ['strawberry', 'fig', 'apple', 'cherry', 'raspberry', 'banana']\n",
    "sorted(fruits, key = len)"
   ]
  },
  {
   "cell_type": "markdown",
   "metadata": {
    "deletable": true,
    "editable": true
   },
   "source": [
    "任何单参数函数都能作为 key 参数的值。例如为了创建押韵词典，可以把各个单词反过来拼写，然后排序"
   ]
  },
  {
   "cell_type": "code",
   "execution_count": 9,
   "metadata": {
    "collapsed": false,
    "deletable": true,
    "editable": true
   },
   "outputs": [
    {
     "data": {
      "text/plain": [
       "'gnitset'"
      ]
     },
     "execution_count": 9,
     "metadata": {},
     "output_type": "execute_result"
    }
   ],
   "source": [
    "def reverse(word):\n",
    "    return word[::-1]\n",
    "reverse('testing')"
   ]
  },
  {
   "cell_type": "code",
   "execution_count": 10,
   "metadata": {
    "collapsed": false,
    "deletable": true,
    "editable": true
   },
   "outputs": [
    {
     "data": {
      "text/plain": [
       "['banana', 'apple', 'fig', 'raspberry', 'strawberry', 'cherry']"
      ]
     },
     "execution_count": 10,
     "metadata": {},
     "output_type": "execute_result"
    }
   ],
   "source": [
    "sorted(fruits, key = reverse)"
   ]
  },
  {
   "cell_type": "markdown",
   "metadata": {
    "deletable": true,
    "editable": true
   },
   "source": [
    "在函数式编程中，最让人熟知的高阶函数有 map，filter，reduce 和 apply。apply 在 Python 2.3 中被标记过时，Python 3 中移除了，如果想用不定量的参数调用函数，可以编写 `fn(*args, **keywords)`\n",
    "\n",
    "map，filter 和 reduce 的替代品\n",
    "\n",
    "在 Python 3 中 map 和 filter 还是内置函数，但是由于引入了列表推导式和生成器表达式，它们变得没那么重要。因为完全可以替代它们。而且使用更方便："
   ]
  },
  {
   "cell_type": "code",
   "execution_count": 11,
   "metadata": {
    "collapsed": false,
    "deletable": true,
    "editable": true
   },
   "outputs": [
    {
     "data": {
      "text/plain": [
       "[1, 1, 2, 6, 24, 120]"
      ]
     },
     "execution_count": 11,
     "metadata": {},
     "output_type": "execute_result"
    }
   ],
   "source": [
    "list(map(fact, range(6)))"
   ]
  },
  {
   "cell_type": "code",
   "execution_count": 12,
   "metadata": {
    "collapsed": false,
    "deletable": true,
    "editable": true
   },
   "outputs": [
    {
     "data": {
      "text/plain": [
       "[1, 1, 2, 6, 24, 120]"
      ]
     },
     "execution_count": 12,
     "metadata": {},
     "output_type": "execute_result"
    }
   ],
   "source": [
    "[fact(n) for n in range(6)]"
   ]
  },
  {
   "cell_type": "code",
   "execution_count": 13,
   "metadata": {
    "collapsed": false,
    "deletable": true,
    "editable": true
   },
   "outputs": [
    {
     "data": {
      "text/plain": [
       "[1, 6, 120]"
      ]
     },
     "execution_count": 13,
     "metadata": {},
     "output_type": "execute_result"
    }
   ],
   "source": [
    "list(map(factorial, filter(lambda n: n % 2, range(6)))) # 计算 6 以内的奇数的阶乘"
   ]
  },
  {
   "cell_type": "code",
   "execution_count": 14,
   "metadata": {
    "collapsed": false,
    "deletable": true,
    "editable": true
   },
   "outputs": [
    {
     "data": {
      "text/plain": [
       "[1, 6, 120]"
      ]
     },
     "execution_count": 14,
     "metadata": {},
     "output_type": "execute_result"
    }
   ],
   "source": [
    "[factorial(n) for n in range(6) if n % 2]"
   ]
  },
  {
   "cell_type": "markdown",
   "metadata": {
    "deletable": true,
    "editable": true
   },
   "source": [
    "在 Python 2 中，reduce 是内置函数，Python 3 中放到了 functools 模块中，这个函数最常用于求和，自从 2003 年发布的 Python 2.3 开始，最好使用内置的 sum 函数。可读性和效率都更好"
   ]
  },
  {
   "cell_type": "code",
   "execution_count": 16,
   "metadata": {
    "collapsed": false,
    "deletable": true,
    "editable": true
   },
   "outputs": [
    {
     "data": {
      "text/plain": [
       "4950"
      ]
     },
     "execution_count": 16,
     "metadata": {},
     "output_type": "execute_result"
    }
   ],
   "source": [
    "from functools import reduce\n",
    "from operator import add\n",
    "reduce(add, range(100))"
   ]
  },
  {
   "cell_type": "code",
   "execution_count": 17,
   "metadata": {
    "collapsed": false,
    "deletable": true,
    "editable": true
   },
   "outputs": [
    {
     "data": {
      "text/plain": [
       "4950"
      ]
     },
     "execution_count": 17,
     "metadata": {},
     "output_type": "execute_result"
    }
   ],
   "source": [
    "sum(range(100))"
   ]
  },
  {
   "cell_type": "markdown",
   "metadata": {
    "deletable": true,
    "editable": true
   },
   "source": [
    "sum 和 reduce 的通用思想是把某个操作连续应用到序列的元素上，累计之前的结果，把一系列值归约成一个。\n",
    "\n",
    "all 和 any 也是内置归约函数 \n",
    "\n",
    "all(iterable) \n",
    "\n",
    "- 如果 iterable 每个元素都为真，返回 True，all([]) 返回 True\n",
    "\n",
    "any(iterable)\n",
    "\n",
    "- 如果 iterable 有一个元素为真，返回 True any([]) 返回 False\n",
    "\n",
    "第 10 章将会深入讲解 reduce 函数\n",
    "\n",
    "## 匿名函数\n",
    "\n",
    "lambda 关键字是在 Python 表达式创建匿名函数。\n",
    "\n",
    "然而，Python 简单的语法限制了 lambda 函数的定义体只能用于纯表达式。换句话说，lambda 函数的定义体中不能赋值，也不能使用 while和 try  等 Python 语句。\n",
    "\n",
    "下面用 lambda 重写了反向排序的例子，这样省去了 reverse 函数："
   ]
  },
  {
   "cell_type": "code",
   "execution_count": 19,
   "metadata": {
    "collapsed": false,
    "deletable": true,
    "editable": true
   },
   "outputs": [
    {
     "data": {
      "text/plain": [
       "['banana', 'apple', 'fig', 'raspberry', 'strawberry', 'cherry']"
      ]
     },
     "execution_count": 19,
     "metadata": {},
     "output_type": "execute_result"
    }
   ],
   "source": [
    "fruits = ['strawberry', 'fig', 'apple', 'cherry', 'raspberry', 'banana']\n",
    "sorted(fruits, key = lambda word: word[::-1])"
   ]
  },
  {
   "cell_type": "markdown",
   "metadata": {
    "deletable": true,
    "editable": true
   },
   "source": [
    "除了作为参数传给高阶函数之外，Python 很少使用匿名函数，由于语法上的限制，非平凡的 lambda 要么非常难读，要么无法写出\n",
    "\n",
    "## 可调用对象\n",
    "\n",
    "除了用户自定义函数，调用运算符（即()）还可以应用到其他对象上。如果想判对象能否被调用，可以使用内置的 callable() 函数。Python 数据模型文档列出了 7 种可调用对象：\n",
    "\n",
    "1. 用户定义的函数\n",
    "  - 使用 def 或 lambda 表达式创建\n",
    "  \n",
    "2. 内置函数\n",
    "  - 使用 C 语言实现的函数，如 len 或 time.strftime\n",
    "  \n",
    "3. 内置方法\n",
    "  - 使用 C 语言实现的方法，例如 dict.get\n",
    " \n",
    "4. 方法\n",
    "  - 在累的定义体中定义的函数\n",
    "  \n",
    "5. 类\n",
    "  - 调用类时会运行类的 `__new__` 方法创建一个实例，然后运行 `__init__` 方法，初始化实例，最后把实例返回调用方。因为 Python 没有 new  运算符，所以调用类相当于调用函数。（通常，调用类会创建那个类的实例，不过覆盖 `__new__` 方法的话，也可能出现其它行为。 19 章会看到一个例子\n",
    "  \n",
    "6. 类的实例\n",
    "  - 如果类定义了 `__call__` 方法，那么它的实例也可以作为函数调用\n",
    "      \n",
    "7. 生成器函数\n",
    "  - 使用 yield 关键字的函数或方法。调用生成器函数返回的是生成器对象\n",
    "  \n",
    "Python 中有多重可调用类型，最安全的判断一个对象能否被调用是使用内置的 callable() 方法"
   ]
  },
  {
   "cell_type": "code",
   "execution_count": 20,
   "metadata": {
    "collapsed": false,
    "deletable": true,
    "editable": true
   },
   "outputs": [
    {
     "data": {
      "text/plain": [
       "(<function abs>, str, 13)"
      ]
     },
     "execution_count": 20,
     "metadata": {},
     "output_type": "execute_result"
    }
   ],
   "source": [
    "abs, str, 13"
   ]
  },
  {
   "cell_type": "code",
   "execution_count": 21,
   "metadata": {
    "collapsed": false,
    "deletable": true,
    "editable": true
   },
   "outputs": [
    {
     "data": {
      "text/plain": [
       "[True, True, False]"
      ]
     },
     "execution_count": 21,
     "metadata": {},
     "output_type": "execute_result"
    }
   ],
   "source": [
    "[callable(obj) for obj in (abs, str, 13)]"
   ]
  },
  {
   "cell_type": "markdown",
   "metadata": {
    "deletable": true,
    "editable": true
   },
   "source": [
    "## 用户定义的可调用类型\n",
    "\n",
    "不仅 Python 中的函数是对象，Python 中的对象也可以是函数，只要实现了 `__call__` 方法。 下面展示了一个接收可迭代对象然后在本地创建一个副本打乱顺序的脚本"
   ]
  },
  {
   "cell_type": "code",
   "execution_count": 1,
   "metadata": {
    "collapsed": false
   },
   "outputs": [
    {
     "data": {
      "text/plain": [
       "2"
      ]
     },
     "execution_count": 1,
     "metadata": {},
     "output_type": "execute_result"
    }
   ],
   "source": [
    "import random\n",
    "\n",
    "class BingoCage:\n",
    "    def __init__(self, items):\n",
    "        self._items = list(items)\n",
    "        random.shuffle(self._items)\n",
    "    \n",
    "    def pick(self):\n",
    "        try:\n",
    "            return self._items.pop()\n",
    "        except IndexError:\n",
    "            raise LookupError('pick from empty BingoCage')\n",
    "            \n",
    "    def __call__(self):\n",
    "        return self.pick()\n",
    "    \n",
    "bingo = BingoCage(range(3))\n",
    "bingo.pick()"
   ]
  },
  {
   "cell_type": "code",
   "execution_count": 3,
   "metadata": {
    "collapsed": false
   },
   "outputs": [
    {
     "data": {
      "text/plain": [
       "0"
      ]
     },
     "execution_count": 3,
     "metadata": {},
     "output_type": "execute_result"
    }
   ],
   "source": [
    "bingo.pick()"
   ]
  },
  {
   "cell_type": "code",
   "execution_count": 4,
   "metadata": {
    "collapsed": false
   },
   "outputs": [
    {
     "data": {
      "text/plain": [
       "True"
      ]
     },
     "execution_count": 4,
     "metadata": {},
     "output_type": "execute_result"
    }
   ],
   "source": [
    "callable(bingo)"
   ]
  },
  {
   "cell_type": "markdown",
   "metadata": {},
   "source": [
    "实现 `__call__` 方法的类是创建函数类对象的简便方式，此时必须在内部维护一个状态，让其被多次调用得到预期结果，例如上面的 `_items`，装饰器就是这样。装饰器必须是函数，而且有时要在多次调用之间　”记住“ 某些事 【例如备忘（memoization），即缓存消耗大的计算结果，供后面使用】。\n",
    "\n",
    "创建保有内部状态的函数，还有一种截然不同的方式 -- 使用闭包。闭包和装饰器在第 6 章讨论。\n",
    "\n",
    "## 函数内省\n",
    "\n",
    "除了 `__doc__`，函数对象还有很多属性。使用 dir 函数可以探知 factorial 具有以下属性："
   ]
  },
  {
   "cell_type": "code",
   "execution_count": 7,
   "metadata": {
    "collapsed": false
   },
   "outputs": [
    {
     "data": {
      "text/plain": [
       "['__annotations__',\n",
       " '__call__',\n",
       " '__class__',\n",
       " '__closure__',\n",
       " '__code__',\n",
       " '__defaults__',\n",
       " '__delattr__',\n",
       " '__dict__',\n",
       " '__dir__',\n",
       " '__doc__',\n",
       " '__eq__',\n",
       " '__format__',\n",
       " '__ge__',\n",
       " '__get__',\n",
       " '__getattribute__',\n",
       " '__globals__',\n",
       " '__gt__',\n",
       " '__hash__',\n",
       " '__init__',\n",
       " '__kwdefaults__',\n",
       " '__le__',\n",
       " '__lt__',\n",
       " '__module__',\n",
       " '__name__',\n",
       " '__ne__',\n",
       " '__new__',\n",
       " '__qualname__',\n",
       " '__reduce__',\n",
       " '__reduce_ex__',\n",
       " '__repr__',\n",
       " '__setattr__',\n",
       " '__sizeof__',\n",
       " '__str__',\n",
       " '__subclasshook__']"
      ]
     },
     "execution_count": 7,
     "metadata": {},
     "output_type": "execute_result"
    }
   ],
   "source": [
    "dir(factorial)"
   ]
  },
  {
   "cell_type": "markdown",
   "metadata": {},
   "source": [
    "其中大多数属性是 Python 共有的，这里讨论把函数视作对象相关的几个属性，先从 `__dict__` 开始\n",
    "\n",
    "与用户定义的常规类一样，函数使用 `__dict__` 属性存储用户赋予它的属性。这相当于一种基本形式的注解。一般来说，为函数随意赋予属性不是很常见的做法，但是 Django 框架就这么做了。Django 文档中举了下面一个实例，把 short_description 属性赋予一个方法，Django 管理后台使用这个方法时，在记录列表中会出现指定的描述文本："
   ]
  },
  {
   "cell_type": "code",
   "execution_count": 8,
   "metadata": {
    "collapsed": true
   },
   "outputs": [],
   "source": [
    "def upper_case_name(obj):\n",
    "    return (\"%s %s\" % (obj.first_name, obj.last_name)).upper()\n",
    "\n",
    "upper_case_name.short_description = 'Customer name'"
   ]
  },
  {
   "cell_type": "markdown",
   "metadata": {},
   "source": [
    "下面重点说说函数专有而用户定义一般对象没有的属性。计算两个属性集合的差集便能得到函数专有的属性列表："
   ]
  },
  {
   "cell_type": "code",
   "execution_count": 9,
   "metadata": {
    "collapsed": false
   },
   "outputs": [
    {
     "data": {
      "text/plain": [
       "['__annotations__',\n",
       " '__call__',\n",
       " '__closure__',\n",
       " '__code__',\n",
       " '__defaults__',\n",
       " '__get__',\n",
       " '__globals__',\n",
       " '__kwdefaults__',\n",
       " '__name__',\n",
       " '__qualname__']"
      ]
     },
     "execution_count": 9,
     "metadata": {},
     "output_type": "execute_result"
    }
   ],
   "source": [
    "class C: pass\n",
    "obj = C()\n",
    "def func(): pass\n",
    "\n",
    "sorted(set(dir(func)) - set(dir(obj)))"
   ]
  },
  {
   "cell_type": "markdown",
   "metadata": {},
   "source": [
    "本文后面会讨论 `__defaults__`、 `__code__`、 `__annotations__` 属性，IDE 框架使用它们提取关于函数签名信息。但是为了深入了解这些属性，我们首先要讨论 Python 为声明函数形参和传入实参提供的强大语法\n",
    "\n",
    "## 从定位参数到仅限关键字参数\n",
    "\n",
    "Python 最好的特性之一就是提供了非常灵活的参数处理机制，而 Python 3 中进一步提供了仅限关键字的参数（keyword-only argument）。与之密切相关的是，调用函数时使用 `*` 和 `**` ”展开” 迭代对象，映射到单个参数。下面代码展示了这些特性。\n",
    "\n",
    "这段代码 tag 函数用来生成 HTML 标签，使用名为 cls 的关键字传入 “class” 属性，这是一种变通方法，因为 “class” 是 Python 的关键字"
   ]
  },
  {
   "cell_type": "code",
   "execution_count": 18,
   "metadata": {
    "collapsed": false
   },
   "outputs": [],
   "source": [
    "def tag(name, *content, cls = None, **attrs):\n",
    "    '''生成一个或多个 HTML 标签'''\n",
    "    if cls is not None:\n",
    "        attrs['class'] = cls\n",
    "    if attrs:\n",
    "        attr_str = ''.join(' %s=\"%s\"' % (attr, value) \n",
    "                           for attr, value\n",
    "                           in sorted(attrs.items()))\n",
    "    else:\n",
    "        attr_str = ''\n",
    "    if content:\n",
    "        return '\\n'.join('<%s%s>%s</%s>' % \n",
    "                         (name, attr_str, c, name) for c in content)\n",
    "    else:\n",
    "        return '<%s%s />' % (name, attr_str)"
   ]
  },
  {
   "cell_type": "code",
   "execution_count": 19,
   "metadata": {
    "collapsed": false
   },
   "outputs": [
    {
     "data": {
      "text/plain": [
       "'<br />'"
      ]
     },
     "execution_count": 19,
     "metadata": {},
     "output_type": "execute_result"
    }
   ],
   "source": [
    "tag('br')"
   ]
  },
  {
   "cell_type": "code",
   "execution_count": 22,
   "metadata": {
    "collapsed": false
   },
   "outputs": [
    {
     "name": "stdout",
     "output_type": "stream",
     "text": [
      "<p>hello</p>\n",
      "<p>world</p>\n"
     ]
    }
   ],
   "source": [
    "print(tag('p', 'hello', 'world'))"
   ]
  },
  {
   "cell_type": "code",
   "execution_count": 21,
   "metadata": {
    "collapsed": false
   },
   "outputs": [
    {
     "data": {
      "text/plain": [
       "'<p id=\"33\">hello</p>'"
      ]
     },
     "execution_count": 21,
     "metadata": {},
     "output_type": "execute_result"
    }
   ],
   "source": [
    "tag('p', 'hello', id = 33) # tag 函数签名中没有明确指定名称的关键字会被 **attrs 捕获，存入一个字典"
   ]
  },
  {
   "cell_type": "code",
   "execution_count": 23,
   "metadata": {
    "collapsed": false
   },
   "outputs": [
    {
     "name": "stdout",
     "output_type": "stream",
     "text": [
      "<p class=\"sidebar\">hello</p>\n",
      "<p class=\"sidebar\">world</p>\n"
     ]
    }
   ],
   "source": [
    "print(tag('p', 'hello', 'world', cls='sidebar')) # cls 只能作为关键字传入"
   ]
  },
  {
   "cell_type": "code",
   "execution_count": 24,
   "metadata": {
    "collapsed": false
   },
   "outputs": [
    {
     "data": {
      "text/plain": [
       "'<img content=\"testing\" />'"
      ]
     },
     "execution_count": 24,
     "metadata": {},
     "output_type": "execute_result"
    }
   ],
   "source": [
    "tag(content = 'testing', name = \"img\") # 调用 tag 时，即使第一个定位参数也能作为关键字参数传入"
   ]
  },
  {
   "cell_type": "code",
   "execution_count": 25,
   "metadata": {
    "collapsed": false
   },
   "outputs": [
    {
     "data": {
      "text/plain": [
       "'<img class=\"framed\" src=\"sunset.jpg\" title=\"Sunset Boulevard\" />'"
      ]
     },
     "execution_count": 25,
     "metadata": {},
     "output_type": "execute_result"
    }
   ],
   "source": [
    "my_tag = {'name': 'img', 'title': 'Sunset Boulevard',\n",
    "           'src': 'sunset.jpg', 'cls': 'framed'}\n",
    "tag(**my_tag) #字典中所有元素作为单个参数传入，同名键会自动对应的具名参数上，剩下的被 **attrs 捕获"
   ]
  },
  {
   "cell_type": "markdown",
   "metadata": {},
   "source": [
    "仅限关键字参数是 Python 3 新增的特性。在上面的例子，cls 参数只能通过关键字参数指定，它一定不会捕获未命名的定位参数。定义函数时如果想指定仅限关键字参数，要把它们放到前面带有 `*`  的参数后面。如果不想支持数量不定的定位参数，但想支持仅限关键字参数，在签名中放一个 `*` ，如下所示："
   ]
  },
  {
   "cell_type": "code",
   "execution_count": 26,
   "metadata": {
    "collapsed": false
   },
   "outputs": [
    {
     "data": {
      "text/plain": [
       "(1, 2)"
      ]
     },
     "execution_count": 26,
     "metadata": {},
     "output_type": "execute_result"
    }
   ],
   "source": [
    "def f(a, *, b):\n",
    "    return a, b\n",
    "\n",
    "f(1, b=2)"
   ]
  },
  {
   "cell_type": "markdown",
   "metadata": {},
   "source": [
    "## 获取关于参数的信息\n",
    "\n",
    "HTTP  微框架 Bobo 有个使用函数内省的好例子。下面是对 Bobo 教程中的 “Hello world” 应用的改编，说明了内省如何使用："
   ]
  },
  {
   "cell_type": "code",
   "execution_count": 29,
   "metadata": {
    "collapsed": false
   },
   "outputs": [],
   "source": [
    "import bobo\n",
    "\n",
    "@bobo.query('/')\n",
    "def hello(person):\n",
    "    return 'Hello %s!' % person"
   ]
  },
  {
   "cell_type": "markdown",
   "metadata": {},
   "source": [
    "bobo.query 装饰器把一个普通的函数（hello）与框架的请求处理机制集成起来了，装饰器会在第 7 章讨论，这不是这个示例的关键。这里的关键是，Bobo 会内省 hello 函数，发现它需要一个名为 person 的参数，然后从请求中获取那个名称对应的参数，将其传给 hello 函数，因此程序员不用触碰请求对象\n",
    "\n",
    "将上面代码存成 hello.py 然后使用 `bobo -f hello.py` 命令，在浏览器访问 `http://localhost:8080` 看到的消息是：\n",
    "\n",
    "> Missing form variable person\n",
    "\n",
    "HTTP 状态码是 403，这是因为 Bobo 知道调用 hello 函数必须传入 person 参数，但是在请求中找不到同名参数。下面代码在 shell 会话中使用 curl 展示了这一行为\n",
    "\n",
    "```\n",
    "kaka@kaka-ubuntu:~/blog/content/fluent_python$ curl -i http://localhost:8080\n",
    "HTTP/1.0 403 Forbidden\n",
    "Date: Tue, 30 May 2017 06:26:21 GMT\n",
    "Server: WSGIServer/0.2 CPython/3.5.3\n",
    "Content-Type: text/html; charset=UTF-8\n",
    "Content-Length: 103\n",
    "\n",
    "<html>\n",
    "<head><title>Missing parameter</title></head>\n",
    "<body>Missing form variable person</body>\n",
    "</html>\n",
    "```\n",
    "\n",
    "但是如果访问 `http://localhost:8080/?person=Kaka` 响应就会变成 'Hello Kaka!'\n",
    "\n",
    "```\n",
    "kaka@kaka-ubuntu:~/blog/content/fluent_python$ curl -i http://localhost:8080/?person=Kaka\n",
    "HTTP/1.0 200 OK\n",
    "Date: Tue, 30 May 2017 06:28:40 GMT\n",
    "Server: WSGIServer/0.2 CPython/3.5.3\n",
    "Content-Type: text/html; charset=UTF-8\n",
    "Content-Length: 11\n",
    "\n",
    "Hello Kaka!\n",
    "```\n",
    "\n",
    "Bobo 怎么知道函数需要哪个参数呢？又怎么知道参数有没有默认值呢？\n",
    "\n",
    "函数对象有一个 `__default__` 属性，它的值是一个元组，里面保存着定位参数和关键字参数的默认值。仅限关键字参数的默认值在 `__kwdefaults__` 属性中。然而，参数的名称在 `__code__` 属性中，他的值是一个 code 对象的引用，自身也有很多属性。\n",
    "\n",
    "为了说明这些属性的用途，下面在 clip.py 模块中定义 clip 函数，如下所示，然后审查它"
   ]
  },
  {
   "cell_type": "code",
   "execution_count": 30,
   "metadata": {
    "collapsed": true
   },
   "outputs": [],
   "source": [
    "def clip(text, max_len = 80):\n",
    "    '''\n",
    "    在 max_len 前面或后面的第一个空格处截断文本\n",
    "    '''\n",
    "    end = None\n",
    "    if len(text) > max_len:\n",
    "        # rfind 方法返回被查找字符串最后一次出现的索引，没有出现返回 -1\n",
    "        space_before = text.rfind(' ', 0, max_len)\n",
    "        if space_before >= 0:\n",
    "            end = space_before\n",
    "        else:\n",
    "            space_after = text.rfind(' ', max_len)\n",
    "            if space_after >= 0:\n",
    "                end = space_after\n",
    "    \n",
    "    if end is None: #没找到空格\n",
    "        end = len(text)\n",
    "    return text[:end].rstrip()\n"
   ]
  },
  {
   "cell_type": "markdown",
   "metadata": {},
   "source": [
    "我们看看这个函数的 `__defaults__`、 `__code__.co_varnames`、 `__code__.co_argcount` 的值"
   ]
  },
  {
   "cell_type": "code",
   "execution_count": 32,
   "metadata": {
    "collapsed": false
   },
   "outputs": [
    {
     "data": {
      "text/plain": [
       "(80,)"
      ]
     },
     "execution_count": 32,
     "metadata": {},
     "output_type": "execute_result"
    }
   ],
   "source": [
    "clip.__defaults__"
   ]
  },
  {
   "cell_type": "code",
   "execution_count": 33,
   "metadata": {
    "collapsed": false
   },
   "outputs": [
    {
     "data": {
      "text/plain": [
       "<code object clip at 0x7f6d8056b930, file \"<ipython-input-30-e44d94c8fb30>\", line 1>"
      ]
     },
     "execution_count": 33,
     "metadata": {},
     "output_type": "execute_result"
    }
   ],
   "source": [
    "clip.__code__"
   ]
  },
  {
   "cell_type": "code",
   "execution_count": 35,
   "metadata": {
    "collapsed": false
   },
   "outputs": [
    {
     "data": {
      "text/plain": [
       "('text', 'max_len', 'end', 'space_before', 'space_after')"
      ]
     },
     "execution_count": 35,
     "metadata": {},
     "output_type": "execute_result"
    }
   ],
   "source": [
    "clip.__code__.co_varnames"
   ]
  },
  {
   "cell_type": "code",
   "execution_count": 37,
   "metadata": {
    "collapsed": false
   },
   "outputs": [
    {
     "data": {
      "text/plain": [
       "2"
      ]
     },
     "execution_count": 37,
     "metadata": {},
     "output_type": "execute_result"
    }
   ],
   "source": [
    "clip.__code__.co_argcount"
   ]
  },
  {
   "cell_type": "markdown",
   "metadata": {},
   "source": [
    "可以看出，这种显示信息方式不是很方便，参数名称在 `clip.__code__.co_varnames`中，不过里面还有函数定义体中的局部变量，因此，函数名称是前 N 个字符串，N 的值由 `clip.__code__.co_argcount` 决定。顺便说一下，这里不包含前缀为 `*` 或 `**` 的变长参数。参数的默认值只能通过它们在 `__defaults__` 元组中的位置确定，因此要从后向前扫描才能把参数和默认值对应。在这里有两个参数，只有一个默认值 80，它属于最后一个参数 max_len，这有违常理\n",
    "\n",
    "幸好，我们有更好的方式 -- 使用 inspect 模块"
   ]
  },
  {
   "cell_type": "code",
   "execution_count": 38,
   "metadata": {
    "collapsed": false
   },
   "outputs": [
    {
     "data": {
      "text/plain": [
       "<Signature (text, max_len=80)>"
      ]
     },
     "execution_count": 38,
     "metadata": {},
     "output_type": "execute_result"
    }
   ],
   "source": [
    "from inspect import signature\n",
    "sig = signature(clip)\n",
    "sig"
   ]
  },
  {
   "cell_type": "code",
   "execution_count": 39,
   "metadata": {
    "collapsed": false
   },
   "outputs": [
    {
     "data": {
      "text/plain": [
       "'(text, max_len=80)'"
      ]
     },
     "execution_count": 39,
     "metadata": {},
     "output_type": "execute_result"
    }
   ],
   "source": [
    "str(sig)"
   ]
  },
  {
   "cell_type": "code",
   "execution_count": 40,
   "metadata": {
    "collapsed": false
   },
   "outputs": [
    {
     "name": "stdout",
     "output_type": "stream",
     "text": [
      "POSITIONAL_OR_KEYWORD : text = <class 'inspect._empty'>\n",
      "POSITIONAL_OR_KEYWORD : max_len = 80\n"
     ]
    }
   ],
   "source": [
    "for name, param in sig.parameters.items():\n",
    "    print(param.kind, ':', name, '=', param.default)"
   ]
  },
  {
   "cell_type": "markdown",
   "metadata": {},
   "source": [
    "这样看起来就好多了， inspect.signature 函数返回一个 inspect.Signature 对象，它有一个 parameters 属性，这是一个有序映射，把参数名和 inspect.Parameter  对象对应起来。各个 Parameter 属性也有自己的属性，例如 name, default 和 kind。特殊的 inspect.empty 表示没有默认值，考虑到 None 是有效的默认值，这么做是合理的。\n",
    "\n",
    "kind 属性的值是 `_ParameterKind` 类中的 5 个值之一，列举如下：\n",
    "\n",
    "- POSITIONAL_OR_KEYWORD: 可以通过定位参数和关键字参数传入的形参（多数 Python 函数的参数属于此类）\n",
    "- VAR_POSITIONAL: 定位参数元组\n",
    "- KEYWORD_ONLY: 关键字参数字典\n",
    "- KEYWORD_ONLY: 仅限关键字参数（Python 3 新增）\n",
    "- POSITIONAL_ONLY: 仅限定位参数，目前 Python 声明函数的语法不支持，但是有些使用 C 语言实现且不接受关键字参数的函数（如 divmod）支持\n",
    "\n",
    "除了 name、default 和 kind，inspect.Parameter 对象还有一个 annotation（注解）属性，它的值通常是 `inspect._empty`，但是可能包含 Python 3 新的注解语法提供的函数签名元数据，会在后面讨论\n",
    "\n",
    "inspect.Signature 对象有一个 bind 方法，它可以把任意个参数绑定到签名函数形参上，所用的规则与实参到形参的匹配方式一样。框架可以使用这个方法在真正调用函数前验证参数。\n",
    "\n",
    "下面是 把上面 tag 函数的签名绑定到一个参数字典上"
   ]
  },
  {
   "cell_type": "code",
   "execution_count": 52,
   "metadata": {
    "collapsed": false
   },
   "outputs": [
    {
     "data": {
      "text/plain": [
       "<BoundArguments (name='img', cls='framed', attrs={'src': 'sunset.jpg', 'title': 'Sunset Boulevard'})>"
      ]
     },
     "execution_count": 52,
     "metadata": {},
     "output_type": "execute_result"
    }
   ],
   "source": [
    "import inspect\n",
    "sig = inspect.signature(tag) #  获取 tag 函数签名\n",
    "my_tag = {'name': 'img', 'title': 'Sunset Boulevard', \n",
    "          'src': 'sunset.jpg', 'cls': 'framed'}\n",
    "bound_args = sig.bind(**my_tag) # 把一个字典传给 bind 方法\n",
    "bound_args # 得到一个 BoundArguments 对象"
   ]
  },
  {
   "cell_type": "code",
   "execution_count": 53,
   "metadata": {
    "collapsed": false
   },
   "outputs": [
    {
     "name": "stdout",
     "output_type": "stream",
     "text": [
      "name = img\n",
      "cls = framed\n",
      "attrs = {'src': 'sunset.jpg', 'title': 'Sunset Boulevard'}\n"
     ]
    }
   ],
   "source": [
    "for name, value in bound_args.arguments.items(): #迭代 bound_args.arguments 中的元素，显示参数的名称和值\n",
    "    print(name, '=', value)"
   ]
  },
  {
   "cell_type": "code",
   "execution_count": 54,
   "metadata": {
    "collapsed": false
   },
   "outputs": [
    {
     "ename": "TypeError",
     "evalue": "missing a required argument: 'name'",
     "output_type": "error",
     "traceback": [
      "\u001b[0;31m---------------------------------------------------------------------------\u001b[0m",
      "\u001b[0;31mTypeError\u001b[0m                                 Traceback (most recent call last)",
      "\u001b[0;32m<ipython-input-54-b9f4a96c6b40>\u001b[0m in \u001b[0;36m<module>\u001b[0;34m()\u001b[0m\n\u001b[1;32m      1\u001b[0m \u001b[0;32mdel\u001b[0m \u001b[0mmy_tag\u001b[0m\u001b[0;34m[\u001b[0m\u001b[0;34m'name'\u001b[0m\u001b[0;34m]\u001b[0m\u001b[0;34m\u001b[0m\u001b[0m\n\u001b[0;32m----> 2\u001b[0;31m \u001b[0mbound_args\u001b[0m \u001b[0;34m=\u001b[0m \u001b[0msig\u001b[0m\u001b[0;34m.\u001b[0m\u001b[0mbind\u001b[0m\u001b[0;34m(\u001b[0m\u001b[0;34m**\u001b[0m\u001b[0mmy_tag\u001b[0m\u001b[0;34m)\u001b[0m \u001b[0;31m# 报错，缺少 name 参数\u001b[0m\u001b[0;34m\u001b[0m\u001b[0m\n\u001b[0m",
      "\u001b[0;32m/home/kaka/anaconda2/envs/py35/lib/python3.5/inspect.py\u001b[0m in \u001b[0;36mbind\u001b[0;34m(*args, **kwargs)\u001b[0m\n\u001b[1;32m   2918\u001b[0m         \u001b[0;32mif\u001b[0m \u001b[0mthe\u001b[0m \u001b[0mpassed\u001b[0m \u001b[0marguments\u001b[0m \u001b[0mcan\u001b[0m \u001b[0;32mnot\u001b[0m \u001b[0mbe\u001b[0m \u001b[0mbound\u001b[0m\u001b[0;34m.\u001b[0m\u001b[0;34m\u001b[0m\u001b[0m\n\u001b[1;32m   2919\u001b[0m         \"\"\"\n\u001b[0;32m-> 2920\u001b[0;31m         \u001b[0;32mreturn\u001b[0m \u001b[0margs\u001b[0m\u001b[0;34m[\u001b[0m\u001b[0;36m0\u001b[0m\u001b[0;34m]\u001b[0m\u001b[0;34m.\u001b[0m\u001b[0m_bind\u001b[0m\u001b[0;34m(\u001b[0m\u001b[0margs\u001b[0m\u001b[0;34m[\u001b[0m\u001b[0;36m1\u001b[0m\u001b[0;34m:\u001b[0m\u001b[0;34m]\u001b[0m\u001b[0;34m,\u001b[0m \u001b[0mkwargs\u001b[0m\u001b[0;34m)\u001b[0m\u001b[0;34m\u001b[0m\u001b[0m\n\u001b[0m\u001b[1;32m   2921\u001b[0m \u001b[0;34m\u001b[0m\u001b[0m\n\u001b[1;32m   2922\u001b[0m     \u001b[0;32mdef\u001b[0m \u001b[0mbind_partial\u001b[0m\u001b[0;34m(\u001b[0m\u001b[0;34m*\u001b[0m\u001b[0margs\u001b[0m\u001b[0;34m,\u001b[0m \u001b[0;34m**\u001b[0m\u001b[0mkwargs\u001b[0m\u001b[0;34m)\u001b[0m\u001b[0;34m:\u001b[0m\u001b[0;34m\u001b[0m\u001b[0m\n",
      "\u001b[0;32m/home/kaka/anaconda2/envs/py35/lib/python3.5/inspect.py\u001b[0m in \u001b[0;36m_bind\u001b[0;34m(self, args, kwargs, partial)\u001b[0m\n\u001b[1;32m   2833\u001b[0m                             \u001b[0mmsg\u001b[0m \u001b[0;34m=\u001b[0m \u001b[0;34m'missing a required argument: {arg!r}'\u001b[0m\u001b[0;34m\u001b[0m\u001b[0m\n\u001b[1;32m   2834\u001b[0m                             \u001b[0mmsg\u001b[0m \u001b[0;34m=\u001b[0m \u001b[0mmsg\u001b[0m\u001b[0;34m.\u001b[0m\u001b[0mformat\u001b[0m\u001b[0;34m(\u001b[0m\u001b[0marg\u001b[0m\u001b[0;34m=\u001b[0m\u001b[0mparam\u001b[0m\u001b[0;34m.\u001b[0m\u001b[0mname\u001b[0m\u001b[0;34m)\u001b[0m\u001b[0;34m\u001b[0m\u001b[0m\n\u001b[0;32m-> 2835\u001b[0;31m                             \u001b[0;32mraise\u001b[0m \u001b[0mTypeError\u001b[0m\u001b[0;34m(\u001b[0m\u001b[0mmsg\u001b[0m\u001b[0;34m)\u001b[0m \u001b[0;32mfrom\u001b[0m \u001b[0;32mNone\u001b[0m\u001b[0;34m\u001b[0m\u001b[0m\n\u001b[0m\u001b[1;32m   2836\u001b[0m             \u001b[0;32melse\u001b[0m\u001b[0;34m:\u001b[0m\u001b[0;34m\u001b[0m\u001b[0m\n\u001b[1;32m   2837\u001b[0m                 \u001b[0;31m# We have a positional argument to process\u001b[0m\u001b[0;34m\u001b[0m\u001b[0;34m\u001b[0m\u001b[0m\n",
      "\u001b[0;31mTypeError\u001b[0m: missing a required argument: 'name'"
     ]
    }
   ],
   "source": [
    "del my_tag['name']\n",
    "bound_args = sig.bind(**my_tag) # 报错，缺少 name 参数"
   ]
  },
  {
   "cell_type": "markdown",
   "metadata": {},
   "source": [
    "这个例子在 inspect 模块帮助下，展示了 Python 数据模型把实参绑定给函数调用中形参机制，这与解释器使用的机制相同\n",
    "\n",
    "## 函数注解\n",
    "\n",
    "Python 3 提供了一种语法，用于为函数声明中的参数和返回值附加元数据，下面例子是 clip 函数添加注解的版本，二者唯一区别在第一行"
   ]
  },
  {
   "cell_type": "code",
   "execution_count": 56,
   "metadata": {
    "collapsed": true
   },
   "outputs": [],
   "source": [
    "def clip(text:str, max_len: 'int > 0' = 80) -> str:\n",
    "    '''\n",
    "    在 max_len 前面或后面的第一个空格处截断文本\n",
    "    '''\n",
    "    end = None\n",
    "    if len(text) > max_len:\n",
    "        # rfind 方法返回被查找字符串最后一次出现的索引，没有出现返回 -1\n",
    "        space_before = text.rfind(' ', 0, max_len)\n",
    "        if space_before >= 0:\n",
    "            end = space_before\n",
    "        else:\n",
    "            space_after = text.rfind(' ', max_len)\n",
    "            if space_after >= 0:\n",
    "                end = space_after\n",
    "    \n",
    "    if end is None: #没找到空格\n",
    "        end = len(text)\n",
    "    return text[:end].rstrip()\n"
   ]
  },
  {
   "cell_type": "markdown",
   "metadata": {},
   "source": [
    "在函数声明中各个参数可以在 : 后面增加注解表达式。如果参数有默认值，注解放在参数名和 = 之间。如果想注解返回值，在 ) 和函数末尾添加 -> 和一个表达式。那个表达式可以是任何类型。注解中最常用的类型是类（如 str 或 int）和字符串（如 'int > 0'）\n",
    "\n",
    "注解不会做任何处理，只是存储在函数的 `__annotations__` 属性（一个字典）中："
   ]
  },
  {
   "cell_type": "code",
   "execution_count": 57,
   "metadata": {
    "collapsed": false
   },
   "outputs": [
    {
     "data": {
      "text/plain": [
       "{'max_len': 'int > 0', 'return': str, 'text': str}"
      ]
     },
     "execution_count": 57,
     "metadata": {},
     "output_type": "execute_result"
    }
   ],
   "source": [
    "clip.__annotations__"
   ]
  },
  {
   "cell_type": "markdown",
   "metadata": {},
   "source": [
    "return 键保存的是返回值注解。\n",
    "\n",
    "Python 所做的唯一的是就是把注解存到 `__annotations__` 属性中，仅此而已，不做任何检查。换句话说，注解对于 Python 解释器没有任何意义。注解只是元数据，可以供 IDE、框架和装饰器等工具使用。\n",
    "\n",
    "下面是从 inspect.signature() 函数提取注解"
   ]
  },
  {
   "cell_type": "code",
   "execution_count": 58,
   "metadata": {
    "collapsed": false
   },
   "outputs": [
    {
     "data": {
      "text/plain": [
       "str"
      ]
     },
     "execution_count": 58,
     "metadata": {},
     "output_type": "execute_result"
    }
   ],
   "source": [
    "from inspect import signature\n",
    "sig = signature(clip)\n",
    "sig.return_annotation"
   ]
  },
  {
   "cell_type": "code",
   "execution_count": 59,
   "metadata": {
    "collapsed": false
   },
   "outputs": [
    {
     "name": "stdout",
     "output_type": "stream",
     "text": [
      "<class 'str'> : text = <class 'inspect._empty'>\n",
      "'int > 0'     : max_len = 80\n"
     ]
    }
   ],
   "source": [
    "for param in sig.parameters.values():\n",
    "    note = repr(param.annotation).ljust(13) # ljust 作用是返回 13 个字符，靠左对其，不够用空格补\n",
    "    print(note, ':', param.name, '=', param.default)"
   ]
  },
  {
   "cell_type": "markdown",
   "metadata": {},
   "source": [
    "signature 函数返回一个 Signature 对象，它有一个 return_annotation 属性和一个 parameters 属性，后者是一个字典，把参数名映射到 Parameter 对象上。每个 Parameter 对象也有自己的 annotation 属性。\n",
    "\n",
    "在未来，Bobo 等框架可以支持注解，并进一步自动处理请求。例如，使用 price:float 注解的参数可以自动把查询字符串转成函数期待的 float 类型；quantity:'int > 0' 这样的字符串注解可以转换成对参数的验证\n",
    "\n",
    "函数注解的最大的影响或许不是让 Bobo 等框架自动设置，而是为 IDE 和 lint 程序等工具的静态类型检查功能提供额外的信息。\n",
    "\n",
    "## 支持函数式编程的包\n",
    "\n",
    "虽然 Guido 明确表明，Python 的目标不是变成函数式编程语言，但是得益于 operator 和 functools 等包的支持，函数式编程风格也可以信手拈来。接下来介绍这两个包\n",
    "\n",
    "### operator 模块\n",
    "\n",
    "在函数式编程中，经常需要把算术运算符当做函数使用。例如，不适用递归计算阶乘。求和可以用 sum 函数，但是求积则没有这样的函数，我们可以用 reduce 函数，但是需要一个函数计算序列中两个元素之积。下面展示如何用 lambda 来解决这个问题："
   ]
  },
  {
   "cell_type": "code",
   "execution_count": 60,
   "metadata": {
    "collapsed": true
   },
   "outputs": [],
   "source": [
    "from functools import reduce\n",
    "def fact(n):\n",
    "    return reduce(lambda a, b: a * b, range(1, n + 1))"
   ]
  },
  {
   "cell_type": "markdown",
   "metadata": {},
   "source": [
    "operator 模块为算数运算符提供了对应的函数，从而避免写 `lambda: a, b: a * b` 这样的平凡函数："
   ]
  },
  {
   "cell_type": "code",
   "execution_count": 62,
   "metadata": {
    "collapsed": true
   },
   "outputs": [],
   "source": [
    "from functools import reduce\n",
    "from operator import mul\n",
    "\n",
    "def fact(n):\n",
    "    return reduce(mul, range(1, n + 1))"
   ]
  },
  {
   "cell_type": "markdown",
   "metadata": {},
   "source": [
    "operator 模块中还有一类函数，能替代从序列中去除元素或读取对象属性的 lambda 表达式，因此， itemgetter 和 attrgetter 其实会自动构建函数\n",
    "\n",
    "下面展示了 itemgetter 的常见用途，根据元组的某个字段给元组列表排序，这个例子中，按照国家代码的顺序打印各个城市的信息。其实， itemgetter(1) 的作用与 `lambda fields: fields[1]` 一样"
   ]
  },
  {
   "cell_type": "code",
   "execution_count": 92,
   "metadata": {
    "collapsed": false
   },
   "outputs": [
    {
     "name": "stdout",
     "output_type": "stream",
     "text": [
      "('Sao Paulo', 'BR', 19.649, (-23.55, -46.64))\n",
      "('Delhi NCR', 'IN', 21.935, (28.61, 77.21))\n",
      "('Tokyo', 'JP', 36.933, (35.69, 139.69))\n",
      "('Mexico City', 'MX', 20.142, (19.43, -99.13))\n",
      "('New York-Newark', 'US', 20.104, (40.81, -74.02))\n"
     ]
    }
   ],
   "source": [
    "metro_data = [\n",
    "    ('Tokyo', 'JP', 36.933, (35.69, 139.69)),\n",
    "    ('Delhi NCR', 'IN', 21.935, (28.61, 77.21)),\n",
    "    ('Mexico City', 'MX', 20.142, (19.43, -99.13)),\n",
    "    ('New York-Newark', 'US', 20.104, (40.81, -74.02)),\n",
    "    ('Sao Paulo', 'BR', 19.649, (-23.55, -46.64))\n",
    "]\n",
    "\n",
    "from operator import itemgetter\n",
    "for city in sorted(metro_data, key = itemgetter(1)):\n",
    "    print(city)"
   ]
  },
  {
   "cell_type": "markdown",
   "metadata": {},
   "source": [
    "如果把多个参数传给 itemgetter， 它构建的函数会返回提取的值构成的元组："
   ]
  },
  {
   "cell_type": "code",
   "execution_count": 93,
   "metadata": {
    "collapsed": false
   },
   "outputs": [
    {
     "name": "stdout",
     "output_type": "stream",
     "text": [
      "('JP', 'Tokyo')\n",
      "('IN', 'Delhi NCR')\n",
      "('MX', 'Mexico City')\n",
      "('US', 'New York-Newark')\n",
      "('BR', 'Sao Paulo')\n"
     ]
    }
   ],
   "source": [
    "cc_name = itemgetter(1, 0)\n",
    "for city in metro_data:\n",
    "    print(cc_name(city))"
   ]
  },
  {
   "cell_type": "markdown",
   "metadata": {},
   "source": [
    "itemgetter 使用 [ ] 运算符，它不仅支持序列，还支持所有实现 `__getitem__` 方法的类\n",
    "\n",
    "attrgetter 和 itemgetter 作用类似，它创建的函数根据名称提取对象的属性。如果把多个属性名传给 attrgetter 也会返回提取的值构成的元组。此外如果参数名中包含 .(点号)，attrgetter 会深入嵌套对象，获取指定的属性。这些行为如下面代码所示。"
   ]
  },
  {
   "cell_type": "code",
   "execution_count": 95,
   "metadata": {
    "collapsed": false
   },
   "outputs": [
    {
     "data": {
      "text/plain": [
       "Metropolis(name='Tokyo', cc='JP', pop=36.933, coord=LatLong(lat=35.69, long=139.69))"
      ]
     },
     "execution_count": 95,
     "metadata": {},
     "output_type": "execute_result"
    }
   ],
   "source": [
    "from collections import namedtuple\n",
    "\n",
    "LatLong = namedtuple('LatLong', 'lat long')\n",
    "Metropolis = namedtuple('Metropolis', 'name cc pop coord')\n",
    "metro_areas = [Metropolis(name, cc, pop, LatLong(lat, long))\n",
    "              for name, cc, pop, (lat, long) in metro_data]\n",
    "metro_areas[0]"
   ]
  },
  {
   "cell_type": "code",
   "execution_count": 96,
   "metadata": {
    "collapsed": false
   },
   "outputs": [
    {
     "data": {
      "text/plain": [
       "35.69"
      ]
     },
     "execution_count": 96,
     "metadata": {},
     "output_type": "execute_result"
    }
   ],
   "source": [
    "metro_areas[0].coord.lat"
   ]
  },
  {
   "cell_type": "code",
   "execution_count": 98,
   "metadata": {
    "collapsed": false
   },
   "outputs": [
    {
     "name": "stdout",
     "output_type": "stream",
     "text": [
      "('Sao Paulo', -23.55)\n",
      "('Mexico City', 19.43)\n",
      "('Delhi NCR', 28.61)\n",
      "('Tokyo', 35.69)\n",
      "('New York-Newark', 40.81)\n"
     ]
    }
   ],
   "source": [
    "from operator import attrgetter\n",
    "name_lat = attrgetter('name', 'coord.lat')\n",
    "for city in sorted(metro_areas, key = attrgetter('coord.lat')):\n",
    "    print(name_lat(city))"
   ]
  },
  {
   "cell_type": "markdown",
   "metadata": {},
   "source": [
    "下面是 operator 模块定义的部分函数（省略了以 `_` 开头的函数，因为它们基本上是实现细节"
   ]
  },
  {
   "cell_type": "code",
   "execution_count": 101,
   "metadata": {
    "collapsed": false
   },
   "outputs": [
    {
     "data": {
      "text/plain": [
       "['abs',\n",
       " 'add',\n",
       " 'and_',\n",
       " 'attrgetter',\n",
       " 'concat',\n",
       " 'contains',\n",
       " 'countOf',\n",
       " 'delitem',\n",
       " 'eq',\n",
       " 'floordiv',\n",
       " 'ge',\n",
       " 'getitem',\n",
       " 'gt',\n",
       " 'iadd',\n",
       " 'iand',\n",
       " 'iconcat',\n",
       " 'ifloordiv',\n",
       " 'ilshift',\n",
       " 'imatmul',\n",
       " 'imod',\n",
       " 'imul',\n",
       " 'index',\n",
       " 'indexOf',\n",
       " 'inv',\n",
       " 'invert',\n",
       " 'ior',\n",
       " 'ipow',\n",
       " 'irshift',\n",
       " 'is_',\n",
       " 'is_not',\n",
       " 'isub',\n",
       " 'itemgetter',\n",
       " 'itruediv',\n",
       " 'ixor',\n",
       " 'le',\n",
       " 'length_hint',\n",
       " 'lshift',\n",
       " 'lt',\n",
       " 'matmul',\n",
       " 'methodcaller',\n",
       " 'mod',\n",
       " 'mul',\n",
       " 'ne',\n",
       " 'neg',\n",
       " 'not_',\n",
       " 'or_',\n",
       " 'pos',\n",
       " 'pow',\n",
       " 'rshift',\n",
       " 'setitem',\n",
       " 'sub',\n",
       " 'truediv',\n",
       " 'truth',\n",
       " 'xor']"
      ]
     },
     "execution_count": 101,
     "metadata": {},
     "output_type": "execute_result"
    }
   ],
   "source": [
    "import operator\n",
    "[name for name in dir(operator) if not name.startswith('_')]"
   ]
  },
  {
   "cell_type": "markdown",
   "metadata": {},
   "source": [
    "这些函数差不多一眼就能看出来啥意思，以 i 开头对应的是增量运算符 += &= 等。如果第一个参数是可变的，那么这些运算符函数就会就地修改它，否则，作用与不带 i 的函数一样，直接返回运算结果\n",
    "\n",
    "在 operator 模块余下的函数，我们最后介绍一下 methodcaller。它的作用与 attrgetter 和 itemgetter 类似，它会自行构建函数。methodcaller 创建的函数会在对象上调用参数指定的方法："
   ]
  },
  {
   "cell_type": "code",
   "execution_count": 102,
   "metadata": {
    "collapsed": false
   },
   "outputs": [
    {
     "data": {
      "text/plain": [
       "'THE TIME HAS COME'"
      ]
     },
     "execution_count": 102,
     "metadata": {},
     "output_type": "execute_result"
    }
   ],
   "source": [
    "from operator import methodcaller\n",
    "s = 'The time has come'\n",
    "upcase = methodcaller('upper')\n",
    "upcase(s)"
   ]
  },
  {
   "cell_type": "code",
   "execution_count": 104,
   "metadata": {
    "collapsed": false
   },
   "outputs": [
    {
     "data": {
      "text/plain": [
       "'The-time-has-come'"
      ]
     },
     "execution_count": 104,
     "metadata": {},
     "output_type": "execute_result"
    }
   ],
   "source": [
    "hiphenate = methodcaller('replace', ' ', '-')\n",
    "hiphenate(s)"
   ]
  },
  {
   "cell_type": "markdown",
   "metadata": {},
   "source": [
    "上面第一个测试只是为了展示 methodcaller 的用法，如果想把 str.upper 作为函数使用，只需要在 str 类上调用："
   ]
  },
  {
   "cell_type": "code",
   "execution_count": 106,
   "metadata": {
    "collapsed": false
   },
   "outputs": [
    {
     "data": {
      "text/plain": [
       "'THE TIME HAS COME'"
      ]
     },
     "execution_count": 106,
     "metadata": {},
     "output_type": "execute_result"
    }
   ],
   "source": [
    "str.upper(s)"
   ]
  },
  {
   "cell_type": "markdown",
   "metadata": {},
   "source": [
    "上面的第二个测试表明，methodcaller 还可以冻结某些参数，也就是部分应用（partial application），这与 functools.partial 函数作用类似\n",
    "\n",
    "## 使用 functools.partial 冻结参数\n",
    "\n",
    "functools 模块提供了一系列高阶函数，其中最为人熟知的或许是 reduce，余下的函数中，最有用的是 partial 及其变体，partialmethod。\n",
    "\n",
    "functools.partial 这个高阶函数用于部分应用一个函数，部分应用是指，基于一个函数创建一个新的可调用对象，把原函数某些参数固定。使用这个函数可以把接受一个或多个的函数改编成需要回调的 API，这样参数更少："
   ]
  },
  {
   "cell_type": "code",
   "execution_count": 108,
   "metadata": {
    "collapsed": false
   },
   "outputs": [
    {
     "data": {
      "text/plain": [
       "21"
      ]
     },
     "execution_count": 108,
     "metadata": {},
     "output_type": "execute_result"
    }
   ],
   "source": [
    "from operator import mul\n",
    "from functools import partial\n",
    "\n",
    "triple = partial(mul, 3) #使用 mul 创建 partial 函数，第一个参数指定为 3\n",
    "triple(7)"
   ]
  },
  {
   "cell_type": "code",
   "execution_count": 109,
   "metadata": {
    "collapsed": false
   },
   "outputs": [
    {
     "data": {
      "text/plain": [
       "[3, 6, 9, 12, 15, 18, 21, 24, 27]"
      ]
     },
     "execution_count": 109,
     "metadata": {},
     "output_type": "execute_result"
    }
   ],
   "source": [
    "list(map(triple, range(1, 10)))"
   ]
  },
  {
   "cell_type": "markdown",
   "metadata": {},
   "source": [
    "我们用第 4 章的规范化语言编码的函数举个例子，如果处理多国语言编写的文本，在比较或排序之前可能想使用 unicode.normalize('NFC', s) 处理所有的字符串 s，如果经常这么做，可以定义一个 nfc 函数"
   ]
  },
  {
   "cell_type": "code",
   "execution_count": 110,
   "metadata": {
    "collapsed": false
   },
   "outputs": [
    {
     "data": {
      "text/plain": [
       "('café', 'café')"
      ]
     },
     "execution_count": 110,
     "metadata": {},
     "output_type": "execute_result"
    }
   ],
   "source": [
    "import unicodedata, functools\n",
    "nfc = functools.partial(unicodedata.normalize, 'NFC')\n",
    "s1 = 'café'\n",
    "s2 = 'cafe\\u0301'\n",
    "s1, s2"
   ]
  },
  {
   "cell_type": "code",
   "execution_count": 111,
   "metadata": {
    "collapsed": false
   },
   "outputs": [
    {
     "data": {
      "text/plain": [
       "False"
      ]
     },
     "execution_count": 111,
     "metadata": {},
     "output_type": "execute_result"
    }
   ],
   "source": [
    "s1 == s2"
   ]
  },
  {
   "cell_type": "code",
   "execution_count": 112,
   "metadata": {
    "collapsed": false
   },
   "outputs": [
    {
     "data": {
      "text/plain": [
       "True"
      ]
     },
     "execution_count": 112,
     "metadata": {},
     "output_type": "execute_result"
    }
   ],
   "source": [
    "nfc(s1) == nfc(s2)"
   ]
  },
  {
   "cell_type": "markdown",
   "metadata": {},
   "source": [
    "下面的例子是在前面定义的 tag 函数上使用 partial，冻结一个定位参数和一个关键字参数"
   ]
  },
  {
   "cell_type": "code",
   "execution_count": 114,
   "metadata": {
    "collapsed": false
   },
   "outputs": [
    {
     "data": {
      "text/plain": [
       "'<img class=\"pic-frame\" src=\"wumpus.jpeg\" />'"
      ]
     },
     "execution_count": 114,
     "metadata": {},
     "output_type": "execute_result"
    }
   ],
   "source": [
    "from functools import partial\n",
    "\n",
    "picture = partial(tag, 'img', cls = 'pic-frame')\n",
    "picture(src = 'wumpus.jpeg')"
   ]
  },
  {
   "cell_type": "code",
   "execution_count": 115,
   "metadata": {
    "collapsed": false
   },
   "outputs": [
    {
     "data": {
      "text/plain": [
       "functools.partial(<function tag at 0x7f6d805db488>, 'img', cls='pic-frame')"
      ]
     },
     "execution_count": 115,
     "metadata": {},
     "output_type": "execute_result"
    }
   ],
   "source": [
    "picture #返回一个 functools.partial 对象"
   ]
  },
  {
   "cell_type": "code",
   "execution_count": 116,
   "metadata": {
    "collapsed": false
   },
   "outputs": [
    {
     "data": {
      "text/plain": [
       "<function __main__.tag>"
      ]
     },
     "execution_count": 116,
     "metadata": {},
     "output_type": "execute_result"
    }
   ],
   "source": [
    "picture.func #functools.partial 对象提供了访问原函数的固定参数的属性"
   ]
  },
  {
   "cell_type": "code",
   "execution_count": 117,
   "metadata": {
    "collapsed": false
   },
   "outputs": [
    {
     "data": {
      "text/plain": [
       "('img',)"
      ]
     },
     "execution_count": 117,
     "metadata": {},
     "output_type": "execute_result"
    }
   ],
   "source": [
    "picture.args"
   ]
  },
  {
   "cell_type": "code",
   "execution_count": 118,
   "metadata": {
    "collapsed": false
   },
   "outputs": [
    {
     "data": {
      "text/plain": [
       "{'cls': 'pic-frame'}"
      ]
     },
     "execution_count": 118,
     "metadata": {},
     "output_type": "execute_result"
    }
   ],
   "source": [
    "picture.keywords"
   ]
  },
  {
   "cell_type": "markdown",
   "metadata": {},
   "source": [
    "functools 中的 partialmethod 函数（Python 3.4 新增）的作用与 partial 一样，不过是用于处理方法的。\n",
    "\n",
    "functools 模块中的 lru_cache 函数令人印象深刻，它会做备忘(memoization)，这是一种自动优化措施，它会存储耗时的函数调用结果，避免重新计算。第七章会介绍这个函数，还会讨论装饰器。以及旨在用作装饰器的其它高阶函数：singledispatch 和 wraps"
   ]
  }
 ],
 "metadata": {
  "kernelspec": {
   "display_name": "Python 3",
   "language": "python",
   "name": "python3"
  },
  "language_info": {
   "codemirror_mode": {
    "name": "ipython",
    "version": 3
   },
   "file_extension": ".py",
   "mimetype": "text/x-python",
   "name": "python",
   "nbconvert_exporter": "python",
   "pygments_lexer": "ipython3",
   "version": "3.5.3"
  }
 },
 "nbformat": 4,
 "nbformat_minor": 2
}
