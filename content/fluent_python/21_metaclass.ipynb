{
 "cells": [
  {
   "cell_type": "markdown",
   "metadata": {},
   "source": [
    "类元编程是指在运行时创建或定制类的技艺，在 Python 中，类是一等对象，因此任何时候都可以使用函数新建类，无需使用 class 关键字。类装饰器也是函数，不公审查，修改甚至可以把被装饰类替换成其它类。最后，元类是类元编程最高级的工具，使用元类可以创建具有某种特质的全新类种，例如我们见过的抽象基类\n",
    "\n",
    "## 类工厂函数\n",
    "\n",
    "标准库的一个类工厂函数 -- collections.namedtuple。我们把一个类名和几个属性名传给这个函数，它会创建一个 tuple 的子类，其中元素通过名称获取，还为调试提供了友好的字符串表示（`__repr__`）"
   ]
  },
  {
   "cell_type": "code",
   "execution_count": 2,
   "metadata": {},
   "outputs": [
    {
     "data": {
      "text/plain": [
       "<__main__.Dog at 0x7ff0002e7ba8>"
      ]
     },
     "execution_count": 2,
     "metadata": {},
     "output_type": "execute_result"
    }
   ],
   "source": [
    "class Dog:\n",
    "    \n",
    "    def __init__(self, name, weight, owner):\n",
    "        self.name = name\n",
    "        self.weight = weight\n",
    "        self.owner = owner\n",
    "    \n",
    "rex = Dog('Rex', 30, 'Bob')\n",
    "rex"
   ]
  },
  {
   "cell_type": "markdown",
   "metadata": {},
   "source": [
    "这段代码各个字段名都出现了三次，让人厌烦，字符串表现形式也不友好，我们编写一个 record_factory 类工厂函数解决这个问题"
   ]
  },
  {
   "cell_type": "code",
   "execution_count": 3,
   "metadata": {
    "collapsed": true
   },
   "outputs": [],
   "source": [
    "def record_factory(cls_name, field_names):\n",
    "    try:\n",
    "        # 这里体现了鸭子类型，尝试在都好或空格处拆分 field_names，如果失败，则假定 field_names 本身就是可迭代对象\n",
    "        field_names = field_names.replace(',', ' ').split()\n",
    "    except AttributeError: #不能调用 .replace 或 .split 方法\n",
    "        pass # 假定 field_names 本就是标识符组成的序列\n",
    "    field_names = tuple(field_names) #使用属性名构建元组，这将成为新建类的 __slots__属性\n",
    "\n",
    "    # __slots__变量，来限制该class能添加的属性\n",
    "    # 将变成新建类的 __init__ 方法\n",
    "    def __init__(self, *args, **kwargs):\n",
    "        attrs = dict(zip(self.__slots__, args))\n",
    "        attrs.update(kwargs)\n",
    "        for name, value in attrs.items():\n",
    "            setattr(self, name, value)\n",
    "            \n",
    "    # 把类的实例变成可迭代对象，按照 __slots__ 设定的顺序产出字段值\n",
    "    def __iter__(self):\n",
    "        for name in self.__slots__:\n",
    "            yield getattr(self, name)\n",
    "            \n",
    "    def __repr__(self):\n",
    "        values = ', '.join('{}={!r}'.format(*i) for i\n",
    "                           in zip(self.__slots__, self))\n",
    "        return '{}({})'.format(self.__class__.__name__, values)\n",
    "    \n",
    "    # 组建类属性字典\n",
    "    cls_attrs = dict(__slots__ = field_names,\n",
    "                     __init__  = __init__, # 相当于 '__init__': __init__\n",
    "                     __iter__  = __iter__, \n",
    "                     __repr__  = __repr__)\n",
    "    \n",
    "    # 用 type 方法构造，构建新类，然后返回\n",
    "    return type(cls_name, (object,), cls_attrs)"
   ]
  },
  {
   "cell_type": "code",
   "execution_count": 4,
   "metadata": {},
   "outputs": [
    {
     "data": {
      "text/plain": [
       "Dog(name='Rex', weight=30, owner='Bob')"
      ]
     },
     "execution_count": 4,
     "metadata": {},
     "output_type": "execute_result"
    }
   ],
   "source": [
    "Dog = record_factory('Dog', 'name weight owner')\n",
    "rex = Dog('Rex', 30, 'Bob')\n",
    "rex"
   ]
  },
  {
   "cell_type": "code",
   "execution_count": 5,
   "metadata": {},
   "outputs": [
    {
     "data": {
      "text/plain": [
       "('Rex', 30)"
      ]
     },
     "execution_count": 5,
     "metadata": {},
     "output_type": "execute_result"
    }
   ],
   "source": [
    "name, weight, _ = rex # 实例是可迭代对象，所以可以方便的拆包\n",
    "name, weight"
   ]
  },
  {
   "cell_type": "code",
   "execution_count": 6,
   "metadata": {},
   "outputs": [
    {
     "data": {
      "text/plain": [
       "\"Bob's dog weight 30kg\""
      ]
     },
     "execution_count": 6,
     "metadata": {},
     "output_type": "execute_result"
    }
   ],
   "source": [
    "\"{2}'s dog weight {1}kg\".format(*rex) # 实例是可迭代对象，所以可以方便的拆包"
   ]
  },
  {
   "cell_type": "code",
   "execution_count": 7,
   "metadata": {},
   "outputs": [
    {
     "ename": "SyntaxError",
     "evalue": "invalid syntax (<ipython-input-7-8bcb3e40d9ef>, line 1)",
     "output_type": "error",
     "traceback": [
      "\u001b[0;36m  File \u001b[0;32m\"<ipython-input-7-8bcb3e40d9ef>\"\u001b[0;36m, line \u001b[0;32m1\u001b[0m\n\u001b[0;31m    rex.weight = 32 记录实例是可变的对象\u001b[0m\n\u001b[0m                             ^\u001b[0m\n\u001b[0;31mSyntaxError\u001b[0m\u001b[0;31m:\u001b[0m invalid syntax\n"
     ]
    }
   ],
   "source": [
    "rex.weight = 32 记录实例是可变的对象\n",
    "rex"
   ]
  },
  {
   "cell_type": "code",
   "execution_count": 8,
   "metadata": {},
   "outputs": [
    {
     "data": {
      "text/plain": [
       "(__main__.Dog, object)"
      ]
     },
     "execution_count": 8,
     "metadata": {},
     "output_type": "execute_result"
    }
   ],
   "source": [
    "Dog.__mro__ # 新建的类继承 Object 类，和我们的工厂函数没有关系"
   ]
  },
  {
   "cell_type": "markdown",
   "metadata": {},
   "source": [
    "通常，我们将 type 视为函数，因为我们像函数那样使用它，type(my_object) 获取对象所属的类 -- 作用与 `my_object.__class__` 相同。然而，type 是一个类，当成类使用的时候传入三个参数可以新建一个类（是的，type 可以根据传入的不同参数有不同的用法\n",
    "\n",
    "```\n",
    "type(类名, 父类的元组（针对继承的情况，可以为空），包含属性的字典（名称和值）)\n",
    "```\n",
    "\n",
    "比如下面的代码是等价的\n",
    "\n",
    "```\n",
    "class MyShinyClass:\n",
    "    pass\n",
    "    \n",
    "##############\n",
    "\n",
    "type('MyShinyClass', (), {})\n",
    "```\n",
    "\n",
    "因此我们要新建如下类:\n",
    "\n",
    "```\n",
    "class Foo:\n",
    "    bar = True\n",
    "```\n",
    "可以写成:"
   ]
  },
  {
   "cell_type": "code",
   "execution_count": 9,
   "metadata": {},
   "outputs": [
    {
     "data": {
      "text/plain": [
       "__main__.Foo"
      ]
     },
     "execution_count": 9,
     "metadata": {},
     "output_type": "execute_result"
    }
   ],
   "source": [
    "Foo = type('Foo', (), {'bar':True})\n",
    "Foo"
   ]
  },
  {
   "cell_type": "code",
   "execution_count": 10,
   "metadata": {},
   "outputs": [
    {
     "data": {
      "text/plain": [
       "True"
      ]
     },
     "execution_count": 10,
     "metadata": {},
     "output_type": "execute_result"
    }
   ],
   "source": [
    "Foo.bar"
   ]
  },
  {
   "cell_type": "code",
   "execution_count": 11,
   "metadata": {},
   "outputs": [
    {
     "data": {
      "text/plain": [
       "<__main__.Foo at 0x7ff0002e7d68>"
      ]
     },
     "execution_count": 11,
     "metadata": {},
     "output_type": "execute_result"
    }
   ],
   "source": [
    "f = Foo()\n",
    "f"
   ]
  },
  {
   "cell_type": "markdown",
   "metadata": {},
   "source": [
    "如果你继承 Foo 类，可以写成 \n",
    "\n",
    "```\n",
    "FooChild = type('FooChild', (Foo,),{})\n",
    "```\n",
    "\n",
    "我们看到 type 函数可以创建一个类，因为 type 是元类，Python 中所有对象都是由 type 创建而来，注意，Python 中所有的东西都是对象，包括 整数，字符串、函数以及类，都由 type 创建而来"
   ]
  },
  {
   "cell_type": "code",
   "execution_count": 12,
   "metadata": {},
   "outputs": [
    {
     "name": "stdout",
     "output_type": "stream",
     "text": [
      "<class 'int'>\n"
     ]
    },
    {
     "data": {
      "text/plain": [
       "type"
      ]
     },
     "execution_count": 12,
     "metadata": {},
     "output_type": "execute_result"
    }
   ],
   "source": [
    "age = 35\n",
    "print(age.__class__)\n",
    "age.__class__.__class__"
   ]
  },
  {
   "cell_type": "code",
   "execution_count": 13,
   "metadata": {},
   "outputs": [
    {
     "name": "stdout",
     "output_type": "stream",
     "text": [
      "<class 'str'>\n"
     ]
    },
    {
     "data": {
      "text/plain": [
       "type"
      ]
     },
     "execution_count": 13,
     "metadata": {},
     "output_type": "execute_result"
    }
   ],
   "source": [
    "name = 'bob'\n",
    "print(name.__class__)\n",
    "name.__class__.__class__"
   ]
  },
  {
   "cell_type": "code",
   "execution_count": 14,
   "metadata": {},
   "outputs": [
    {
     "data": {
      "text/plain": [
       "type"
      ]
     },
     "execution_count": 14,
     "metadata": {},
     "output_type": "execute_result"
    }
   ],
   "source": [
    "def foo(): pass\n",
    "foo.__class__\n",
    "foo.__class__.__class__"
   ]
  },
  {
   "cell_type": "code",
   "execution_count": 15,
   "metadata": {},
   "outputs": [
    {
     "data": {
      "text/plain": [
       "type"
      ]
     },
     "execution_count": 15,
     "metadata": {},
     "output_type": "execute_result"
    }
   ],
   "source": [
    "class Bar(object): pass\n",
    "b = Bar()\n",
    "b.__class__\n",
    "b.__class__.__class__"
   ]
  },
  {
   "cell_type": "markdown",
   "metadata": {},
   "source": [
    "总之，前面的 record_factory 函数最后一行会构建一个类，类的名称是 `cls_name` 参数的值，唯一直接超类是 object，有 `__slots__`, `__init__`, `__iter__`, `__repr__` 四个类属性，其中后 3 个是实例方法。\n",
    "\n",
    "我们本来可以将 `__slots__` 类属性改成其它值，不过那样就要实现 `__setattr__` 方法，为属性赋值时验证属性的名称，而且顺序相同，然而第 9 章说过，`__slots__` 属性最主要特点就是节省内存，能处理数百万个实例，不过也有一些缺点。\n",
    "\n",
    "把 3 个参数传给 type 是动态创建类的常用方式，如果查看 collections.namedtuple 源码会发现另一种方式，先声明一个 `_class_template` 变量，其值是字符串形式源码模板，然后在 namedtuple 函数中调用 `_class_template.format(...)` 方法，填充模板里的空白，最后，使用内置的 `exec`函数计算得到源码字符串\n",
    "\n",
    "在 Python 元编程时，最好不要使用 exec 和 eval 函数，如果接受字符串来自不可信的源，这两个函数会有严重的安全风险，Python 提供了足够的内省工具，大多数时候不需要这两个函数。\n",
    "\n",
    "record_factory 函数创建的类不能够序列化，即不能使用 pikle 模块里的 dump/load 函数处理，\n",
    "\n",
    "## 定制描述符的类装饰器\n",
    "\n",
    "上一章的 LineItem 例子还有个问题，就是储存的属性不具有描述性，即属性 `_Quantity#0` 不便于调试，如果能存储成 `_Quantity#weight` 之类的就好多了，上一章说过，我们不能使用描述性的存储属性名称，因为实例化描述符时无法得知托管属性，如前面的 weight 的名称，可是如果组建好整个类，而且把描述符绑定到类属性后，我们就可以审查类，并为描述符设置合理的存储属性名称。LineItem 的 `__new__` 方法可以做到这一点，因此，在 `__init__` 方法中使用描述符时，存储属性已经设置了正确的名称。为了解决这个问题使用 `__new__` 方法属于白费力气，每次新建 LineItem 实例时都会运行 `__new__` 方法中的逻辑，可是一旦 LineItem 类构建好了，描述符与托管属性之间的绑定就不会变了。因此，我们要在创建类时设置存储属性的名称。使用类装饰器或元类可以做到这一点，我们先使用简单的方式。\n",
    "\n",
    "类装饰器和函数装饰器非常类似，是参数为类对象的函数，返回原来的类或修改后的类"
   ]
  },
  {
   "cell_type": "code",
   "execution_count": 16,
   "metadata": {
    "collapsed": true
   },
   "outputs": [],
   "source": [
    "import abc \n",
    "\n",
    "class AutoStorage: \n",
    "    __counter = 0\n",
    "    \n",
    "    def __init__(self): \n",
    "        cls = self.__class__ \n",
    "        prefix = cls.__name__\n",
    "        index = cls.__counter\n",
    "        self.storage_name = '_{}#{}'.format(prefix, index)\n",
    "        cls.__counter += 1\n",
    "        \n",
    "    def __get__(self, instance, owner):\n",
    "        if instance is None:\n",
    "            return self\n",
    "        else:\n",
    "            return getattr(instance, self.storage_name) \n",
    "    \n",
    "    def __set__(self, instance, value): \n",
    "        setattr(instance, self.storage_name, value) # 不进行验证\n",
    "      \n",
    "    \n",
    "class Validated(abc.ABC, AutoStorage): # 抽象类，也继承自 AutoStorage\n",
    "    \n",
    "    def __set__(self, instance, value):\n",
    "        # __set__ 方法把验证委托给 validate 方法\n",
    "        value = self.validate(instance, value) \n",
    "        #返回的 value 值返回给超类的 __set__ 方法，存储值\n",
    "        super().__set__(instance, value)\n",
    "        \n",
    "    @abc.abstractmethod\n",
    "    def validate(self, instance, value): # 抽象方法\n",
    "        '''return validated value or raise ValueError'''\n",
    "      \n",
    "    \n",
    "class Quantity(Validated):  \n",
    "    '''a number greater than zero'''\n",
    "    \n",
    "    # 只需要根据不同的验证规则实现 validate 方法即可\n",
    "    def validate(self, instance, value):\n",
    "        if value <= 0:\n",
    "            raise ValueError('value must be > 0')\n",
    "        return value\n",
    "    \n",
    "\n",
    "class NonBlank(Validated):\n",
    "    '''a string with at least one not-space character'''\n",
    "            \n",
    "    def validate(self, instance, value):\n",
    "        value = value.strip()\n",
    "        if len(value) == 0:\n",
    "            raise ValueError('value cannot be empty or blank')\n",
    "        return value\n",
    "            \n",
    "        \n",
    "# class LineItem: # 托管类\n",
    "#     weight = Quantity() \n",
    "#     price = Quantity()\n",
    "#     description = NonBlank()\n",
    "    \n",
    "#     def __init__(self, description, weight, price):\n",
    "#         self.description = description\n",
    "#         self.weight = weight\n",
    "#         self.price = price\n",
    "        \n",
    "#     def subtotal(self):\n",
    "#         return self.weight * self.price\n",
    " \n",
    "## --------------------\n",
    "## 上面的和 上一章代码相同, LineItem 类只加了 1 行，在下面实现\n",
    "## --------------------\n",
    "\n",
    "def entity(cls):\n",
    "    for key, attr in cls.__dict__.items():\n",
    "        if isinstance(attr, Validated):\n",
    "            type_name = type(attr).__name__\n",
    "            attr.storage_name = '_{}#{}'.format(type_name, key)\n",
    "    return cls #返回修改后的类"
   ]
  },
  {
   "cell_type": "code",
   "execution_count": 17,
   "metadata": {
    "collapsed": true
   },
   "outputs": [],
   "source": [
    "@entity # 类装饰器，定义类的时候就会调用\n",
    "class LineItem: \n",
    "    weight = Quantity() \n",
    "    price = Quantity()\n",
    "    description = NonBlank()\n",
    "    \n",
    "    def __init__(self, description, weight, price):\n",
    "        self.description = description\n",
    "        self.weight = weight\n",
    "        self.price = price\n",
    "        \n",
    "    def subtotal(self):\n",
    "        return self.weight * self.price"
   ]
  },
  {
   "cell_type": "code",
   "execution_count": 18,
   "metadata": {},
   "outputs": [
    {
     "data": {
      "text/plain": [
       "['_NonBlank#description', '_Quantity#price', '_Quantity#weight']"
      ]
     },
     "execution_count": 18,
     "metadata": {},
     "output_type": "execute_result"
    }
   ],
   "source": [
    "raisins = LineItem('Golden raisins', 10, 6.95)\n",
    "dir(raisins)[:3]"
   ]
  },
  {
   "cell_type": "code",
   "execution_count": 19,
   "metadata": {},
   "outputs": [
    {
     "data": {
      "text/plain": [
       "'_NonBlank#description'"
      ]
     },
     "execution_count": 19,
     "metadata": {},
     "output_type": "execute_result"
    }
   ],
   "source": [
    "LineItem.description.storage_name"
   ]
  },
  {
   "cell_type": "code",
   "execution_count": 20,
   "metadata": {},
   "outputs": [
    {
     "data": {
      "text/plain": [
       "'Golden raisins'"
      ]
     },
     "execution_count": 20,
     "metadata": {},
     "output_type": "execute_result"
    }
   ],
   "source": [
    "raisins.description"
   ]
  },
  {
   "cell_type": "code",
   "execution_count": 21,
   "metadata": {},
   "outputs": [
    {
     "data": {
      "text/plain": [
       "'Golden raisins'"
      ]
     },
     "execution_count": 21,
     "metadata": {},
     "output_type": "execute_result"
    }
   ],
   "source": [
    "getattr(raisins, '_NonBlank#description')"
   ]
  },
  {
   "cell_type": "markdown",
   "metadata": {},
   "source": [
    "类装饰器能以较简单的方式做到以前需要元类去做的事情 -- 创建类的时候定制类\n",
    "\n",
    "类装饰器有个重大的缺点：只对直接依附的类有效，这意味着，被装饰的类的子类可能继承也可能不继承装饰类所做的改动，具体情况视改动方式而定\n",
    "\n",
    "## 导入时和运行时比较\n",
    "\n",
    "定义两个文件, evaltime.py"
   ]
  },
  {
   "cell_type": "code",
   "execution_count": null,
   "metadata": {
    "collapsed": true
   },
   "outputs": [],
   "source": [
    "#!/usr/bin/env python\n",
    "# encoding: utf-8\n",
    "\n",
    "from evalsupport import deco_alpha\n",
    "\n",
    "print('<[0]> evaltime module start')\n",
    "\n",
    "def test():\n",
    "    class Test:\n",
    "        print('<[1]> evaltime test Test')\n",
    "\n",
    "\n",
    "class ClassOne():\n",
    "\tprint('<[2]> ClassOne body')\n",
    "\n",
    "\tdef __init__(self):\n",
    "\t\tprint('<[3]> ClassOne.__init__')\n",
    "\n",
    "\tdef __del__(self):\n",
    "\t\tprint('<[4]> ClassOne.__del__')\n",
    "\n",
    "\tdef method_x(self):\n",
    "\t\tprint('<[5]> ClassOne.method_x')\n",
    "\n",
    "\tclass ClassTwo(object):\n",
    "\t\tprint('<[6]> ClassTwo body')\n",
    "\n",
    "\n",
    "@deco_alpha\n",
    "class ClassThree():\n",
    "\tprint('<[7]> ClassThree body')\n",
    "\n",
    "\tdef method_y(self):\n",
    "\t\tprint('<[8]> ClassThree.method_y')\n",
    "\n",
    "\n",
    "class ClassFour(ClassThree):\n",
    "\tprint('<[9]> ClassFour body')\n",
    "\n",
    "\tdef method_y(self):\n",
    "\t\tprint('<[10]> ClassFour.method_y')\n",
    "\n",
    "\n",
    "if __name__ == '__main__':\n",
    "\tprint('<[11]> ClassOne tests', 30 * '.')\n",
    "\tone = ClassOne()\n",
    "\tone.method_x()\n",
    "\tprint('<[12]> ClassThree tests', 30 * '.')\n",
    "\tthree = ClassThree()\n",
    "\tthree.method_y()\n",
    "\tprint('<[13]> ClassFour tests', 30 * '.')\n",
    "\tfour = ClassFour()\n",
    "\tfour.method_y()\n",
    "\n",
    "print('<[14]> evaltime module end')"
   ]
  },
  {
   "cell_type": "markdown",
   "metadata": {},
   "source": [
    "evalsupport.py"
   ]
  },
  {
   "cell_type": "code",
   "execution_count": null,
   "metadata": {
    "collapsed": true
   },
   "outputs": [],
   "source": [
    "#!/usr/bin/env python\n",
    "# encoding: utf-8\n",
    "\n",
    "print('<[100]> evalsupport module start')\n",
    "\n",
    "def deco_alpha(cls):\n",
    "    print('<[200]> deco_alpha')\n",
    "\n",
    "    def inner_1(self):\n",
    "    \tprint('<[300]> deco_alpha:inner_1')\n",
    "\n",
    "    cls.method_y = inner_1\n",
    "    return cls \n",
    "\n",
    "\n",
    "class MetaAleph(type):\n",
    "\tprint('<[400]> MetaAleph body')\n",
    "\n",
    "\tdef __init__(cls, name, bases, dic):\n",
    "\t\tprint('<[500]> MetaAleph.__init__')\n",
    "\n",
    "\t\tdef inner_2(self):\n",
    "\t\t\tprint('<[600]> MetaAleph.__init__:inner_2')\n",
    "\n",
    "\t\tcls.method_z = inner_2\n",
    "\n",
    "\n",
    "print('<[700]> evalsupport module end')"
   ]
  },
  {
   "cell_type": "markdown",
   "metadata": {
    "collapsed": true
   },
   "source": [
    "```\n",
    "In [1]: import evaltime\n",
    "<[100]> evalsupport module start #evalsupport 模块中所有顶层代码在导入模块时执行，解释器会编译 deco_alpha 函数，但不会执行定义体\n",
    "<[400]> MetaAleph body        # 类定义体运行了\n",
    "<[700]> evalsupport module end \n",
    "<[0]> evaltime module start\n",
    "<[2]> ClassOne body # 每个类的定义体都执行了\n",
    "<[6]> ClassTwo body #包括嵌套的类\n",
    "<[7]> ClassThree body\n",
    "<[200]> deco_alpha　# 先计算被装饰的 ClassThree 类定义体，然后运行装饰器函数\n",
    "<[9]> ClassFour body\n",
    "<[14]> evaltime module end #这里，evaltime 是被导入的，不会运行 if __name == '__main__'\n",
    "```\n",
    "\n",
    "```\n",
    "(py35) kaka@kaka-deep:~/kaka$ python3 evaltime.py \n",
    "<[100]> evalsupport module start\n",
    "<[400]> MetaAleph body\n",
    "<[700]> evalsupport module end\n",
    "<[0]> evaltime module start\n",
    "<[2]> ClassOne body\n",
    "<[6]> ClassTwo body\n",
    "<[7]> ClassThree body\n",
    "<[200]> deco_alpha\n",
    "<[9]> ClassFour body\n",
    "<[11]> ClassOne tests ..............................\n",
    "<[3]> ClassOne.__init__\n",
    "<[5]> ClassOne.method_x\n",
    "<[12]> ClassThree tests ..............................\n",
    "<[300]> deco_alpha:inner_1 # 类装饰器改变了 ClassThree.method_y 方法\n",
    "<[13]> ClassFour tests ..............................\n",
    "<[10]> ClassFour.method_y\n",
    "<[14]> evaltime module end\n",
    "<[4]> ClassOne.__del__ # 程序结束后，绑定在全局变量 one 上的 ClassOne 实例才会被垃圾回收\n",
    "```\n",
    "\n",
    "## 元类基础知识\n",
    "\n",
    "元类是制造类的工厂，不过不是函数，而是类。\n",
    "\n",
    "根据 Python对象模型，类是对象，因此类肯定是另外某个类的实例，默认情况下，Python 中的类是 type 的实例，也就是说，type 是大多数内置的类和用户定义的类的元类，为了避免无限递归，type 是自身的实例。注意，我们没有说 str 或者 LineItem 继承自 type，而是说 str 和 LineItem 是 type 的实例。\n",
    "\n",
    "object 类和 type 类之间的关系很独特，object 是 type 的实例，type 是 object 的子类，这种关系很独特，无法使用 Python 代码表述，因为其定义其中一个之前另一个必须存在，type 是自身的实例这一点也很神奇\n",
    "\n",
    "除了 type，标准库中还有一些别的类，例如 ABCMeta 和 Enum。如下所示："
   ]
  },
  {
   "cell_type": "code",
   "execution_count": 1,
   "metadata": {},
   "outputs": [
    {
     "data": {
      "text/plain": [
       "abc.ABCMeta"
      ]
     },
     "execution_count": 1,
     "metadata": {},
     "output_type": "execute_result"
    }
   ],
   "source": [
    "import collections\n",
    "collections.Iterable.__class__"
   ]
  },
  {
   "cell_type": "code",
   "execution_count": 2,
   "metadata": {},
   "outputs": [
    {
     "data": {
      "text/plain": [
       "type"
      ]
     },
     "execution_count": 2,
     "metadata": {},
     "output_type": "execute_result"
    }
   ],
   "source": [
    "import abc\n",
    "abc.ABCMeta.__class__"
   ]
  },
  {
   "cell_type": "code",
   "execution_count": 3,
   "metadata": {},
   "outputs": [
    {
     "data": {
      "text/plain": [
       "(abc.ABCMeta, type, object)"
      ]
     },
     "execution_count": 3,
     "metadata": {},
     "output_type": "execute_result"
    }
   ],
   "source": [
    "abc.ABCMeta.__mro__"
   ]
  },
  {
   "cell_type": "markdown",
   "metadata": {},
   "source": [
    "向上追溯，ABCMeta 最终所属的类也是 type，所有类都直接或间接的是 type 的实例，不过只有元类同事也是 type 的子类。若理解元类，一定要知道这种关系：元类（如 ABCMeta）从 type 类继承了构建类的能力。\n",
    "\n",
    "我们要抓住的重点是，**所有类都是 type 的实例，但元类还是 type 的子类**，因此可以作为制造类的工厂，具体来说，元类可以通过实现 `__init__` 方法来定制。元类的 `__init__` 方法可以做到类装饰器能做的任何事情，但是作用更大\n",
    "\n",
    "## 理解元类计算时间的练习\n",
    "\n",
    "我们让 evalsupport.py 与原来相同，新建一个 evaltime_meta.py 作为主脚本："
   ]
  },
  {
   "cell_type": "code",
   "execution_count": null,
   "metadata": {
    "collapsed": true
   },
   "outputs": [],
   "source": [
    "#!/usr/bin/env python\n",
    "# encoding: utf-8\n",
    "\n",
    "from evalsupport import deco_alpha\n",
    "from evalsupport import MetaAleph\n",
    "\n",
    "print('<[1]> evaltime module start')\n",
    "\n",
    "\n",
    "@deco_alpha\n",
    "class ClassThree():\n",
    "\tprint('<[2]> ClassThree body')\n",
    "\n",
    "\tdef method_y(self):\n",
    "\t\tprint('<[3]> ClassThree.method_y')\n",
    "\n",
    "\n",
    "class ClassFour(ClassThree):\n",
    "\tprint('<[4]> ClassFour body')\n",
    "\n",
    "\tdef method_y(self):\n",
    "\t\tprint('<[5]> ClassFour.method_y')\n",
    "\n",
    "\n",
    "class ClassFive(metaclass=MetaAleph):\n",
    "\tprint('<[6]> ClassFive body')\n",
    "\n",
    "\tdef __init__(self):\n",
    "\t\tprint('<[7]> ClassFive body')\n",
    "\n",
    "\tdef method_z(self):\n",
    "\t\tprint('<[8]> ClassFive.method_z')\n",
    "\n",
    "\n",
    "class ClassSix(ClassFive):\n",
    "\tprint('<[9]> ClassSix body')\n",
    "\n",
    "\tdef method_z(self):\n",
    "\t\tprint('<[10]> ClassSix.method_z')\n",
    "\n",
    "\n",
    "if __name__ == '__main__':\n",
    "\tprint('<[11]> ClassThree tests', 30 * '.')\n",
    "\tthree = ClassThree()\n",
    "\tthree.method_y()\n",
    "\tprint('<[12]> ClassFour tests', 30 * '.')\n",
    "\tfour = ClassFour()\n",
    "\tfour.method_y()\n",
    "\tprint('<[13]> ClassFive tests', 30 * '.')\n",
    "\tfive = ClassFive()\n",
    "\tfive.method_z()\n",
    "\tprint('<[14]> ClassSix tests', 30 * '.')\n",
    "\tsix = ClassSix()\n",
    "\tsix.method_z()\n",
    "\n",
    "print('<[15]> evaltime module end')"
   ]
  },
  {
   "cell_type": "markdown",
   "metadata": {},
   "source": [
    "引入操作： \n",
    "\n",
    "```\n",
    "In [1]: import evaltime_meta\n",
    "<[100]> evalsupport module start\n",
    "<[400]> MetaAleph body\n",
    "<[700]> evalsupport module end\n",
    "<[1]> evaltime module start\n",
    "<[2]> ClassThree body\n",
    "<[200]> deco_alpha\n",
    "<[4]> ClassFour body\n",
    "<[6]> ClassFive body\n",
    "<[500]> MetaAleph.__init__ #与前面关键区别是，创建 ClassFive时调用了 MetaAleph.__init__ 方法\n",
    "<[9]> ClassSix body\n",
    "<[500]> MetaAleph.__init__ # 同上\n",
    "<[15]> evaltime module end\n",
    "```\n",
    "\n",
    "Python 解释器计算 ClassFive 类的定义体时没有调用 type 构建具体的类定义体，而是调用 MetaAleph 类。MetaAleph 类的 `__init__` 有 4 个参数。\n",
    "\n",
    "self: 要初始化的对象，例如 ClassFive\n",
    "name, bases, dic： 与构建类时传给 type 的参数一样\n",
    "\n",
    "重新看一下这个类：\n",
    "\n",
    "```\n",
    "class MetaAleph(type):\n",
    "    print('<[400]> MetaAleph body')\n",
    " \n",
    "    def __init__(cls, name, bases, dic):\n",
    "        print('<[500]> MetaAleph.__init__')\n",
    " \n",
    "        def inner_2(self):\n",
    "            print('<[600]> MetaAleph.__init__:inner_2')\n",
    " \n",
    "        cls.method_z = inner_2\n",
    "```\n",
    "\n",
    "编写元类时候，通常把 self 参数改成 cls。`__init__` 方法的定义体中定义了 `inner_2` 函数，然后绑定给 `cls.method_z`。`MetaAleph.__init__` 方法签名中的 cls 指代要创建的类（例如 ClassFive）。而 `inner_2` 函数签名中的 self 最终是指代我们创建的类的实例（例如 ClassFive 类的实例）\n",
    "\n",
    "运行脚本:\n",
    "    \n",
    "```\n",
    "(pytorch) kaka@kaka-dell:~/kaka/python$ python3 evaltime_meta.py \n",
    "<[100]> evalsupport module start\n",
    "<[400]> MetaAleph body\n",
    "<[700]> evalsupport module end\n",
    "<[1]> evaltime module start\n",
    "<[2]> ClassThree body\n",
    "<[200]> deco_alpha\n",
    "<[4]> ClassFour body\n",
    "<[6]> ClassFive body\n",
    "<[500]> MetaAleph.__init__\n",
    "<[9]> ClassSix body\n",
    "<[500]> MetaAleph.__init__\n",
    "<[11]> ClassThree tests ..............................\n",
    "<[300]> deco_alpha:inner_1\n",
    "<[12]> ClassFour tests ..............................\n",
    "<[5]> ClassFour.method_y\n",
    "<[13]> ClassFive tests ..............................\n",
    "<[7]> ClassFive body\n",
    "<[600]> MetaAleph.__init__:inner_2 # MetaAleph 类的 __init__ 方法把ClassFive.method_z 方法替换成 inner_2 函数。\n",
    "<[14]> ClassSix tests ..............................\n",
    "<[7]> ClassFive body\n",
    "<[600]> MetaAleph.__init__:inner_2 # ClassFive 的子类 ClassSix 也是一样\n",
    "<[15]> evaltime module end\n",
    "```\n",
    "\n",
    "注意，ClassSix 类没有直接引用 MetaAleph 类，但是却收到了影响，因为它是 ClassFive 的子类，进而也是 MetaAleph 类的实例，所以由 `MetaAleph.__init__` 实例化\n",
    "\n",
    "## 定制描述符的元类\n"
   ]
  },
  {
   "cell_type": "code",
   "execution_count": 22,
   "metadata": {},
   "outputs": [],
   "source": [
    "class EntityMeta(type):\n",
    "    \"\"\"元类,用于创建带有验证字段的业务实体\"\"\"\n",
    "    def __init__(cls, name, bases, attr_dict): \n",
    "        super().__init__(name, bases, attr_dict) # 在超类（这里是 type）上调用 __init__\n",
    "        for key, attr in attr_dict.items():\n",
    "            if isinstance(attr, Validated):\n",
    "                type_name = type(attr).__name__\n",
    "                attr.storage_name = '_{}#{}'.format(type_name, key)\n",
    "                \n",
    "                \n",
    "class Entity(metaclass=EntityMeta): # 这个类只是为了用起来便利，这个模块的用户直接继承它即可，不用关心元类\n",
    "    '''带有验证字段的业务实体'''\n",
    "    \n",
    "    \n",
    "class LineItem(Entity): \n",
    "    weight = Quantity() \n",
    "    price = Quantity()\n",
    "    description = NonBlank()\n",
    "    \n",
    "    def __init__(self, description, weight, price):\n",
    "        self.description = description\n",
    "        self.weight = weight\n",
    "        self.price = price\n",
    "        \n",
    "    def subtotal(self):\n",
    "        return self.weight * self.price"
   ]
  },
  {
   "cell_type": "markdown",
   "metadata": {},
   "source": [
    "写成这种语法，用户完全不用知道描述符或元类，直接继承库中提供的类就能满足要求\n",
    "\n",
    "## 元类的特殊用法 `__prepare__`\n",
    "\n",
    "在某些应用中，可能要知道类属性的定义顺序，例如读写 csv 文件的库，用户定义的类可能想要把类中按顺序声明的字段与 csv 文件中的各列对应起来\n",
    "\n",
    "前面说过，type 构造方法以及元类的 `__new__` 和 `__init__` 都接收类的定义体，形式是一个名称到属性的字典，也就是说，当元类或装饰器获得映射时，属性的顺序已经丢失了。\n",
    "\n",
    "在 Python 3 中可以使用 `__prepare__`， 这个特殊方法只能在元类中使用，而且要声明为类方法（即，要使用 classmethod 类装饰器定义）。解释器调用元类 `__new__` 方法之前会调用 `__prepare__` 方法，使用类定义提中的属性创建映射。`__prepare` 第一个参数是元类，随后两个参数是类的名称以及组成的元祖，返回值是映射。元类构建新类时，`__prepare__` 方法返回的映射会传给 `__new__` 方法的最后一个参数，然后再传给 `__init__` 方法"
   ]
  },
  {
   "cell_type": "code",
   "execution_count": 24,
   "metadata": {},
   "outputs": [],
   "source": [
    "import collections\n",
    "\n",
    "class EntityMeta(type):\n",
    "    \"\"\"元类,用于创建带有验证字段的业务实体\"\"\"\n",
    "    \n",
    "    @classmethod\n",
    "    def __prepare__(cls, name, bases):\n",
    "        return collections.OrderedDict() # 返回空的 OrderedDict 实例，存储类属性\n",
    "    \n",
    "    def __init__(cls, name, bases, attr_dict): \n",
    "        super().__init__(name, bases, attr_dict) # 在超类（这里是 type）上调用 __init__\n",
    "        cls._field_names = []\n",
    "        for key, attr in attr_dict.items():\n",
    "            if isinstance(attr, Validated):\n",
    "                type_name = type(attr).__name__\n",
    "                attr.storage_name = '_{}#{}'.format(type_name, key)\n",
    "                cls._field_names.append(key) # 按顺序存储类属性\n",
    "                \n",
    "class Entity(metaclass=EntityMeta): # 这个类只是为了用起来便利，这个模块的用户直接继承它即可，不用关心元类\n",
    "    '''带有验证字段的业务实体'''\n",
    "    @classmethod\n",
    "    def field_names(cls):\n",
    "        for name in cls._field_names:\n",
    "            yield name # 按照添加字段的顺序产出字段名称"
   ]
  },
  {
   "cell_type": "code",
   "execution_count": 26,
   "metadata": {},
   "outputs": [
    {
     "name": "stdout",
     "output_type": "stream",
     "text": [
      "weight\n",
      "price\n",
      "description\n"
     ]
    }
   ],
   "source": [
    "class LineItem(Entity): \n",
    "    weight = Quantity() \n",
    "    price = Quantity()\n",
    "    description = NonBlank()\n",
    "    \n",
    "    def __init__(self, description, weight, price):\n",
    "        self.description = description\n",
    "        self.weight = weight\n",
    "        self.price = price\n",
    "        \n",
    "    def subtotal(self):\n",
    "        return self.weight * self.price\n",
    "    \n",
    "for name in LineItem.field_names():\n",
    "    print(name)"
   ]
  },
  {
   "cell_type": "markdown",
   "metadata": {},
   "source": [
    "在现实世界中，框架和库会使用元类协助程序员执行很多任务，例如：\n",
    "\n",
    "- 验证属性\n",
    "- 一次把装饰器依附到多个方法上\n",
    "- 序列化对象或转换数据\n",
    "- 对象关系映射\n",
    "- 基于对象的持久存储\n",
    "- 动态转换使用其他语言写的类结构\n",
    "\n",
    "## 类作为对象\n",
    "\n",
    "Python 模型为每个类定义了很多属性，例如\n",
    "\n",
    "- `cls.__mro__`: 超类元组\n",
    "- `cls.__class__`: 所属类\n",
    "- `cls.__name__`: 类名\n",
    "- `cls.__bases__`: 由类的基类组成的元组\n",
    "- `cls.__qualname__`: 或函数的限定名称,即从模块的全局作用域到类的点分路径\n",
    "- `cls.__subclasses__()`: 这个方法返回一个列表,包含类的直接子类。\n",
    "- `cls.mro()`: 调用 `cls.__mro__`"
   ]
  },
  {
   "cell_type": "code",
   "execution_count": null,
   "metadata": {
    "collapsed": true
   },
   "outputs": [],
   "source": []
  }
 ],
 "metadata": {
  "kernelspec": {
   "display_name": "Python 3",
   "language": "python",
   "name": "python3"
  },
  "language_info": {
   "codemirror_mode": {
    "name": "ipython",
    "version": 3
   },
   "file_extension": ".py",
   "mimetype": "text/x-python",
   "name": "python",
   "nbconvert_exporter": "python",
   "pygments_lexer": "ipython3",
   "version": "3.5.3"
  }
 },
 "nbformat": 4,
 "nbformat_minor": 2
}
