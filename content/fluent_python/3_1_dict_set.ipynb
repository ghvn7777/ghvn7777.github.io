{
 "cells": [
  {
   "cell_type": "markdown",
   "metadata": {
    "deletable": true,
    "editable": true
   },
   "source": [
    "我们在这章讨论字典和集合，因为它们背后都是哈希表，下面是本章的大纲\n",
    "\n",
    "- 常用字典方法\n",
    "- 特别处理遗失的键\n",
    "- 在标准库中，dict 的变化\n",
    "- set 与 frozenset 形态\n",
    "- 哈希表的工作原理\n",
    "- 哈希表的影响（键形态限制，无法预知的排序等等）\n",
    "\n",
    "## 什么是可哈希化\n",
    "\n",
    "如果一个对象有一个哈希值，而且在生命周期中不被改变（它需要实现一个 `__hash__()` 方法），而且可以与其它对象比较（需要实现 `__eq__()` 方法），就是可哈希化的。看下面例子"
   ]
  },
  {
   "cell_type": "code",
   "execution_count": 2,
   "metadata": {
    "collapsed": false,
    "deletable": true,
    "editable": true
   },
   "outputs": [
    {
     "data": {
      "text/plain": [
       "8027212646858338501"
      ]
     },
     "execution_count": 2,
     "metadata": {},
     "output_type": "execute_result"
    }
   ],
   "source": [
    "tt = (1, 2, (30, 40))\n",
    "hash(tt)"
   ]
  },
  {
   "cell_type": "code",
   "execution_count": 5,
   "metadata": {
    "collapsed": false,
    "deletable": true,
    "editable": true
   },
   "outputs": [
    {
     "ename": "TypeError",
     "evalue": "unhashable type: 'list'",
     "output_type": "error",
     "traceback": [
      "\u001b[0;31m---------------------------------------------------------------------------\u001b[0m",
      "\u001b[0;31mTypeError\u001b[0m                                 Traceback (most recent call last)",
      "\u001b[0;32m<ipython-input-5-16500db93317>\u001b[0m in \u001b[0;36m<module>\u001b[0;34m()\u001b[0m\n\u001b[1;32m      1\u001b[0m \u001b[0mt1\u001b[0m \u001b[0;34m=\u001b[0m \u001b[0;34m(\u001b[0m\u001b[0;36m1\u001b[0m\u001b[0;34m,\u001b[0m \u001b[0;36m2\u001b[0m\u001b[0;34m,\u001b[0m \u001b[0;34m[\u001b[0m\u001b[0;36m30\u001b[0m\u001b[0;34m,\u001b[0m \u001b[0;36m40\u001b[0m\u001b[0;34m]\u001b[0m\u001b[0;34m)\u001b[0m\u001b[0;34m\u001b[0m\u001b[0m\n\u001b[0;32m----> 2\u001b[0;31m \u001b[0mhash\u001b[0m\u001b[0;34m(\u001b[0m\u001b[0mt1\u001b[0m\u001b[0;34m)\u001b[0m\u001b[0;34m\u001b[0m\u001b[0m\n\u001b[0m",
      "\u001b[0;31mTypeError\u001b[0m: unhashable type: 'list'"
     ]
    }
   ],
   "source": [
    "t1 = (1, 2, [30, 40]) # 其中列表是可变的，所以没有哈希值\n",
    "hash(t1)"
   ]
  },
  {
   "cell_type": "code",
   "execution_count": 6,
   "metadata": {
    "collapsed": false,
    "deletable": true,
    "editable": true
   },
   "outputs": [
    {
     "data": {
      "text/plain": [
       "-4118419923444501110"
      ]
     },
     "execution_count": 6,
     "metadata": {},
     "output_type": "execute_result"
    }
   ],
   "source": [
    "tf = (1, 2, frozenset([30, 40])) #frozenset 是冻结的集合，不可变的，所以有哈希值\n",
    "hash(tf)"
   ]
  },
  {
   "cell_type": "markdown",
   "metadata": {
    "deletable": true,
    "editable": true
   },
   "source": [
    "## 构建字典方法"
   ]
  },
  {
   "cell_type": "code",
   "execution_count": 8,
   "metadata": {
    "collapsed": false,
    "deletable": true,
    "editable": true
   },
   "outputs": [
    {
     "data": {
      "text/plain": [
       "True"
      ]
     },
     "execution_count": 8,
     "metadata": {},
     "output_type": "execute_result"
    }
   ],
   "source": [
    "a = dict(one = 1, two = 2, three = 3)\n",
    "b = {'one': 1, 'two': 2, 'three': 3}\n",
    "c = dict(zip(['one', 'two', 'three'], [1, 2, 3]))\n",
    "d = dict([('two', 2), ('one', 1), ('three', 3)])\n",
    "e = dict({'three': 3, 'one': 1, 'two': 2})\n",
    "a == b == c == d == e"
   ]
  },
  {
   "cell_type": "markdown",
   "metadata": {
    "deletable": true,
    "editable": true
   },
   "source": [
    "除了常规语法以及 dict 构建之外，我们可以使用字典生成式来构建字典，dictcomp 会由任何一个可迭代对象产生一对 key:value 来构建 dict，下面是使用字典生成式的一个例子:"
   ]
  },
  {
   "cell_type": "code",
   "execution_count": 11,
   "metadata": {
    "collapsed": false,
    "deletable": true,
    "editable": true
   },
   "outputs": [
    {
     "data": {
      "text/plain": [
       "{'China': 86, 'India': 91, 'United States': 1}"
      ]
     },
     "execution_count": 11,
     "metadata": {},
     "output_type": "execute_result"
    }
   ],
   "source": [
    "DIAL_CODES = [\n",
    "    (86, 'China'),\n",
    "    (91, 'India'),\n",
    "    (1, 'United States')\n",
    "]\n",
    "\n",
    "country_code = {country: code for code, country in DIAL_CODES}\n",
    "country_code"
   ]
  },
  {
   "cell_type": "markdown",
   "metadata": {
    "deletable": true,
    "editable": true
   },
   "source": [
    "字典有一个内置方法 `d.update(m, [**kargs])` 它会先判断 m，如果 m 有 keys 方法，就假定它是个映射，负责迭代 m，假设它的元素是 (key, value)，这也就是说明任何产生 (key, value) 的迭代对象都可以构建字典\n",
    "\n",
    "## 使用 setdefault 处理找不到的键\n",
    "\n",
    "当 dict 使用 d[k] 时，发现 k 不是现有键时，会跑出 KeyError 错误，我们知道 d.get(k, default) 是 d[k] 的另一种用法，使用预处理值要比处理 KeyError 异常更方便，但是如果你要更新你找到的值，使用 `__getitem__()` 和 `get()` 都很没有效率，我们下面先看一下一般时候处理找不到键的方式:"
   ]
  },
  {
   "cell_type": "code",
   "execution_count": 15,
   "metadata": {
    "collapsed": false,
    "deletable": true,
    "editable": true
   },
   "outputs": [
    {
     "name": "stdout",
     "output_type": "stream",
     "text": [
      "a [(2, 49)]\n",
      "aided [(2, 194)]\n",
      "and [(2, 181)]\n",
      "art [(2, 96)]\n",
      "artistic [(2, 17), (2, 135)]\n",
      "but [(2, 56)]\n",
      "channeled [(2, 122)]\n",
      "computer [(2, 185)]\n",
      "design [(2, 200)]\n",
      "film [(2, 175)]\n",
      "fine [(2, 91)]\n",
      "had [(2, 6)]\n",
      "I [(2, 1), (2, 43), (2, 60), (2, 117)]\n",
      "impulses [(2, 144)]\n",
      "in [(2, 85)]\n",
      "Instead [(2, 108)]\n",
      "invested [(2, 71)]\n",
      "kid [(2, 51)]\n",
      "mainly [(2, 153)]\n",
      "much [(2, 80)]\n",
      "music [(2, 168)]\n",
      "my [(2, 88), (2, 132)]\n",
      "My [(1, 1)]\n",
      "never [(2, 65)]\n",
      "point [(1, 13)]\n",
      "since [(2, 37)]\n",
      "skills [(2, 100)]\n",
      "starting [(1, 4)]\n",
      "strong [(2, 10)]\n",
      "tendencies [(2, 26)]\n",
      "through [(2, 160)]\n",
      "ve [(2, 3), (2, 62), (2, 119)]\n",
      "was [(2, 45)]\n"
     ]
    }
   ],
   "source": [
    "#!/usr/bin/env python\n",
    "# encoding: utf-8\n",
    "import sys\n",
    "import re\n",
    "\n",
    "WORD_RE = re.compile('\\w+') # \\w 是匹配任意字母或数字，+ 是匹配一次到任意次\n",
    "\n",
    "index = {}\n",
    "#with open(sys.argv[1], encoding=\"utf-8\") as fp:  #正常文件名是参数传的\n",
    "with open(\"/home/kaka/test.txt\", encoding=\"utf-8\") as fp:\n",
    "    for line_no, line in enumerate(fp, 1):    # line_no 是索引（从 1 开始），line 是行的内容\n",
    "        for match in WORD_RE.finditer(line):  # 返回所有匹配子串，返回类型是迭代器\n",
    "            word = match.group()              # group 获取该单词 （match 是一个对象）\n",
    "            column_no = match.start() + 1     # 获取列数，索引从 0 开始\n",
    "            location = (line_no, column_no)   # 构造一个元组，内容是 (row, col)\n",
    "            # 这样写很糟糕，这里仅仅是为了演示\n",
    "            occurrences = index.get(word, []) # 判断该单词是否被添加过，没有返回 [ ]，注意返回的是原列表的一个备份\n",
    "            occurrences.append(location)      # 为该 key 对应的值添加内容\n",
    "            index[word] = occurrences         # 这要搜索 word 这个 key 第二次\n",
    "for word in sorted(index, key = str.upper):   # 按照字母顺序排序，忽略大小写\n",
    "    print(word, index[word])        "
   ]
  },
  {
   "cell_type": "markdown",
   "metadata": {
    "deletable": true,
    "editable": true
   },
   "source": [
    "我们处理 occurrences 的三行可以使用 dict.setdefault 来改为一行"
   ]
  },
  {
   "cell_type": "code",
   "execution_count": 16,
   "metadata": {
    "collapsed": false,
    "deletable": true,
    "editable": true
   },
   "outputs": [
    {
     "name": "stdout",
     "output_type": "stream",
     "text": [
      "a [(2, 49)]\n",
      "aided [(2, 194)]\n",
      "and [(2, 181)]\n",
      "art [(2, 96)]\n",
      "artistic [(2, 17), (2, 135)]\n",
      "but [(2, 56)]\n",
      "channeled [(2, 122)]\n",
      "computer [(2, 185)]\n",
      "design [(2, 200)]\n",
      "film [(2, 175)]\n",
      "fine [(2, 91)]\n",
      "had [(2, 6)]\n",
      "I [(2, 1), (2, 43), (2, 60), (2, 117)]\n",
      "impulses [(2, 144)]\n",
      "in [(2, 85)]\n",
      "Instead [(2, 108)]\n",
      "invested [(2, 71)]\n",
      "kid [(2, 51)]\n",
      "mainly [(2, 153)]\n",
      "much [(2, 80)]\n",
      "music [(2, 168)]\n",
      "my [(2, 88), (2, 132)]\n",
      "My [(1, 1)]\n",
      "never [(2, 65)]\n",
      "point [(1, 13)]\n",
      "since [(2, 37)]\n",
      "skills [(2, 100)]\n",
      "starting [(1, 4)]\n",
      "strong [(2, 10)]\n",
      "tendencies [(2, 26)]\n",
      "through [(2, 160)]\n",
      "ve [(2, 3), (2, 62), (2, 119)]\n",
      "was [(2, 45)]\n"
     ]
    }
   ],
   "source": [
    "#!/usr/bin/env python\n",
    "# encoding: utf-8\n",
    "import sys\n",
    "import re\n",
    "\n",
    "WORD_RE = re.compile('\\w+') # \\w 是匹配任意字母或数字，+ 是匹配一次到任意次\n",
    "\n",
    "index = {}\n",
    "#with open(sys.argv[1], encoding=\"utf-8\") as fp:  #正常文件名是参数传的\n",
    "with open(\"/home/kaka/test.txt\", encoding=\"utf-8\") as fp:\n",
    "    for line_no, line in enumerate(fp, 1):    # line_no 是索引（从 1 开始），line 是行的内容\n",
    "        for match in WORD_RE.finditer(line):  # 返回所有匹配子串，返回类型是迭代器\n",
    "            word = match.group()              # group 获取该单词 （match 是一个对象）\n",
    "            column_no = match.start() + 1     # 获取列数，索引从 0 开始\n",
    "            location = (line_no, column_no)   # 构造一个元组，内容是 (row, col)\n",
    "            index.setdefault(word, []).append(location) #如果没有 word 这个 key，设为 [ ]，setdefault 会传回该值，所以不用二次搜索就可以被更新\n",
    "for word in sorted(index, key = str.upper):   # 按照字母顺序排序，忽略大小写\n",
    "    print(word, index[word])      "
   ]
  },
  {
   "cell_type": "markdown",
   "metadata": {
    "deletable": true,
    "editable": true
   },
   "source": [
    "换句话说 `index.setdefault(word, []).append(location)` 与下面等价"
   ]
  },
  {
   "cell_type": "code",
   "execution_count": 18,
   "metadata": {
    "collapsed": false,
    "deletable": true,
    "editable": true
   },
   "outputs": [],
   "source": [
    "#if key not in my_dict:\n",
    "#    my_dict[key] = []\n",
    "#else:\n",
    "#    my_dict[key].append(new_value)"
   ]
  },
  {
   "cell_type": "markdown",
   "metadata": {
    "deletable": true,
    "editable": true
   },
   "source": [
    "## 可弹性查找键的映射\n",
    "\n",
    "有时在找不到键时，返回一些虚构值还是很好的，这里有两种方法，第一种是使用预设字典而不是普通字典，第二种是将字典变成子类别或其它的映射类型，并添加一个 `__missing__` 方法，下面会讨论两种做法\n",
    "\n",
    "### defaultdict 找不到键的另一种做法\n",
    "\n",
    "下面是使用 collections.defaultdict 优雅的解决上面搜索不存在的键的问题。"
   ]
  },
  {
   "cell_type": "code",
   "execution_count": 20,
   "metadata": {
    "collapsed": false,
    "deletable": true,
    "editable": true
   },
   "outputs": [
    {
     "name": "stdout",
     "output_type": "stream",
     "text": [
      "a [(2, 49)]\n",
      "aided [(2, 194)]\n",
      "and [(2, 181)]\n",
      "art [(2, 96)]\n",
      "artistic [(2, 17), (2, 135)]\n",
      "but [(2, 56)]\n",
      "channeled [(2, 122)]\n",
      "computer [(2, 185)]\n",
      "design [(2, 200)]\n",
      "film [(2, 175)]\n",
      "fine [(2, 91)]\n",
      "had [(2, 6)]\n",
      "I [(2, 1), (2, 43), (2, 60), (2, 117)]\n",
      "impulses [(2, 144)]\n",
      "in [(2, 85)]\n",
      "Instead [(2, 108)]\n",
      "invested [(2, 71)]\n",
      "kid [(2, 51)]\n",
      "mainly [(2, 153)]\n",
      "much [(2, 80)]\n",
      "music [(2, 168)]\n",
      "my [(2, 88), (2, 132)]\n",
      "My [(1, 1)]\n",
      "never [(2, 65)]\n",
      "point [(1, 13)]\n",
      "since [(2, 37)]\n",
      "skills [(2, 100)]\n",
      "starting [(1, 4)]\n",
      "strong [(2, 10)]\n",
      "tendencies [(2, 26)]\n",
      "through [(2, 160)]\n",
      "ve [(2, 3), (2, 62), (2, 119)]\n",
      "was [(2, 45)]\n"
     ]
    }
   ],
   "source": [
    "#!/usr/bin/env python\n",
    "# encoding: utf-8\n",
    "import sys\n",
    "import re\n",
    "import collections\n",
    "\n",
    "WORD_RE = re.compile('\\w+') \n",
    "\n",
    "index = collections.defaultdict(list)  # 使用 list 建立 defaultdict，将它当成 default_factory\n",
    "#with open(sys.argv[1], encoding=\"utf-8\") as fp:  \n",
    "with open(\"/home/kaka/test.txt\", encoding=\"utf-8\") as fp:\n",
    "    for line_no, line in enumerate(fp, 1):    \n",
    "        for match in WORD_RE.finditer(line):  \n",
    "            word = match.group()              \n",
    "            column_no = match.start() + 1    \n",
    "            location = (line_no, column_no)  \n",
    "            # 如果不存在 word 键，会调用初始化传的 default_factory 产生一个预设值, 如果没有指定 default_factory，会产生 KeyError 异常\n",
    "            index[word].append(location) \n",
    "for word in sorted(index, key = str.upper):  \n",
    "    print(word, index[word])      "
   ]
  },
  {
   "cell_type": "markdown",
   "metadata": {
    "deletable": true,
    "editable": true
   },
   "source": [
    "工作原理: 当我们初始化一个 defaultdict 时候，要提供一个方法，当 `__getitem__()` 找不到键的时候，会用它产生一个预设值，这里我们将 list 传进去，每次调用会产生一个空列表。\n",
    "\n",
    "注意：defaultdict 的 default_factory 只是为了提供一个预设值，不供其它方法使用，例如 dd 是 defaultdict，k 是不存在的键， dd[k] 会调用 default_factory 产生一个预设值，而 dd.get(k) 仍然传回 None，下面是例子"
   ]
  },
  {
   "cell_type": "code",
   "execution_count": 23,
   "metadata": {
    "collapsed": false,
    "deletable": true,
    "editable": true
   },
   "outputs": [
    {
     "name": "stdout",
     "output_type": "stream",
     "text": [
      "None\n"
     ]
    }
   ],
   "source": [
    "import collections\n",
    "\n",
    "index = collections.defaultdict(list) \n",
    "print(index.get('hello'))"
   ]
  },
  {
   "cell_type": "markdown",
   "metadata": {
    "deletable": true,
    "editable": true
   },
   "source": [
    "调用 default_factory 的 defaultdict 机制，实际上是调用 `__missing__()` 特殊方法，这是所有变暗映射类型都有的方法\n",
    "\n",
    "## `__missing__` 方法\n",
    "\n",
    "映射处理找不到键时，底层使用的是 `__missing__()` 方法，基础的 dict 并没有这个方法，但是如果你将 dict 变成子类别，并提供一个 `__missing__()` 方法，标准的 `dict.__getitem__()`  会在找不到键时调用它，而非发出 KeyError\n",
    "\n",
    "`__missing__()` 只被 `__getitem__()` 调用（即 d[k] 运算符），`__missing__()` 方法的存在，并不会影响到其它方法查询键的行为，例如 get 或 `__contains__`（in 运算符），这就是 defaultdict 只能与 `__getitem__()` 一起使用的原因\n",
    "\n",
    "如果你想要一个映射，它的键在查询时会被转成 str "
   ]
  },
  {
   "cell_type": "code",
   "execution_count": 16,
   "metadata": {
    "collapsed": false,
    "deletable": true,
    "editable": true
   },
   "outputs": [
    {
     "data": {
      "text/plain": [
       "'two'"
      ]
     },
     "execution_count": 16,
     "metadata": {},
     "output_type": "execute_result"
    }
   ],
   "source": [
    "class StrKeyDict0(dict):\n",
    "    def __missing__(self, key):\n",
    "        # 判断是不是 str 类型，是的话没有此 key 直接抛出异常，不是的话转成 str 重新调用本方法\n",
    "        # 如果没有 isinstance 判断会不断调用自身，死循环\n",
    "        if isinstance(key, str): # 判断类型，type()不会认为子类是一种父类类型。isinstance()会认为子类是一种父类类型。\n",
    "            raise KeyError(key)\n",
    "        return self[str(key)]\n",
    "    def get(self, key, default=None):\n",
    "        try:\n",
    "            return self[key]\n",
    "        except KeyError:\n",
    "            return default\n",
    "    def __contains__(self, key):\n",
    "        # 这种查询方式在 Python3 中很有效率，因为 self.keys() 返回的是一个 view，它和集合很像，速度和字典一样快\n",
    "        # Python2 中返回的是列表，效率低\n",
    "        # 这里使用 key in self.keys() 是有必要的，因为我们类中没有强迫字典所有的键都必须是 str 类型\n",
    "        return key in self.keys() or str(key) in self.keys()\n",
    "    \n",
    "d = StrKeyDict0([('2', 'two'), ('4', 'four')])\n",
    "d['2']"
   ]
  },
  {
   "cell_type": "code",
   "execution_count": 17,
   "metadata": {
    "collapsed": false,
    "deletable": true,
    "editable": true
   },
   "outputs": [
    {
     "data": {
      "text/plain": [
       "'four'"
      ]
     },
     "execution_count": 17,
     "metadata": {},
     "output_type": "execute_result"
    }
   ],
   "source": [
    "d[4]"
   ]
  },
  {
   "cell_type": "code",
   "execution_count": 18,
   "metadata": {
    "collapsed": false
   },
   "outputs": [
    {
     "ename": "KeyError",
     "evalue": "'1'",
     "output_type": "error",
     "traceback": [
      "\u001b[0;31m---------------------------------------------------------------------------\u001b[0m",
      "\u001b[0;31mKeyError\u001b[0m                                  Traceback (most recent call last)",
      "\u001b[0;32m<ipython-input-18-6ee4d8336f71>\u001b[0m in \u001b[0;36m<module>\u001b[0;34m()\u001b[0m\n\u001b[0;32m----> 1\u001b[0;31m \u001b[0md\u001b[0m\u001b[0;34m[\u001b[0m\u001b[0;36m1\u001b[0m\u001b[0;34m]\u001b[0m\u001b[0;34m\u001b[0m\u001b[0m\n\u001b[0m",
      "\u001b[0;32m<ipython-input-16-142a12ebece7>\u001b[0m in \u001b[0;36m__missing__\u001b[0;34m(self, key)\u001b[0m\n\u001b[1;32m      5\u001b[0m         \u001b[0;32mif\u001b[0m \u001b[0misinstance\u001b[0m\u001b[0;34m(\u001b[0m\u001b[0mkey\u001b[0m\u001b[0;34m,\u001b[0m \u001b[0mstr\u001b[0m\u001b[0;34m)\u001b[0m\u001b[0;34m:\u001b[0m \u001b[0;31m# 判断类型，type()不会认为子类是一种父类类型。isinstance()会认为子类是一种父类类型。\u001b[0m\u001b[0;34m\u001b[0m\u001b[0m\n\u001b[1;32m      6\u001b[0m             \u001b[0;32mraise\u001b[0m \u001b[0mKeyError\u001b[0m\u001b[0;34m(\u001b[0m\u001b[0mkey\u001b[0m\u001b[0;34m)\u001b[0m\u001b[0;34m\u001b[0m\u001b[0m\n\u001b[0;32m----> 7\u001b[0;31m         \u001b[0;32mreturn\u001b[0m \u001b[0mself\u001b[0m\u001b[0;34m[\u001b[0m\u001b[0mstr\u001b[0m\u001b[0;34m(\u001b[0m\u001b[0mkey\u001b[0m\u001b[0;34m)\u001b[0m\u001b[0;34m]\u001b[0m\u001b[0;34m\u001b[0m\u001b[0m\n\u001b[0m\u001b[1;32m      8\u001b[0m     \u001b[0;32mdef\u001b[0m \u001b[0mget\u001b[0m\u001b[0;34m(\u001b[0m\u001b[0mself\u001b[0m\u001b[0;34m,\u001b[0m \u001b[0mkey\u001b[0m\u001b[0;34m,\u001b[0m \u001b[0mdefault\u001b[0m\u001b[0;34m=\u001b[0m\u001b[0;32mNone\u001b[0m\u001b[0;34m)\u001b[0m\u001b[0;34m:\u001b[0m\u001b[0;34m\u001b[0m\u001b[0m\n\u001b[1;32m      9\u001b[0m         \u001b[0;32mtry\u001b[0m\u001b[0;34m:\u001b[0m\u001b[0;34m\u001b[0m\u001b[0m\n",
      "\u001b[0;32m<ipython-input-16-142a12ebece7>\u001b[0m in \u001b[0;36m__missing__\u001b[0;34m(self, key)\u001b[0m\n\u001b[1;32m      4\u001b[0m         \u001b[0;31m# 如果没有 isinstance 判断会不断调用自身，死循环\u001b[0m\u001b[0;34m\u001b[0m\u001b[0;34m\u001b[0m\u001b[0m\n\u001b[1;32m      5\u001b[0m         \u001b[0;32mif\u001b[0m \u001b[0misinstance\u001b[0m\u001b[0;34m(\u001b[0m\u001b[0mkey\u001b[0m\u001b[0;34m,\u001b[0m \u001b[0mstr\u001b[0m\u001b[0;34m)\u001b[0m\u001b[0;34m:\u001b[0m \u001b[0;31m# 判断类型，type()不会认为子类是一种父类类型。isinstance()会认为子类是一种父类类型。\u001b[0m\u001b[0;34m\u001b[0m\u001b[0m\n\u001b[0;32m----> 6\u001b[0;31m             \u001b[0;32mraise\u001b[0m \u001b[0mKeyError\u001b[0m\u001b[0;34m(\u001b[0m\u001b[0mkey\u001b[0m\u001b[0;34m)\u001b[0m\u001b[0;34m\u001b[0m\u001b[0m\n\u001b[0m\u001b[1;32m      7\u001b[0m         \u001b[0;32mreturn\u001b[0m \u001b[0mself\u001b[0m\u001b[0;34m[\u001b[0m\u001b[0mstr\u001b[0m\u001b[0;34m(\u001b[0m\u001b[0mkey\u001b[0m\u001b[0;34m)\u001b[0m\u001b[0;34m]\u001b[0m\u001b[0;34m\u001b[0m\u001b[0m\n\u001b[1;32m      8\u001b[0m     \u001b[0;32mdef\u001b[0m \u001b[0mget\u001b[0m\u001b[0;34m(\u001b[0m\u001b[0mself\u001b[0m\u001b[0;34m,\u001b[0m \u001b[0mkey\u001b[0m\u001b[0;34m,\u001b[0m \u001b[0mdefault\u001b[0m\u001b[0;34m=\u001b[0m\u001b[0;32mNone\u001b[0m\u001b[0;34m)\u001b[0m\u001b[0;34m:\u001b[0m\u001b[0;34m\u001b[0m\u001b[0m\n",
      "\u001b[0;31mKeyError\u001b[0m: '1'"
     ]
    }
   ],
   "source": [
    "d[1]"
   ]
  },
  {
   "cell_type": "code",
   "execution_count": 19,
   "metadata": {
    "collapsed": false
   },
   "outputs": [
    {
     "data": {
      "text/plain": [
       "'two'"
      ]
     },
     "execution_count": 19,
     "metadata": {},
     "output_type": "execute_result"
    }
   ],
   "source": [
    "d.get('2')"
   ]
  },
  {
   "cell_type": "code",
   "execution_count": 20,
   "metadata": {
    "collapsed": false
   },
   "outputs": [
    {
     "data": {
      "text/plain": [
       "'four'"
      ]
     },
     "execution_count": 20,
     "metadata": {},
     "output_type": "execute_result"
    }
   ],
   "source": [
    "d.get(4)"
   ]
  },
  {
   "cell_type": "code",
   "execution_count": 21,
   "metadata": {
    "collapsed": false
   },
   "outputs": [
    {
     "data": {
      "text/plain": [
       "'N/A'"
      ]
     },
     "execution_count": 21,
     "metadata": {},
     "output_type": "execute_result"
    }
   ],
   "source": [
    "d.get(1, 'N/A')"
   ]
  },
  {
   "cell_type": "code",
   "execution_count": 22,
   "metadata": {
    "collapsed": false
   },
   "outputs": [
    {
     "data": {
      "text/plain": [
       "False"
      ]
     },
     "execution_count": 22,
     "metadata": {},
     "output_type": "execute_result"
    }
   ],
   "source": [
    "2 in d"
   ]
  },
  {
   "cell_type": "code",
   "execution_count": 23,
   "metadata": {
    "collapsed": false
   },
   "outputs": [
    {
     "data": {
      "text/plain": [
       "False"
      ]
     },
     "execution_count": 23,
     "metadata": {},
     "output_type": "execute_result"
    }
   ],
   "source": [
    "1 in d"
   ]
  },
  {
   "cell_type": "markdown",
   "metadata": {},
   "source": [
    "## Dict 的变化\n",
    "\n",
    "- collections.OrderedDict\n",
    "  - 让键维持插入顺序， popitem 移除第一个元素，如果你使用 my_odict，popitem(last=True)调用，会移除最后一个元素\n",
    "- collections.ChainMap\n",
    "  - 保存一个可被当成单一元素搜寻的序列，查找时，会执行每一个映射，如果在它们之间找到键，成功。\n",
    "  - 一个使用范例:\n",
    "    ```python\n",
    "    import builtins\n",
    "    pylookup = ChainMap(locals(), globals(), vars(builtins))\n",
    "    ```\n",
    "- collections.Counter\n",
    "  - 保存所有键的整数数量映射，更新会增加现有键的数量，这可以计算每个元素出现次数\n",
    "  - 一个计算单词内字母数量的案例:\n",
    "    ```python\n",
    "    import collections\n",
    "    ct = collections.Counter('abracadabra')\n",
    "    ct\n",
    "    #Counter({'a': 5, 'b': 2, 'c': 1, 'd': 1, 'r': 2})\n",
    "    ct.update('aaaaazzz')\n",
    "    ct\n",
    "    #Counter({'a': 15, 'b': 2, 'c': 1, 'd': 1, 'r': 2, 'z': 6})\n",
    "    ct.most_common(2)\n",
    "    #[('a', 15), ('z', 6)]\n",
    "    ```\n",
    "    \n",
    "## 继承 UserDict\n",
    "\n",
    "要建立新的映射类型，继承 UserDict 要比继承 dict 容易，因为它内部有一些很方便的运作方法，我们可以直接继承 UserDict 语法，不会出问题。我们要将前面的 StrKeyDict0 类所有的键都存成 str 类型\n",
    "\n",
    "注意 UserDict 没有继承dict，而是内部有一个 dict 实例，称为 data，它会保存实际的元素，在编写 `__setitem__` 这种方法时，可以避免不受欢迎的回调。而且可以简化 `__contains__` 编写\n",
    "\n",
    "下面除了将所有键存成 str 类型，当有人使用非字符串键构建或访问实例时，可以避免令人不愉快的意外"
   ]
  },
  {
   "cell_type": "code",
   "execution_count": 29,
   "metadata": {
    "collapsed": true
   },
   "outputs": [],
   "source": [
    "import collections\n",
    "\n",
    "class StrKeyDict(collections.UserDict):\n",
    "    def __missing__(self, key):\n",
    "        if isinstance(key, str):\n",
    "            raise KeyError(key)\n",
    "        return self[str(key)]\n",
    "    \n",
    "    def __contains__(self, key):\n",
    "        return str(key) in self.data\n",
    "    \n",
    "    def __setitem__(self, key, item):\n",
    "        self.data[str(key)] = item"
   ]
  },
  {
   "cell_type": "markdown",
   "metadata": {},
   "source": [
    "因为 UserDict 是 MutableMapping 的子类，让 StrKeyDict 类的健全的映射方法都是从 UserDict, MutableMapping, Mapping 继承来的，下面是它比较优秀的方法:\n",
    "\n",
    "- MutableMapping.update:\n",
    "  - 我们可以直接调用这个方法，也可以通过 `__init__()` 调用，用来加载其它映射，可迭代（key, value）的实例，以及关键字个数。因为它使用 self[key] = value 来添加元素，最终调用的是 `__setitem__()`\n",
    "  \n",
    "- Mapping.get\n",
    "  - 在 StrKeyDict0 中，我们必须自己编写 get 方法，这里我们继承 Mapping.get()，它的运作方式和 StrKeyDict0.get() 很像。\n",
    "  \n",
    "## 不可变映射\n",
    "\n",
    "Python3.3 后，types 提供 MappingProxyType 包装类，当你给它一个映射后，它返回一个只读的 mappingproxy 实例，但它是原始映射的动态展示，也就是说，你可以在 mappingproxy 中看到原是映射的改变，但是无法通过它改变原始映射。下面的例子说明了这点"
   ]
  },
  {
   "cell_type": "code",
   "execution_count": 30,
   "metadata": {
    "collapsed": false
   },
   "outputs": [
    {
     "data": {
      "text/plain": [
       "mappingproxy({1: 'A'})"
      ]
     },
     "execution_count": 30,
     "metadata": {},
     "output_type": "execute_result"
    }
   ],
   "source": [
    "from types import MappingProxyType\n",
    "d = {1: 'A'}\n",
    "d_proxy = MappingProxyType(d)\n",
    "d_proxy"
   ]
  },
  {
   "cell_type": "code",
   "execution_count": 31,
   "metadata": {
    "collapsed": false
   },
   "outputs": [
    {
     "data": {
      "text/plain": [
       "'A'"
      ]
     },
     "execution_count": 31,
     "metadata": {},
     "output_type": "execute_result"
    }
   ],
   "source": [
    "d_proxy[1]"
   ]
  },
  {
   "cell_type": "code",
   "execution_count": 32,
   "metadata": {
    "collapsed": false
   },
   "outputs": [
    {
     "ename": "TypeError",
     "evalue": "'mappingproxy' object does not support item assignment",
     "output_type": "error",
     "traceback": [
      "\u001b[0;31m---------------------------------------------------------------------------\u001b[0m",
      "\u001b[0;31mTypeError\u001b[0m                                 Traceback (most recent call last)",
      "\u001b[0;32m<ipython-input-32-2515ac52334f>\u001b[0m in \u001b[0;36m<module>\u001b[0;34m()\u001b[0m\n\u001b[0;32m----> 1\u001b[0;31m \u001b[0md_proxy\u001b[0m\u001b[0;34m[\u001b[0m\u001b[0;36m2\u001b[0m\u001b[0;34m]\u001b[0m \u001b[0;34m=\u001b[0m \u001b[0;34m'x'\u001b[0m\u001b[0;34m\u001b[0m\u001b[0m\n\u001b[0m",
      "\u001b[0;31mTypeError\u001b[0m: 'mappingproxy' object does not support item assignment"
     ]
    }
   ],
   "source": [
    "d_proxy[2] = 'x'"
   ]
  },
  {
   "cell_type": "code",
   "execution_count": 34,
   "metadata": {
    "collapsed": false
   },
   "outputs": [
    {
     "data": {
      "text/plain": [
       "mappingproxy({1: 'A', 2: 'b'})"
      ]
     },
     "execution_count": 34,
     "metadata": {},
     "output_type": "execute_result"
    }
   ],
   "source": [
    "d[2] = 'b'\n",
    "d_proxy"
   ]
  }
 ],
 "metadata": {
  "kernelspec": {
   "display_name": "Python 3",
   "language": "python",
   "name": "python3"
  },
  "language_info": {
   "codemirror_mode": {
    "name": "ipython",
    "version": 3
   },
   "file_extension": ".py",
   "mimetype": "text/x-python",
   "name": "python",
   "nbconvert_exporter": "python",
   "pygments_lexer": "ipython3",
   "version": "3.5.3"
  }
 },
 "nbformat": 4,
 "nbformat_minor": 2
}
