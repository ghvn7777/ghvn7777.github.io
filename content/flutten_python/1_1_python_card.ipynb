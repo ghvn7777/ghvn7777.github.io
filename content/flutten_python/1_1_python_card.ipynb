{
 "cells": [
  {
   "cell_type": "markdown",
   "metadata": {
    "deletable": true,
    "editable": true
   },
   "source": [
    "## **`__getitem__`**  AND  **`__len__`** 方法\n",
    "\n",
    "下面看一个生成扑克牌以及对其进行操作的例子"
   ]
  },
  {
   "cell_type": "code",
   "execution_count": 9,
   "metadata": {
    "collapsed": true,
    "deletable": true,
    "editable": true
   },
   "outputs": [],
   "source": [
    "import collections\n",
    "\n",
    "Card = collections.namedtuple('Card', ['rand', 'suit']) #'Card' 是 namedtuple 名字,　后面是元素\n",
    "\n",
    "class FrenchDeck:\n",
    "    ranks = [str(n) for n in range(2, 11)] + list('JQKA')\n",
    "    suits = 'spades diamonds clubs hearts'.split() # 黑桃 钻石 梅花 红心\n",
    "    \n",
    "    def __init__(self):\n",
    "        self._cards = [Card(rank, suit) for suit in self.suits\n",
    "                                        for rank in self.ranks]\n",
    "        \n",
    "    def __len__(self):\n",
    "        return len(self._cards)\n",
    "    \n",
    "    def __getitem__(self, position): #代表了 self._cards 的 []运算符\n",
    "        return self._cards[position]\n"
   ]
  },
  {
   "cell_type": "code",
   "execution_count": 4,
   "metadata": {
    "collapsed": false,
    "deletable": true,
    "editable": true
   },
   "outputs": [
    {
     "data": {
      "text/plain": [
       "Card(rand='7', suit='diamonds')"
      ]
     },
     "execution_count": 4,
     "metadata": {},
     "output_type": "execute_result"
    }
   ],
   "source": [
    "beer_card = Card('7', 'diamonds')\n",
    "beer_card"
   ]
  },
  {
   "cell_type": "code",
   "execution_count": 5,
   "metadata": {
    "collapsed": false,
    "deletable": true,
    "editable": true
   },
   "outputs": [
    {
     "data": {
      "text/plain": [
       "52"
      ]
     },
     "execution_count": 5,
     "metadata": {},
     "output_type": "execute_result"
    }
   ],
   "source": [
    "deck = FrenchDeck()\n",
    "len(deck)  #默认调用了 __len__()"
   ]
  },
  {
   "cell_type": "code",
   "execution_count": 6,
   "metadata": {
    "collapsed": false,
    "deletable": true,
    "editable": true
   },
   "outputs": [
    {
     "data": {
      "text/plain": [
       "Card(rand='2', suit='spades')"
      ]
     },
     "execution_count": 6,
     "metadata": {},
     "output_type": "execute_result"
    }
   ],
   "source": [
    "deck[0]  #调用了 __getitem__()"
   ]
  },
  {
   "cell_type": "code",
   "execution_count": 7,
   "metadata": {
    "collapsed": false,
    "deletable": true,
    "editable": true
   },
   "outputs": [
    {
     "data": {
      "text/plain": [
       "Card(rand='A', suit='hearts')"
      ]
     },
     "execution_count": 7,
     "metadata": {},
     "output_type": "execute_result"
    }
   ],
   "source": [
    "deck[-1]"
   ]
  },
  {
   "cell_type": "code",
   "execution_count": 8,
   "metadata": {
    "collapsed": false,
    "deletable": true,
    "editable": true
   },
   "outputs": [
    {
     "data": {
      "text/plain": [
       "Card(rand='K', suit='diamonds')"
      ]
     },
     "execution_count": 8,
     "metadata": {},
     "output_type": "execute_result"
    }
   ],
   "source": [
    "from random import choice\n",
    "choice(deck)"
   ]
  },
  {
   "cell_type": "code",
   "execution_count": 10,
   "metadata": {
    "collapsed": false,
    "deletable": true,
    "editable": true
   },
   "outputs": [
    {
     "data": {
      "text/plain": [
       "[Card(rand='2', suit='spades'),\n",
       " Card(rand='3', suit='spades'),\n",
       " Card(rand='4', suit='spades')]"
      ]
     },
     "execution_count": 10,
     "metadata": {},
     "output_type": "execute_result"
    }
   ],
   "source": [
    "deck[:3]"
   ]
  },
  {
   "cell_type": "code",
   "execution_count": 11,
   "metadata": {
    "collapsed": false,
    "deletable": true,
    "editable": true
   },
   "outputs": [
    {
     "data": {
      "text/plain": [
       "[Card(rand='A', suit='spades'),\n",
       " Card(rand='A', suit='diamonds'),\n",
       " Card(rand='A', suit='clubs'),\n",
       " Card(rand='A', suit='hearts')]"
      ]
     },
     "execution_count": 11,
     "metadata": {},
     "output_type": "execute_result"
    }
   ],
   "source": [
    "deck[12::13]"
   ]
  },
  {
   "cell_type": "code",
   "execution_count": 14,
   "metadata": {
    "collapsed": false,
    "deletable": true,
    "editable": true
   },
   "outputs": [
    {
     "name": "stdout",
     "output_type": "stream",
     "text": [
      "Card(rand='2', suit='spades')\n",
      "Card(rand='3', suit='spades')\n",
      "Card(rand='4', suit='spades')\n",
      "Card(rand='5', suit='spades')\n",
      "Card(rand='6', suit='spades')\n",
      "Card(rand='7', suit='spades')\n",
      "Card(rand='8', suit='spades')\n",
      "Card(rand='9', suit='spades')\n",
      "Card(rand='10', suit='spades')\n",
      "Card(rand='J', suit='spades')\n"
     ]
    }
   ],
   "source": [
    "# 我们只要写了 __getitem__() 方法，就可以将类变成可迭代的\n",
    "for card in deck[:10]:\n",
    "    print(card)"
   ]
  },
  {
   "cell_type": "code",
   "execution_count": 20,
   "metadata": {
    "collapsed": false,
    "deletable": true,
    "editable": true
   },
   "outputs": [
    {
     "name": "stdout",
     "output_type": "stream",
     "text": [
      "Card(rand='A', suit='hearts')\n",
      "Card(rand='K', suit='hearts')\n",
      "Card(rand='Q', suit='hearts')\n",
      "Card(rand='J', suit='hearts')\n",
      "Card(rand='10', suit='hearts')\n",
      "Card(rand='9', suit='hearts')\n",
      "Card(rand='8', suit='hearts')\n",
      "Card(rand='7', suit='hearts')\n",
      "Card(rand='6', suit='hearts')\n",
      "Card(rand='5', suit='hearts')\n",
      "Card(rand='4', suit='hearts')\n",
      "Card(rand='3', suit='hearts')\n",
      "Card(rand='2', suit='hearts')\n",
      "Card(rand='A', suit='clubs')\n",
      "Card(rand='K', suit='clubs')\n",
      "Card(rand='Q', suit='clubs')\n",
      "Card(rand='J', suit='clubs')\n",
      "Card(rand='10', suit='clubs')\n",
      "Card(rand='9', suit='clubs')\n",
      "Card(rand='8', suit='clubs')\n",
      "Card(rand='7', suit='clubs')\n",
      "Card(rand='6', suit='clubs')\n",
      "Card(rand='5', suit='clubs')\n",
      "Card(rand='4', suit='clubs')\n",
      "Card(rand='3', suit='clubs')\n",
      "Card(rand='2', suit='clubs')\n",
      "Card(rand='A', suit='diamonds')\n",
      "Card(rand='K', suit='diamonds')\n",
      "Card(rand='Q', suit='diamonds')\n",
      "Card(rand='J', suit='diamonds')\n",
      "Card(rand='10', suit='diamonds')\n",
      "Card(rand='9', suit='diamonds')\n",
      "Card(rand='8', suit='diamonds')\n",
      "Card(rand='7', suit='diamonds')\n",
      "Card(rand='6', suit='diamonds')\n",
      "Card(rand='5', suit='diamonds')\n",
      "Card(rand='4', suit='diamonds')\n",
      "Card(rand='3', suit='diamonds')\n",
      "Card(rand='2', suit='diamonds')\n",
      "Card(rand='A', suit='spades')\n",
      "Card(rand='K', suit='spades')\n",
      "Card(rand='Q', suit='spades')\n",
      "Card(rand='J', suit='spades')\n",
      "Card(rand='10', suit='spades')\n",
      "Card(rand='9', suit='spades')\n",
      "Card(rand='8', suit='spades')\n",
      "Card(rand='7', suit='spades')\n",
      "Card(rand='6', suit='spades')\n",
      "Card(rand='5', suit='spades')\n",
      "Card(rand='4', suit='spades')\n",
      "Card(rand='3', suit='spades')\n",
      "Card(rand='2', suit='spades')\n"
     ]
    }
   ],
   "source": [
    "# 也可以反向迭代\n",
    "for card in reversed(deck):\n",
    "    print(card)"
   ]
  },
  {
   "cell_type": "markdown",
   "metadata": {
    "deletable": true,
    "editable": true
   },
   "source": [
    "## in 运算符\n",
    "\n",
    "如果集合中没有 **`__contains__`**　方法， in 操作符就会进行循环扫描，典型的例子是 in 可以在 FrenchDeck 类中使用，in 可以在我们的 FrenchDeck 执行，因为它是可迭代的"
   ]
  },
  {
   "cell_type": "code",
   "execution_count": 22,
   "metadata": {
    "collapsed": false,
    "deletable": true,
    "editable": true
   },
   "outputs": [
    {
     "data": {
      "text/plain": [
       "True"
      ]
     },
     "execution_count": 22,
     "metadata": {},
     "output_type": "execute_result"
    }
   ],
   "source": [
    "Card('Q', 'hearts') in deck"
   ]
  },
  {
   "cell_type": "code",
   "execution_count": 24,
   "metadata": {
    "collapsed": false,
    "deletable": true,
    "editable": true
   },
   "outputs": [
    {
     "data": {
      "text/plain": [
       "False"
      ]
     },
     "execution_count": 24,
     "metadata": {},
     "output_type": "execute_result"
    }
   ],
   "source": [
    "Card('Q', 'beasts') in deck"
   ]
  },
  {
   "cell_type": "markdown",
   "metadata": {
    "deletable": true,
    "editable": true
   },
   "source": [
    "## 排序关键字\n",
    "\n",
    "suit_values = "
   ]
  }
 ],
 "metadata": {
  "kernelspec": {
   "display_name": "Python 3",
   "language": "python",
   "name": "python3"
  },
  "language_info": {
   "codemirror_mode": {
    "name": "ipython",
    "version": 3
   },
   "file_extension": ".py",
   "mimetype": "text/x-python",
   "name": "python",
   "nbconvert_exporter": "python",
   "pygments_lexer": "ipython3",
   "version": "3.5.3"
  }
 },
 "nbformat": 4,
 "nbformat_minor": 2
}
