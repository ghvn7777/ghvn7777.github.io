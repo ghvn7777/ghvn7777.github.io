{
 "cells": [
  {
   "cell_type": "markdown",
   "metadata": {},
   "source": [
    "# 类型 \n",
    "\n",
    "## 基本环境\n",
    "\n",
    "### 名字空间\n",
    "\n",
    "Python 中，每个模块（源码文件）有一个全局名字空间，根据代码作用域，有当前名字（本地名字）空间，如果直接在模块级别执行，本地名字空间和全局名字空间没有区别，但在函数内，当前名字空间指函数作用域指的是函数作用域"
   ]
  },
  {
   "cell_type": "code",
   "execution_count": 1,
   "metadata": {},
   "outputs": [
    {
     "name": "stdout",
     "output_type": "stream",
     "text": [
      "140669702279960\n",
      "140669702280680\n"
     ]
    }
   ],
   "source": [
    "x = 100\n",
    "print(id(globals))\n",
    "print(id(locals))"
   ]
  },
  {
   "cell_type": "code",
   "execution_count": 2,
   "metadata": {},
   "outputs": [
    {
     "data": {
      "text/plain": [
       "{'In': ['', 'x = 100\\nprint(id(globals))\\nprint(id(locals))', 'globals()'],\n",
       " 'Out': {},\n",
       " '_': '',\n",
       " '__': '',\n",
       " '___': '',\n",
       " '__builtin__': <module 'builtins' (built-in)>,\n",
       " '__builtins__': <module 'builtins' (built-in)>,\n",
       " '__doc__': 'Automatically created module for IPython interactive environment',\n",
       " '__loader__': None,\n",
       " '__name__': '__main__',\n",
       " '__package__': None,\n",
       " '__spec__': None,\n",
       " '_dh': ['/home/kaka/blog/my_blog/content/python3-note'],\n",
       " '_i': 'x = 100\\nprint(id(globals))\\nprint(id(locals))',\n",
       " '_i1': 'x = 100\\nprint(id(globals))\\nprint(id(locals))',\n",
       " '_i2': 'globals()',\n",
       " '_ih': ['', 'x = 100\\nprint(id(globals))\\nprint(id(locals))', 'globals()'],\n",
       " '_ii': '',\n",
       " '_iii': '',\n",
       " '_oh': {},\n",
       " 'exit': <IPython.core.autocall.ZMQExitAutocall at 0x7ff02dab05f8>,\n",
       " 'get_ipython': <bound method InteractiveShell.get_ipython of <ipykernel.zmqshell.ZMQInteractiveShell object at 0x7ff02dae6cf8>>,\n",
       " 'quit': <IPython.core.autocall.ZMQExitAutocall at 0x7ff02dab05f8>,\n",
       " 'x': 100}"
      ]
     },
     "execution_count": 2,
     "metadata": {},
     "output_type": "execute_result"
    }
   ],
   "source": [
    "globals()"
   ]
  },
  {
   "cell_type": "code",
   "execution_count": 4,
   "metadata": {},
   "outputs": [
    {
     "name": "stdout",
     "output_type": "stream",
     "text": [
      "{'x': 'hello world'}\n",
      "140669702279960\n",
      "140669702280680\n"
     ]
    }
   ],
   "source": [
    "def test():\n",
    "    x = \"hello world\"\n",
    "    print(locals())\n",
    "    print(id(globals))\n",
    "    print(id(locals))\n",
    "    \n",
    "test()"
   ]
  },
  {
   "cell_type": "markdown",
   "metadata": {},
   "source": [
    "所以，我们可以直接修改名字空间建立关联引用"
   ]
  },
  {
   "cell_type": "code",
   "execution_count": 5,
   "metadata": {},
   "outputs": [
    {
     "data": {
      "text/plain": [
       "'hello world'"
      ]
     },
     "execution_count": 5,
     "metadata": {},
     "output_type": "execute_result"
    }
   ],
   "source": [
    "globals()[\"hello\"] = \"hello world\"\n",
    "hello"
   ]
  },
  {
   "cell_type": "markdown",
   "metadata": {},
   "source": [
    "并非所有时候都能直接操作名字空间，函数执行使用缓存机制，直接修改本地名字空间未必有效。正常编码时候尽量避免直接修改名字空间\n",
    "\n",
    "在名字空间字典中，名字只是简单的字符串主键，所以，名字可以重新关联另一个对象，不用在乎类型是否相同"
   ]
  },
  {
   "cell_type": "code",
   "execution_count": 6,
   "metadata": {},
   "outputs": [
    {
     "name": "stdout",
     "output_type": "stream",
     "text": [
      "140669700048672\n",
      "140669508307464\n"
     ]
    }
   ],
   "source": [
    "x = 100\n",
    "print(id(x))\n",
    "x = \"hello\"  # 重新关联对象，而不是修改原对象\n",
    "print(id(x))  "
   ]
  },
  {
   "cell_type": "markdown",
   "metadata": {},
   "source": [
    "一个对象可以用多个名字"
   ]
  },
  {
   "cell_type": "code",
   "execution_count": 7,
   "metadata": {},
   "outputs": [
    {
     "data": {
      "text/plain": [
       "True"
      ]
     },
     "execution_count": 7,
     "metadata": {},
     "output_type": "execute_result"
    }
   ],
   "source": [
    "x = 1234\n",
    "y = x\n",
    "y is x # 必须用 is 判断是否引用同一个对象，因为相等操作符是可以重载的，有时候只判断值"
   ]
  },
  {
   "cell_type": "markdown",
   "metadata": {},
   "source": [
    "命名规则建议:\n",
    "    - 类型名称使用 CapWords 格式\n",
    "    - 模块文件名、函数、方法成员等使用 lower_case_with_underscores 格式\n",
    "    - 全局变量使用 UPPER_CASE_WITH_UNDERSCORES 格式\n",
    "    - 避免与内置函数或标准库的常用类型同名，以免造成误解\n",
    "    \n",
    "以下划线开头的名字，代表特殊含义:\n",
    "    - 模块成员以单下划线开头 `(_x)`，属于私有成员，不会被星号导入\n",
    "    - 类型成员以双下划线开头,但无结尾 `(__x)` 属于自动命名私有成员\n",
    "    - 以双下划线开头和结尾 `(__x__)` 通常是系统成员，应避免使用\n",
    "    - 交互模式下，单下划线 `(_)` 返回最后一个表达式结果"
   ]
  },
  {
   "cell_type": "code",
   "execution_count": 9,
   "metadata": {},
   "outputs": [
    {
     "data": {
      "text/plain": [
       "6"
      ]
     },
     "execution_count": 9,
     "metadata": {},
     "output_type": "execute_result"
    }
   ],
   "source": [
    "1 + 2 + 3"
   ]
  },
  {
   "cell_type": "code",
   "execution_count": 11,
   "metadata": {},
   "outputs": [
    {
     "data": {
      "text/plain": [
       "6"
      ]
     },
     "execution_count": 11,
     "metadata": {},
     "output_type": "execute_result"
    }
   ],
   "source": [
    "_"
   ]
  },
  {
   "cell_type": "markdown",
   "metadata": {},
   "source": [
    "### 强引用"
   ]
  },
  {
   "cell_type": "code",
   "execution_count": 15,
   "metadata": {},
   "outputs": [
    {
     "name": "stdout",
     "output_type": "stream",
     "text": [
      "4\n",
      "3\n"
     ]
    }
   ],
   "source": [
    "import sys  \n",
    "a = 1234\n",
    "b = a\n",
    "print(sys.getrefcount(a)) # getrefcount() 也会通过参数引用目标对象，导致引用计数 +1\n",
    "del a\n",
    "print(sys.getrefcount(b))"
   ]
  },
  {
   "cell_type": "markdown",
   "metadata": {},
   "source": [
    "### 弱引用\n",
    "\n",
    "弱引用（weak reference）在保留引用前提下，不增加计数也不阻止目标被回收(int  tuple 等不支持弱引用）"
   ]
  },
  {
   "cell_type": "code",
   "execution_count": 26,
   "metadata": {},
   "outputs": [
    {
     "data": {
      "text/plain": [
       "2"
      ]
     },
     "execution_count": 26,
     "metadata": {},
     "output_type": "execute_result"
    }
   ],
   "source": [
    "import weakref\n",
    "\n",
    "class X:\n",
    "    def __del__(self):\n",
    "        print(id(self), \"dead.\")\n",
    "        \n",
    "c = X()\n",
    "sys.getrefcount(c)"
   ]
  },
  {
   "cell_type": "code",
   "execution_count": 27,
   "metadata": {},
   "outputs": [
    {
     "data": {
      "text/plain": [
       "True"
      ]
     },
     "execution_count": 27,
     "metadata": {},
     "output_type": "execute_result"
    }
   ],
   "source": [
    "w = weakref.ref(c)\n",
    "w() is c"
   ]
  },
  {
   "cell_type": "code",
   "execution_count": 28,
   "metadata": {},
   "outputs": [
    {
     "data": {
      "text/plain": [
       "2"
      ]
     },
     "execution_count": 28,
     "metadata": {},
     "output_type": "execute_result"
    }
   ],
   "source": [
    "sys.getrefcount(c)"
   ]
  },
  {
   "cell_type": "code",
   "execution_count": 29,
   "metadata": {},
   "outputs": [
    {
     "name": "stdout",
     "output_type": "stream",
     "text": [
      "140669507549728 dead.\n"
     ]
    }
   ],
   "source": [
    "del c"
   ]
  },
  {
   "cell_type": "code",
   "execution_count": 30,
   "metadata": {},
   "outputs": [
    {
     "data": {
      "text/plain": [
       "True"
      ]
     },
     "execution_count": 30,
     "metadata": {},
     "output_type": "execute_result"
    }
   ],
   "source": [
    "w() is None"
   ]
  },
  {
   "cell_type": "markdown",
   "metadata": {},
   "source": [
    "弱引用经常用来缓存，监控等 “外挂” 场景，不影响目标对象，也不能阻止它们被回收，弱引用另一个典型应用是实现 Finalizer，也就是在对象被回收时执行额外的 “清理” 操作"
   ]
  },
  {
   "cell_type": "code",
   "execution_count": 36,
   "metadata": {},
   "outputs": [],
   "source": [
    "d = X()\n",
    "def callback(w):\n",
    "    print(w, w() is None)\n",
    "\n",
    "w = weakref.ref(d, callback) # 创建弱引用时设置回调函数"
   ]
  },
  {
   "cell_type": "code",
   "execution_count": 37,
   "metadata": {},
   "outputs": [
    {
     "name": "stdout",
     "output_type": "stream",
     "text": [
      "140669397326592 dead.\n",
      "<weakref at 0x7ff0257547c8; dead> True\n"
     ]
    }
   ],
   "source": [
    "del d"
   ]
  },
  {
   "cell_type": "markdown",
   "metadata": {},
   "source": [
    "这里不用析构方法的原因是析构函数作为目标成员，用途是完成对象的内部资源清理，它并应该处理与之无关的外部场景，所有用 Finalizer 是一个合理的选择\n",
    "\n",
    "弱引用与普通名字最大区别在于类函数的调用和语法。可以用 proxy 改进，使其和名字引用语法保持一致"
   ]
  },
  {
   "cell_type": "code",
   "execution_count": 38,
   "metadata": {},
   "outputs": [
    {
     "ename": "AttributeError",
     "evalue": "'weakref' object has no attribute 'name'",
     "output_type": "error",
     "traceback": [
      "\u001b[0;31m---------------------------------------------------------------------------\u001b[0m",
      "\u001b[0;31mAttributeError\u001b[0m                            Traceback (most recent call last)",
      "\u001b[0;32m<ipython-input-38-86b23ebf3104>\u001b[0m in \u001b[0;36m<module>\u001b[0;34m()\u001b[0m\n\u001b[1;32m      2\u001b[0m \u001b[0ma\u001b[0m\u001b[0;34m.\u001b[0m\u001b[0mname\u001b[0m \u001b[0;34m=\u001b[0m \u001b[0;34m\"kaka\"\u001b[0m\u001b[0;34m\u001b[0m\u001b[0m\n\u001b[1;32m      3\u001b[0m \u001b[0mw\u001b[0m \u001b[0;34m=\u001b[0m \u001b[0mweakref\u001b[0m\u001b[0;34m.\u001b[0m\u001b[0mref\u001b[0m\u001b[0;34m(\u001b[0m\u001b[0ma\u001b[0m\u001b[0;34m)\u001b[0m\u001b[0;34m\u001b[0m\u001b[0m\n\u001b[0;32m----> 4\u001b[0;31m \u001b[0mw\u001b[0m\u001b[0;34m.\u001b[0m\u001b[0mname\u001b[0m\u001b[0;34m\u001b[0m\u001b[0m\n\u001b[0m",
      "\u001b[0;31mAttributeError\u001b[0m: 'weakref' object has no attribute 'name'"
     ]
    }
   ],
   "source": [
    "a = X()\n",
    "a.name = \"kaka\"\n",
    "w = weakref.ref(a)\n",
    "w.name"
   ]
  },
  {
   "cell_type": "code",
   "execution_count": 39,
   "metadata": {},
   "outputs": [
    {
     "data": {
      "text/plain": [
       "'kaka'"
      ]
     },
     "execution_count": 39,
     "metadata": {},
     "output_type": "execute_result"
    }
   ],
   "source": [
    "w().name"
   ]
  },
  {
   "cell_type": "code",
   "execution_count": 40,
   "metadata": {},
   "outputs": [
    {
     "data": {
      "text/plain": [
       "<__main__.X at 0x7ff02575cb88>"
      ]
     },
     "execution_count": 40,
     "metadata": {},
     "output_type": "execute_result"
    }
   ],
   "source": [
    "p = weakref.proxy(a)\n",
    "p"
   ]
  },
  {
   "cell_type": "code",
   "execution_count": 41,
   "metadata": {},
   "outputs": [
    {
     "data": {
      "text/plain": [
       "'kaka'"
      ]
     },
     "execution_count": 41,
     "metadata": {},
     "output_type": "execute_result"
    }
   ],
   "source": [
    "p.name"
   ]
  },
  {
   "cell_type": "code",
   "execution_count": 43,
   "metadata": {},
   "outputs": [
    {
     "data": {
      "text/plain": [
       "60"
      ]
     },
     "execution_count": 43,
     "metadata": {},
     "output_type": "execute_result"
    }
   ],
   "source": [
    "p.age = 60 # 可以直接赋值\n",
    "p.age"
   ]
  },
  {
   "cell_type": "markdown",
   "metadata": {},
   "source": [
    "### 对象复制\n",
    "\n",
    "浅拷贝复制复制名字引用，深拷贝复制所有引用成员"
   ]
  },
  {
   "cell_type": "code",
   "execution_count": 45,
   "metadata": {},
   "outputs": [
    {
     "data": {
      "text/plain": [
       "False"
      ]
     },
     "execution_count": 45,
     "metadata": {},
     "output_type": "execute_result"
    }
   ],
   "source": [
    "class X: pass\n",
    "x = X()\n",
    "x.data = [1, 2]\n",
    "\n",
    "import copy \n",
    "\n",
    "x2 = copy.copy(x)\n",
    "x2 is x"
   ]
  },
  {
   "cell_type": "code",
   "execution_count": 46,
   "metadata": {},
   "outputs": [
    {
     "data": {
      "text/plain": [
       "True"
      ]
     },
     "execution_count": 46,
     "metadata": {},
     "output_type": "execute_result"
    }
   ],
   "source": [
    "x2.data is x.data # 成员 data 仍然指向原列表，仅仅复制了引用"
   ]
  },
  {
   "cell_type": "code",
   "execution_count": 47,
   "metadata": {},
   "outputs": [
    {
     "data": {
      "text/plain": [
       "False"
      ]
     },
     "execution_count": 47,
     "metadata": {},
     "output_type": "execute_result"
    }
   ],
   "source": [
    "x3 = copy.deepcopy(x)\n",
    "x3 is x"
   ]
  },
  {
   "cell_type": "code",
   "execution_count": 48,
   "metadata": {},
   "outputs": [
    {
     "data": {
      "text/plain": [
       "False"
      ]
     },
     "execution_count": 48,
     "metadata": {},
     "output_type": "execute_result"
    }
   ],
   "source": [
    "x3.data is x.data"
   ]
  },
  {
   "cell_type": "markdown",
   "metadata": {},
   "source": [
    "### 循环引用垃圾回收"
   ]
  },
  {
   "cell_type": "code",
   "execution_count": 54,
   "metadata": {},
   "outputs": [
    {
     "name": "stdout",
     "output_type": "stream",
     "text": [
      "<__main__.X object at 0x7ff02c12ee48> dead.\n",
      "<__main__.X object at 0x7ff02c12e978> dead.\n"
     ]
    },
    {
     "data": {
      "text/plain": [
       "51"
      ]
     },
     "execution_count": 54,
     "metadata": {},
     "output_type": "execute_result"
    }
   ],
   "source": [
    "class X: \n",
    "    def __del__(self): \n",
    "        print(self, \"dead.\")\n",
    "        \n",
    "import gc\n",
    "gc.disable() # 在性能测试时，要关闭 gc， 避免垃圾回收对执行器计时造成影响\n",
    "a = X()\n",
    "b = X()\n",
    "a.x = b\n",
    "b.x = a # 构建循环引用\n",
    "\n",
    "del a\n",
    "del b # 删除所有名字后对象并未回收，引用计数失效\n",
    "\n",
    "gc.enable()\n",
    "gc.collect()"
   ]
  },
  {
   "cell_type": "markdown",
   "metadata": {},
   "source": [
    "### 编译\n",
    "\n",
    "除了交互模式和手工编译，源码在被导入（import）时完成编译，编译后的字节码数据被缓存复用，通常还会保存到硬盘\n",
    "\n",
    "Python 3 使用专门目录保存字节码缓存文件(`__pycache__/*.pyc`) 这样程序在下次启动时，可以避免再次编译，提升导入速度。缓存文件头中存储了编译信息，用来判断源码文件是否被更新\n",
    "\n",
    "除了作为执行指令的字节码外，还有很多元数据，共同组成执行单元。从这些元数据中，可以获得参数，闭包等信息"
   ]
  },
  {
   "cell_type": "code",
   "execution_count": 1,
   "metadata": {},
   "outputs": [
    {
     "data": {
      "text/plain": [
       "<code object add at 0x7f7f240d4b70, file \"<ipython-input-1-fae8dc1acce6>\", line 1>"
      ]
     },
     "execution_count": 1,
     "metadata": {},
     "output_type": "execute_result"
    }
   ],
   "source": [
    "def  add(x, y):\n",
    "    return x + y\n",
    "\n",
    "add.__code__"
   ]
  },
  {
   "cell_type": "code",
   "execution_count": 2,
   "metadata": {},
   "outputs": [
    {
     "data": {
      "text/plain": [
       "['__class__',\n",
       " '__delattr__',\n",
       " '__dir__',\n",
       " '__doc__',\n",
       " '__eq__',\n",
       " '__format__',\n",
       " '__ge__',\n",
       " '__getattribute__',\n",
       " '__gt__',\n",
       " '__hash__',\n",
       " '__init__',\n",
       " '__le__',\n",
       " '__lt__',\n",
       " '__ne__',\n",
       " '__new__',\n",
       " '__reduce__',\n",
       " '__reduce_ex__',\n",
       " '__repr__',\n",
       " '__setattr__',\n",
       " '__sizeof__',\n",
       " '__str__',\n",
       " '__subclasshook__',\n",
       " 'co_argcount',\n",
       " 'co_cellvars',\n",
       " 'co_code',\n",
       " 'co_consts',\n",
       " 'co_filename',\n",
       " 'co_firstlineno',\n",
       " 'co_flags',\n",
       " 'co_freevars',\n",
       " 'co_kwonlyargcount',\n",
       " 'co_lnotab',\n",
       " 'co_name',\n",
       " 'co_names',\n",
       " 'co_nlocals',\n",
       " 'co_stacksize',\n",
       " 'co_varnames']"
      ]
     },
     "execution_count": 2,
     "metadata": {},
     "output_type": "execute_result"
    }
   ],
   "source": [
    "dir(add.__code__)"
   ]
  },
  {
   "cell_type": "code",
   "execution_count": 3,
   "metadata": {},
   "outputs": [
    {
     "data": {
      "text/plain": [
       "('x', 'y')"
      ]
     },
     "execution_count": 3,
     "metadata": {},
     "output_type": "execute_result"
    }
   ],
   "source": [
    "add.__code__.co_varnames"
   ]
  },
  {
   "cell_type": "code",
   "execution_count": 4,
   "metadata": {},
   "outputs": [
    {
     "data": {
      "text/plain": [
       "b'|\\x00\\x00|\\x01\\x00\\x17S'"
      ]
     },
     "execution_count": 4,
     "metadata": {},
     "output_type": "execute_result"
    }
   ],
   "source": [
    "add.__code__.co_code"
   ]
  },
  {
   "cell_type": "markdown",
   "metadata": {},
   "source": [
    "我们无法直接阅读机器码，可以反编译"
   ]
  },
  {
   "cell_type": "code",
   "execution_count": 5,
   "metadata": {},
   "outputs": [
    {
     "name": "stdout",
     "output_type": "stream",
     "text": [
      "  2           0 LOAD_FAST                0 (x)\n",
      "              3 LOAD_FAST                1 (y)\n",
      "              6 BINARY_ADD\n",
      "              7 RETURN_VALUE\n"
     ]
    }
   ],
   "source": [
    "import dis\n",
    "\n",
    "dis.dis(add)"
   ]
  },
  {
   "cell_type": "markdown",
   "metadata": {},
   "source": [
    "某些时候，需要手工编译"
   ]
  },
  {
   "cell_type": "code",
   "execution_count": 8,
   "metadata": {},
   "outputs": [
    {
     "name": "stdout",
     "output_type": "stream",
     "text": [
      "Name:              <module>\n",
      "Filename:          demo\n",
      "Argument count:    0\n",
      "Kw-only arguments: 0\n",
      "Number of locals:  0\n",
      "Stack size:        3\n",
      "Flags:             NOFREE\n",
      "Constants:\n",
      "   0: 'hello, world'\n",
      "   1: 1\n",
      "   2: 2\n",
      "   3: None\n",
      "   4: 3\n",
      "Names:\n",
      "   0: print\n"
     ]
    }
   ],
   "source": [
    "source = \"\"\"\n",
    "print(\"hello, world\")\n",
    "print(1 + 2)\n",
    "\"\"\"\n",
    "code = compile(source, \"demo\", \"exec\") # 提供一个文件名用于输出提示\n",
    "dis.show_code(code)"
   ]
  },
  {
   "cell_type": "code",
   "execution_count": 9,
   "metadata": {},
   "outputs": [
    {
     "name": "stdout",
     "output_type": "stream",
     "text": [
      "  2           0 LOAD_NAME                0 (print)\n",
      "              3 LOAD_CONST               0 ('hello, world')\n",
      "              6 CALL_FUNCTION            1 (1 positional, 0 keyword pair)\n",
      "              9 POP_TOP\n",
      "\n",
      "  3          10 LOAD_NAME                0 (print)\n",
      "             13 LOAD_CONST               4 (3)\n",
      "             16 CALL_FUNCTION            1 (1 positional, 0 keyword pair)\n",
      "             19 POP_TOP\n",
      "             20 LOAD_CONST               3 (None)\n",
      "             23 RETURN_VALUE\n"
     ]
    }
   ],
   "source": [
    "dis.dis(code)"
   ]
  },
  {
   "cell_type": "code",
   "execution_count": 11,
   "metadata": {},
   "outputs": [
    {
     "data": {
      "text/plain": [
       "'/home/kaka/kaka/udacity/1-LaneLines/__pycache__/tune.cpython-35.pyc'"
      ]
     },
     "execution_count": 11,
     "metadata": {},
     "output_type": "execute_result"
    }
   ],
   "source": [
    "import py_compile, compileall\n",
    "\n",
    "path = '/home/kaka/kaka/udacity/1-LaneLines/tune.py'\n",
    "py_compile.compile(path)"
   ]
  },
  {
   "cell_type": "code",
   "execution_count": 12,
   "metadata": {},
   "outputs": [
    {
     "name": "stdout",
     "output_type": "stream",
     "text": [
      "Listing '.'...\n",
      "Listing './.ipynb_checkpoints'...\n"
     ]
    },
    {
     "data": {
      "text/plain": [
       "1"
      ]
     },
     "execution_count": 12,
     "metadata": {},
     "output_type": "execute_result"
    }
   ],
   "source": [
    "compileall.compile_dir('.') # python -m compileall ."
   ]
  },
  {
   "cell_type": "markdown",
   "metadata": {},
   "source": [
    "### 执行\n",
    "\n",
    "程序可以再运行期间动态执行 “未知” 代码，常用于实现动态生成的设计，例如 namedtuple 可以在运行期间构建新的类型"
   ]
  },
  {
   "cell_type": "code",
   "execution_count": 14,
   "metadata": {},
   "outputs": [
    {
     "name": "stdout",
     "output_type": "stream",
     "text": [
      "from builtins import property as _property, tuple as _tuple\n",
      "from operator import itemgetter as _itemgetter\n",
      "from collections import OrderedDict\n",
      "\n",
      "class User(tuple):\n",
      "    'User(name, age)'\n",
      "\n",
      "    __slots__ = ()\n",
      "\n",
      "    _fields = ('name', 'age')\n",
      "\n",
      "    def __new__(_cls, name, age):\n",
      "        'Create new instance of User(name, age)'\n",
      "        return _tuple.__new__(_cls, (name, age))\n",
      "\n",
      "    @classmethod\n",
      "    def _make(cls, iterable, new=tuple.__new__, len=len):\n",
      "        'Make a new User object from a sequence or iterable'\n",
      "        result = new(cls, iterable)\n",
      "        if len(result) != 2:\n",
      "            raise TypeError('Expected 2 arguments, got %d' % len(result))\n",
      "        return result\n",
      "\n",
      "    def _replace(_self, **kwds):\n",
      "        'Return a new User object replacing specified fields with new values'\n",
      "        result = _self._make(map(kwds.pop, ('name', 'age'), _self))\n",
      "        if kwds:\n",
      "            raise ValueError('Got unexpected field names: %r' % list(kwds))\n",
      "        return result\n",
      "\n",
      "    def __repr__(self):\n",
      "        'Return a nicely formatted representation string'\n",
      "        return self.__class__.__name__ + '(name=%r, age=%r)' % self\n",
      "\n",
      "    def _asdict(self):\n",
      "        'Return a new OrderedDict which maps field names to their values.'\n",
      "        return OrderedDict(zip(self._fields, self))\n",
      "\n",
      "    def __getnewargs__(self):\n",
      "        'Return self as a plain tuple.  Used by copy and pickle.'\n",
      "        return tuple(self)\n",
      "\n",
      "    name = _property(_itemgetter(0), doc='Alias for field number 0')\n",
      "\n",
      "    age = _property(_itemgetter(1), doc='Alias for field number 1')\n",
      "\n",
      "\n"
     ]
    }
   ],
   "source": [
    "import collections\n",
    "\n",
    "User = collections.namedtuple(\"User\", \"name, age\", verbose=True)"
   ]
  },
  {
   "cell_type": "code",
   "execution_count": 15,
   "metadata": {},
   "outputs": [
    {
     "data": {
      "text/plain": [
       "__main__.User"
      ]
     },
     "execution_count": 15,
     "metadata": {},
     "output_type": "execute_result"
    }
   ],
   "source": [
    "User"
   ]
  },
  {
   "cell_type": "code",
   "execution_count": 16,
   "metadata": {},
   "outputs": [
    {
     "data": {
      "text/plain": [
       "User(name='kaka', age=30)"
      ]
     },
     "execution_count": 16,
     "metadata": {},
     "output_type": "execute_result"
    }
   ],
   "source": [
    "u = User(\"kaka\", 30)\n",
    "u"
   ]
  },
  {
   "cell_type": "markdown",
   "metadata": {},
   "source": [
    "且不管代码如何生成，最终都要以模块导入执行，要么调用 eval，exec 函数执行。eval 执行单个表达式，exec 对应代码块执行，接受字符串或已编译好的代码对象(code) 作为参数。如果是字符串，就会检查是否符合语法规则"
   ]
  },
  {
   "cell_type": "code",
   "execution_count": 17,
   "metadata": {},
   "outputs": [
    {
     "data": {
      "text/plain": [
       "6"
      ]
     },
     "execution_count": 17,
     "metadata": {},
     "output_type": "execute_result"
    }
   ],
   "source": [
    "s = \"1 + 2 + 3\"\n",
    "eval(s)"
   ]
  },
  {
   "cell_type": "code",
   "execution_count": 18,
   "metadata": {},
   "outputs": [
    {
     "name": "stdout",
     "output_type": "stream",
     "text": [
      "hello world\n"
     ]
    }
   ],
   "source": [
    "s = \"\"\"\n",
    "def test():\n",
    "    print(\"hello world\")\n",
    "test()\n",
    "\"\"\"\n",
    "exec(s)"
   ]
  },
  {
   "cell_type": "markdown",
   "metadata": {},
   "source": [
    "无论哪种方式，都必须有对应的上下文环境，默认直接使用 **当前全局和本地名字空间**"
   ]
  },
  {
   "cell_type": "code",
   "execution_count": 19,
   "metadata": {},
   "outputs": [
    {
     "name": "stdout",
     "output_type": "stream",
     "text": [
      "300\n"
     ]
    }
   ],
   "source": [
    "x = 100\n",
    "def test ():\n",
    "    y = 200\n",
    "    print(eval(\"x + y\")) # 从上下文空间获取 x, y\n",
    "    \n",
    "test()"
   ]
  },
  {
   "cell_type": "code",
   "execution_count": 23,
   "metadata": {},
   "outputs": [
    {
     "name": "stdout",
     "output_type": "stream",
     "text": [
      "test: 140184209593112 140184209593832\n",
      "exec: 140184209593112 140184209593832\n"
     ]
    }
   ],
   "source": [
    "def test():\n",
    "    print(\"test:\", id(globals), id(locals))\n",
    "    exec('print(\"exec:\", id(globals), id(locals))')\n",
    "    \n",
    "test()"
   ]
  },
  {
   "cell_type": "markdown",
   "metadata": {},
   "source": [
    "有了操作上下文名字空间能力，我们就可以向外部环境注入新的成员，新的类型算法等等。最终达到动态逻辑或结果融入，成为当前体系组成的设计目标"
   ]
  },
  {
   "cell_type": "code",
   "execution_count": 25,
   "metadata": {},
   "outputs": [],
   "source": [
    "s = \"\"\"\n",
    "class X: pass\n",
    "def hello():\n",
    "    print(\"hello, world\")\n",
    "\"\"\"\n",
    "exec(s)"
   ]
  },
  {
   "cell_type": "code",
   "execution_count": 26,
   "metadata": {},
   "outputs": [
    {
     "data": {
      "text/plain": [
       "__main__.X"
      ]
     },
     "execution_count": 26,
     "metadata": {},
     "output_type": "execute_result"
    }
   ],
   "source": [
    "X"
   ]
  },
  {
   "cell_type": "code",
   "execution_count": 27,
   "metadata": {},
   "outputs": [
    {
     "data": {
      "text/plain": [
       "<__main__.X at 0x7f7f20130860>"
      ]
     },
     "execution_count": 27,
     "metadata": {},
     "output_type": "execute_result"
    }
   ],
   "source": [
    "X()"
   ]
  },
  {
   "cell_type": "code",
   "execution_count": 28,
   "metadata": {},
   "outputs": [
    {
     "name": "stdout",
     "output_type": "stream",
     "text": [
      "hello, world\n"
     ]
    }
   ],
   "source": [
    "hello()"
   ]
  },
  {
   "cell_type": "markdown",
   "metadata": {},
   "source": [
    "某些时候，动态代码来源不确定，基于安全考虑，必须对执行过程进行隔离，阻止其直接读写环境数据。如此，就必须传入容器对象作为动态代码的专用名字空间，以类似简易沙箱(sandbox)的方式执行\n",
    "\n",
    "根据需要，分别提供 globals，locals参数，也可共用同一空间字典\n",
    "\n",
    "为保证代码正确执行，解释器会自动导入 `__builtins__` 模块。以便导入内置函数"
   ]
  },
  {
   "cell_type": "code",
   "execution_count": 29,
   "metadata": {},
   "outputs": [
    {
     "data": {
      "text/plain": [
       "300"
      ]
     },
     "execution_count": 29,
     "metadata": {},
     "output_type": "execute_result"
    }
   ],
   "source": [
    "g = {\"x\": 100}\n",
    "l = {\"y\": 200} \n",
    "eval(\"x+y\", g, l) # 为 globals 和  locals 分别指定字典"
   ]
  },
  {
   "cell_type": "code",
   "execution_count": 31,
   "metadata": {},
   "outputs": [],
   "source": [
    "ns = { }\n",
    "exec(\"class X: pass\", ns) # globals 和 locals 共用一个字典\n",
    "# ns 太多了，不打印了"
   ]
  },
  {
   "cell_type": "markdown",
   "metadata": {},
   "source": [
    "同时提供两个名字空间参数时，默认总是 locals 优先，除非在动态代码中明确指定使用 globals"
   ]
  },
  {
   "cell_type": "code",
   "execution_count": 35,
   "metadata": {},
   "outputs": [
    {
     "name": "stdout",
     "output_type": "stream",
     "text": [
      "1000\n"
     ]
    }
   ],
   "source": [
    "s = \"\"\"\n",
    "print(x) # locals\n",
    "global y # globals\n",
    "y += 100\n",
    "\n",
    "z = x + y # locals\n",
    "\"\"\"\n",
    "\n",
    "g = {\"x\": 10, \"y\": 20}\n",
    "l = {\"x\": 1000}\n",
    "exec(s, g, l)"
   ]
  },
  {
   "cell_type": "markdown",
   "metadata": {},
   "source": [
    "在函数作用域内，locals 函数总是返回执行栈帧（stack frame) 名字空间。因此，即便显示提供 locals 名字看完我，也无法将其注入到动态代码中"
   ]
  },
  {
   "cell_type": "code",
   "execution_count": 38,
   "metadata": {},
   "outputs": [
    {
     "data": {
      "text/plain": [
       "140183978264840"
      ]
     },
     "execution_count": 38,
     "metadata": {},
     "output_type": "execute_result"
    }
   ],
   "source": [
    "s = \"\"\"\n",
    "print(id(locals()))\n",
    "def test():\n",
    "    print(id(locals()))\n",
    "test()\n",
    "\"\"\"\n",
    "ns = {}\n",
    "id(ns)"
   ]
  },
  {
   "cell_type": "code",
   "execution_count": 40,
   "metadata": {},
   "outputs": [
    {
     "name": "stdout",
     "output_type": "stream",
     "text": [
      "140183978264840\n",
      "140183975734536\n"
     ]
    }
   ],
   "source": [
    "exec(s, ns, ns) # test.locals() 和 ns.locals() 不同"
   ]
  },
  {
   "cell_type": "code",
   "execution_count": null,
   "metadata": {},
   "outputs": [],
   "source": []
  }
 ],
 "metadata": {
  "kernelspec": {
   "display_name": "Python 3",
   "language": "python",
   "name": "python3"
  },
  "language_info": {
   "codemirror_mode": {
    "name": "ipython",
    "version": 3
   },
   "file_extension": ".py",
   "mimetype": "text/x-python",
   "name": "python",
   "nbconvert_exporter": "python",
   "pygments_lexer": "ipython3",
   "version": "3.5.4"
  },
  "toc": {
   "base_numbering": 1,
   "nav_menu": {},
   "number_sections": true,
   "sideBar": true,
   "skip_h1_title": false,
   "title_cell": "Table of Contents",
   "title_sidebar": "Contents",
   "toc_cell": false,
   "toc_position": {},
   "toc_section_display": true,
   "toc_window_display": false
  }
 },
 "nbformat": 4,
 "nbformat_minor": 2
}
